{
 "cells": [
  {
   "cell_type": "code",
   "execution_count": null,
   "metadata": {},
   "outputs": [],
   "source": [
    "import requests\n",
    "import time"
   ]
  },
  {
   "cell_type": "code",
   "execution_count": null,
   "metadata": {},
   "outputs": [],
   "source": [
    "# API Login Information\n",
    "username = 'OOIAPI-J97520T1AYPUNI'\n",
    "token = 'TEMP-TOKEN-YD01XSNDIO57MP'\n",
    "\n",
    "# Sensor Base URL\n",
    "base_url = 'https://ooinet.oceanobservatories.org/api/m2m/12576/sensor/inv/'\n",
    "\n",
    "# Instrument Information\n",
    "subsite = 'RS03CCAL'\n",
    "node = 'MJ03F'\n",
    "sensor = '05-BOTPTA301'\n",
    "method = 'streamed'\n",
    "stream = 'botpt_nano_sample'"
   ]
  },
  {
   "cell_type": "markdown",
   "metadata": {},
   "source": [
    "#### Build a list of data request urls\n",
    "#### Iterate over the list\n",
    "#### Store the responses\n",
    "https://stackoverflow.com/questions/1060279/iterating-through-a-range-of-dates-in-python\n",
    "\n",
    "https://drive.google.com/open?id=1iZ4au6QGg6vLsu1_t5vb3Ue0-xtSbChz"
   ]
  },
  {
   "cell_type": "code",
   "execution_count": null,
   "metadata": {},
   "outputs": [],
   "source": [
    "from datetime import timedelta, date"
   ]
  },
  {
   "cell_type": "code",
   "execution_count": null,
   "metadata": {},
   "outputs": [],
   "source": [
    "# Create the request URL\n",
    "data_request_url ='/'.join((base_url,subsite,node,sensor,method,stream))\n",
    "\n",
    "from datetime import timedelta, date\n",
    "\n",
    "def daterange(start_date, end_date):\n",
    "    for n in range(int ((end_date - start_date).days)):\n",
    "        yield start_date + timedelta(n)\n",
    "beginDT= []\n",
    "endDT=[]\n",
    "start_date = date(2014, 1, 1)\n",
    "end_date = date(2014, 1, 5)\n",
    "for single_date in daterange(start_date, end_date):\n",
    "#      beginDT.append(single_date.strftime(\"%Y-%m-%d\" 'T00:01:01.0000'))\n",
    "#      endDT.append(single_date.strftime(\"%Y-%m-%d\" 'T23:59:59.9999'))\n",
    "       params = {\n",
    "             'beginDT':beginDT.append(single_date.strftime(\"%Y-%m-%d\" 'T00:01:01.0000')),\n",
    "             'endDT': endDT.append(single_date.strftime(\"%Y-%m-%d\" 'T23:59:59.9999')),   \n",
    "#         } \n",
    "       print(data_request_url, 'beginDT=',beginDT,'endDT=',endDT, username, token)\n",
    "#       #https://ooinet.oceanobservatories.org/api/m2m/12576/sensor/inv/RS03CCAL/MJ03F/05-BOTPTA301/streamed/\n",
    "#       #botpt_nano_sample?beginDT=2017-09-04T10:01:01.000Z&endDT=2017-09-05T10:01:01.000Z&limit=1000&parameters=PD848\n",
    "    \n",
    "#      #Data Request Line\n",
    "#       r = requests.get(data_request_url, params = params, auth=(username, token))\n",
    "#       data = r.json()"
   ]
  },
  {
   "cell_type": "code",
   "execution_count": null,
   "metadata": {},
   "outputs": [],
   "source": [
    "print(data)"
   ]
  },
  {
   "cell_type": "code",
   "execution_count": null,
   "metadata": {},
   "outputs": [],
   "source": [
    "endDT[0:5]"
   ]
  },
  {
   "cell_type": "code",
   "execution_count": null,
   "metadata": {},
   "outputs": [],
   "source": [
    "params = {'beginDT':beginDT, 'endDT': endDT}"
   ]
  },
  {
   "cell_type": "code",
   "execution_count": null,
   "metadata": {},
   "outputs": [],
   "source": []
  },
  {
   "cell_type": "markdown",
   "metadata": {},
   "source": [
    "#### WARNING\n",
    "#### Data request lines are commented out to prevent accidental resubmission when running through the entire notebook quickly."
   ]
  },
  {
   "cell_type": "code",
   "execution_count": null,
   "metadata": {},
   "outputs": [],
   "source": [
    "%%time\n",
    "check_complete = data['allURLs'][1] + '/status.txt'\n",
    "for i in range(1800): \n",
    "    r = requests.get(check_complete)\n",
    "    if r.status_code == requests.codes.ok:\n",
    "        print('request completed')\n",
    "        break\n",
    "    else:\n",
    "        time.sleep(1)"
   ]
  },
  {
   "cell_type": "code",
   "execution_count": null,
   "metadata": {},
   "outputs": [],
   "source": []
  }
 ],
 "metadata": {
  "kernelspec": {
   "display_name": "Python 3",
   "language": "python",
   "name": "python3"
  },
  "language_info": {
   "codemirror_mode": {
    "name": "ipython",
    "version": 3
   },
   "file_extension": ".py",
   "mimetype": "text/x-python",
   "name": "python",
   "nbconvert_exporter": "python",
   "pygments_lexer": "ipython3",
   "version": "3.6.6"
  }
 },
 "nbformat": 4,
 "nbformat_minor": 2
}
