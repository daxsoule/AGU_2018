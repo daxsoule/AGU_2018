{
 "cells": [
  {
   "cell_type": "code",
   "execution_count": null,
   "metadata": {},
   "outputs": [],
   "source": [
    "import pandas as pd\n",
    "import matplotlib.pyplot as plt\n",
    "import numpy as np\n",
    "import matplotlib.mlab as mlab\n",
    "import matplotlib.dates as dates\n",
    "import math\n",
    "from matplotlib.ticker import MaxNLocator"
   ]
  },
  {
   "cell_type": "markdown",
   "metadata": {},
   "source": [
    "### Write code that is \"Pythonic\": https://docs.python-guide.org/writing/style/\n",
    "#### The core of this is to be very descriptive and easy to read"
   ]
  },
  {
   "cell_type": "code",
   "execution_count": null,
   "metadata": {},
   "outputs": [],
   "source": [
    "seismic_file = './hypo71_2017.dat'\n",
    "seismic_data = pd.read_csv(seismic_file, delim_whitespace=True, dtype=object)"
   ]
  },
  {
   "cell_type": "markdown",
   "metadata": {},
   "source": [
    "#### Just to see what is in my data space"
   ]
  },
  {
   "cell_type": "code",
   "execution_count": null,
   "metadata": {},
   "outputs": [],
   "source": [
    "whos"
   ]
  },
  {
   "cell_type": "markdown",
   "metadata": {},
   "source": [
    "##### Examining the data space you can see that the pd.read_csv command gave us a Pandas \"DataFrame\"\n",
    "https://campus.datacamp.com/courses/pandas-foundations/data-ingestion-inspection?ex=1"
   ]
  },
  {
   "cell_type": "code",
   "execution_count": null,
   "metadata": {},
   "outputs": [],
   "source": [
    "seismic_data['datetime'] = seismic_data['yyyymmdd'] + 'T' + \\\n",
    "            seismic_data['HHMM'].str.slice(start=0, stop=2) + ':' + \\\n",
    "            seismic_data['HHMM'].str.slice(start=2) \n",
    "#+ ':' + seismic_data['SSS.SS']        \n",
    "\n",
    "seismic_data['datetime'] = pd.to_datetime(seismic_data['datetime'].values)\n",
    "# # x.index = x['datetime']"
   ]
  },
  {
   "cell_type": "code",
   "execution_count": null,
   "metadata": {},
   "outputs": [],
   "source": [
    "# The frist thing you do when you read in new data is take a look and see what you have.\n",
    "# I see a whole bunch \n",
    "seismic_data.head()"
   ]
  },
  {
   "cell_type": "code",
   "execution_count": null,
   "metadata": {},
   "outputs": [],
   "source": [
    "type(seismic_data.datetime[0])"
   ]
  },
  {
   "cell_type": "markdown",
   "metadata": {},
   "source": [
    "##### Read the documentation for the Pandas Timestamp; \n",
    "###### this is a thing... everyting is an object. Once you figure out what those objects are you have the ability to figure out what those things can do for you. Objects have methods and functions and properties. \n",
    "##### https://pandas.pydata.org/pandas-docs/stable/generated/pandas.Timestamp.html\n",
    "##### attributes are not callable. methods.... learn the difference. "
   ]
  },
  {
   "cell_type": "code",
   "execution_count": null,
   "metadata": {},
   "outputs": [],
   "source": [
    "# Example of an attribute \n",
    "seismic_data.datetime[0].day"
   ]
  },
  {
   "cell_type": "code",
   "execution_count": null,
   "metadata": {},
   "outputs": [],
   "source": [
    "# Example of a method.... kablamo this just gave us the unix time\n",
    "seismic_data.datetime[0].timestamp()"
   ]
  },
  {
   "cell_type": "code",
   "execution_count": null,
   "metadata": {},
   "outputs": [],
   "source": [
    "type(seismic_data.datetime[0].timestamp())"
   ]
  },
  {
   "cell_type": "code",
   "execution_count": null,
   "metadata": {},
   "outputs": [],
   "source": [
    "# If you want to know what you can do with an object\n",
    "dir(seismic_data.datetime[0])"
   ]
  },
  {
   "cell_type": "code",
   "execution_count": null,
   "metadata": {},
   "outputs": [],
   "source": [
    "#so to get the value\n",
    "seismic_data.datetime[0].value"
   ]
  },
  {
   "cell_type": "code",
   "execution_count": null,
   "metadata": {},
   "outputs": [],
   "source": [
    "#you can also get the data frame for a variable using the question mark. \n",
    "# Investigage what a \"Doc String\" is. It tells you about the object\n",
    "seismic_data?"
   ]
  },
  {
   "cell_type": "code",
   "execution_count": null,
   "metadata": {},
   "outputs": [],
   "source": [
    "# to learn a little about the timestamp object; The big thing to notice here is that he object is a series. \n",
    "test = seismic_data.datetime\n",
    "test?"
   ]
  },
  {
   "cell_type": "code",
   "execution_count": null,
   "metadata": {},
   "outputs": [],
   "source": [
    "# What can you do with a series?\n",
    "# We can look at all the different methods that a series has. \n",
    "dir(test)"
   ]
  },
  {
   "cell_type": "code",
   "execution_count": null,
   "metadata": {},
   "outputs": [],
   "source": [
    "#pro-tip...is you type a variable name followed by a period and hit \"tab\" all the options will appear. \n",
    "test."
   ]
  },
  {
   "cell_type": "markdown",
   "metadata": {},
   "source": [
    "##### Here you could go to the pandas documentation \n",
    "http://pandas.pydata.org/pandas-docs/stable/generated/pandas.Series.html\n",
    "\n",
    "Welcome to hell... "
   ]
  },
  {
   "cell_type": "code",
   "execution_count": null,
   "metadata": {},
   "outputs": [],
   "source": [
    "seismic_data.datetime.astype(np.int64).values/1e64"
   ]
  },
  {
   "cell_type": "code",
   "execution_count": null,
   "metadata": {},
   "outputs": [],
   "source": []
  },
  {
   "cell_type": "code",
   "execution_count": null,
   "metadata": {},
   "outputs": [],
   "source": [
    "# We might make more progress if we thought about how Pandas does groupby day time stamps\n",
    "# One of the most powerfull things Pandas can do is groupby \n",
    "# So we want to perhaps group by day... and once we have done that we can get stats by day. "
   ]
  },
  {
   "cell_type": "code",
   "execution_count": null,
   "metadata": {},
   "outputs": [],
   "source": [
    "seismic_data['date']=pd.DatetimeIndex(seismic_data.datetime).date"
   ]
  },
  {
   "cell_type": "code",
   "execution_count": null,
   "metadata": {},
   "outputs": [],
   "source": [
    "seismic_data.groupby('date').count()"
   ]
  },
  {
   "cell_type": "code",
   "execution_count": null,
   "metadata": {},
   "outputs": [],
   "source": [
    "seismic_data.groupby('date').size()"
   ]
  },
  {
   "cell_type": "code",
   "execution_count": null,
   "metadata": {},
   "outputs": [],
   "source": [
    "seismic_data.groupby('date').size().hist()\n",
    "\n",
    "ax = ax[0]\n",
    "for x in ax:\n",
    "\n",
    "    # Despine\n",
    "    x.spines['right'].set_visible(False)\n",
    "    x.spines['top'].set_visible(False)\n",
    "    x.spines['left'].set_visible(False)\n",
    "\n",
    "#     # Switch off ticks\n",
    "#     x.tick_params(axis=\"both\", which=\"both\", bottom=\"off\", top=\"off\", labelbottom=\"on\", left=\"off\", right=\"off\", labelleft=\"on\")\n",
    "\n",
    "#     # Draw horizontal axis lines\n",
    "#     vals = x.get_yticks()\n",
    "#     for tick in vals:\n",
    "#         x.axhline(y=tick, linestyle='dashed', alpha=0.4, color='#eeeeee', zorder=1)\n",
    "\n",
    "#     # Remove title\n",
    "#     x.set_title(\"\")\n",
    "\n",
    "#     # Set x-axis label\n",
    "#     x.set_xlabel(\"Session Duration (Seconds)\", labelpad=20, weight='bold', size=12)\n",
    "\n",
    "#     # Set y-axis label\n",
    "#     x.set_ylabel(\"Sessions\", labelpad=20, weight='bold', size=12)\n",
    "\n",
    "#     # Format y-axis label\n",
    "#     x.yaxis.set_major_formatter(StrMethodFormatter('{x:,g}'))"
   ]
  },
  {
   "cell_type": "code",
   "execution_count": null,
   "metadata": {},
   "outputs": [],
   "source": [
    "ax = seismic_data.groupby('date').size().plot()\n"
   ]
  },
  {
   "cell_type": "code",
   "execution_count": null,
   "metadata": {},
   "outputs": [],
   "source": [
    "seis_times = list(pd.to_datetime(seismic_data['datetime'].values))\n",
    "seis_mag = list(seismic_data['MW'].values)\n",
    "seis_ordinal= list(seismic_data['yyyymmdd'].values + seismic_data['HHMM'].values)\n",
    "\n",
    "## time\n",
    "time = []\n",
    "time_pd = list(pd.to_datetime(seismic_data['datetime'].values))\n",
    "for i in time_pd:\n",
    "    i = np.datetime64(i).astype(seismic_data.datetime)\n",
    "    time.append(dates.date2num(i))"
   ]
  },
  {
   "cell_type": "code",
   "execution_count": null,
   "metadata": {},
   "outputs": [],
   "source": [
    "fig, ax = plt.subplots()\n",
    "fig.set_size_inches(28, 6)\n",
    "\n",
    "plt.plot(seis_times,seis_mag, linestyle='None', marker='o', markersize=1, color='black')\n",
    "\n",
    "\n",
    "years = dates.YearLocator()\n",
    "months = dates.MonthLocator()\n",
    "yearsFmt = dates.DateFormatter('\\n\\n%Y')\n",
    "monthsFmt = dates.DateFormatter('%b')\n",
    "ax.xaxis.set_major_locator(months)\n",
    "ax.xaxis.set_major_formatter(monthsFmt)\n",
    "ax.xaxis.set_minor_locator(years)\n",
    "ax.xaxis.set_minor_formatter(yearsFmt)\n",
    "\n",
    "ax.yaxis.set_major_locator(MaxNLocator(integer=True))\n",
    "\n",
    "plt.grid()\n",
    "plt.tight_layout()\n",
    "plt.show()\n"
   ]
  },
  {
   "cell_type": "markdown",
   "metadata": {},
   "source": [
    "### Let's convert time to ordinal values\n",
    "##### Investigate Pandas groupby.... "
   ]
  },
  {
   "cell_type": "markdown",
   "metadata": {},
   "source": [
    "# go to epoch time \n",
    "\n"
   ]
  },
  {
   "cell_type": "markdown",
   "metadata": {},
   "source": [
    "### Make a histogram --- bin size might be on the scale of minutes or hours; as fine as possible \n"
   ]
  },
  {
   "cell_type": "code",
   "execution_count": null,
   "metadata": {},
   "outputs": [],
   "source": [
    "plt.close()\n",
    "fig, ax = plt.subplots()\n",
    "fig.set_size_inches(16, 6)\n",
    "\n",
    "hb1 = ax.hexbin(time, seis_mag, bins='log', vmin=-.5, vmax=3, gridsize=(1100, 100), mincnt=1, cmap='Blues')\n",
    "fig.colorbar(hb1)\n",
    "ax.yaxis.grid(True)\n",
    "ax.xaxis.grid(True)\n",
    "# ax.set_xlim(datetime.datetime(2015, 12, 1, 0, 0),datetime.datetime(2016, 7, 25, 0, 0))\n",
    "# ax.set_ylim(2,11)\n",
    "years = dates.YearLocator()\n",
    "months = dates.MonthLocator()\n",
    "yearsFmt = dates.DateFormatter('\\n\\n\\n%Y')\n",
    "monthsFmt = dates.DateFormatter('%b')\n",
    "ax.xaxis.set_major_locator(months)\n",
    "ax.xaxis.set_major_formatter(monthsFmt)\n",
    "ax.xaxis.set_minor_locator(years)\n",
    "ax.xaxis.set_minor_formatter(yearsFmt)\n",
    "plt.tight_layout()\n",
    "plt.setp(ax.xaxis.get_majorticklabels(), rotation=90)\n",
    "plt.ylabel('Temperature $^\\circ$C')\n",
    "plt.xlabel('Time')\n",
    "plt.show()"
   ]
  },
  {
   "cell_type": "code",
   "execution_count": null,
   "metadata": {},
   "outputs": [],
   "source": [
    "fig.set_size_inches(16, 6)\n",
    "n, bins, patches = plt.hist(time, 1000, color='#0504aa',\n",
    "                            alpha=0.7, rwidth=0.85)\n",
    "plt.grid(axis='y', alpha=0.75)\n",
    "plt.xlabel('time')\n",
    "plt.ylabel('Frequency')\n",
    "plt.title('My Very Own Histogram')\n",
    "plt.text(23, 45, r'$\\mu=15, b=3$')\n",
    "maxfreq = n.max()\n",
    "# Set a clean upper y-axis limit.\n",
    "plt.ylim(top=np.ceil(maxfreq / 10) * 10 if maxfreq % 10 else maxfreq + 10)"
   ]
  },
  {
   "cell_type": "markdown",
   "metadata": {},
   "source": [
    "### Plot aa discrete points \n",
    "### Build a running average filter. \n"
   ]
  },
  {
   "cell_type": "code",
   "execution_count": null,
   "metadata": {},
   "outputs": [],
   "source": []
  }
 ],
 "metadata": {
  "kernelspec": {
   "display_name": "Python [conda env:conda]",
   "language": "python",
   "name": "conda-env-conda-py"
  },
  "language_info": {
   "codemirror_mode": {
    "name": "ipython",
    "version": 3
   },
   "file_extension": ".py",
   "mimetype": "text/x-python",
   "name": "python",
   "nbconvert_exporter": "python",
   "pygments_lexer": "ipython3",
   "version": "3.6.3"
  }
 },
 "nbformat": 4,
 "nbformat_minor": 2
}
