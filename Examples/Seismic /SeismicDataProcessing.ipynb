{
 "cells": [
  {
   "cell_type": "markdown",
   "metadata": {},
   "source": [
    "# Seismic Data Processing & Cabled Arrays \n",
    "\n",
    "![cabled_array](./FIGURES/cabled_array.jpg)"
   ]
  },
  {
   "cell_type": "markdown",
   "metadata": {},
   "source": [
    "The following notebook is intended to give you an overview of the key methods used to **download**, **process** and **view** seismic data. Hopefully, at the end of this notebook, you'll be able to play a little bit around with your own data !\n",
    "\n",
    "The functions and modules used in this notebook are largely inspired from those developped in the [**ObsPy**](https://github.com/obspy/obspy/wiki) package. ObsPy offers a broad range of [functions](https://docs.obspy.org/packages/index.html) whose aim is to standardize and ease the maniuplation of seismic data.\n",
    "\n",
    "In this notebook we'll focus our study on the **OOI** (and **ONC**...) cabled arrays\n",
    "\n"
   ]
  },
  {
   "cell_type": "markdown",
   "metadata": {},
   "source": [
    "## Yaml ! Yaml! Install the correct conda environment\n",
    "\n",
    "Not everybody has the same python packages installed on its own computer, but to run this notebook we need some specific packages, that can be grouped into one **conda environment**. So, if is not already done, install [conda](https://www.anaconda.com/download/#linux). \n",
    "\n",
    "When it's done, let's create an environment `myenv` from the following file [SeismicDataProcessing.yml](./SeismicDataProcessing.yml). Copy paste the following command line in your terminal:  \n",
    "`conda env create -n myenv -f SeismicDataProcessing.yml`\n",
    "\n",
    "That might take some time! No worry!\n",
    "\n",
    "Then activate the environment `myenv`. Copy paste the following command line in your terminal:  \n",
    "`source activate myenv`\n",
    "\n",
    "You can now run the notebook :)"
   ]
  },
  {
   "cell_type": "markdown",
   "metadata": {},
   "source": [
    "## Let's import some useful packages !"
   ]
  },
  {
   "cell_type": "code",
   "execution_count": null,
   "metadata": {},
   "outputs": [],
   "source": [
    "import matplotlib.pyplot as plt\n",
    "import matplotlib\n",
    "import numpy as np\n",
    "import copy\n",
    "import pickle\n",
    "from datetime import datetime\n",
    "from obspy import UTCDateTime\n",
    "import sys"
   ]
  },
  {
   "cell_type": "code",
   "execution_count": null,
   "metadata": {},
   "outputs": [],
   "source": [
    "print(sys.path)"
   ]
  },
  {
   "cell_type": "markdown",
   "metadata": {},
   "source": [
    "## Accessing the network metadata\n",
    "\n",
    "The **metadata** contains all useful details needed to describe the network (number of stations and coordinates, type of channels...). The **metadata** is different from the **waveform data** itself but they are complementary if we want to process correctly the waveforms.\n",
    "\n",
    "Once you start a new research subject related to seismology, the first thing you need is the code (i.e. \"AZ\" or \"BB\") related to your network. A large number of networks are listed on [**IRIS**](http://ds.iris.edu/mda).\n",
    "\n",
    "Here, we'll use the networks codes [\"OO\"](http://ds.iris.edu/mda/OO)(Ocean Observatories Initiative) and [\"NV\"](http://ds.iris.edu/mda/NV)(formerly Neptune Canada and now Ocean Networks Canada).\n",
    "\n",
    "Let's see how to get the metadata associated to our network."
   ]
  },
  {
   "cell_type": "markdown",
   "metadata": {},
   "source": [
    "First we need to initialize a `Client` object which will help us retrieve the data by redirecting to the appropriate webservice. The argument given to `Client` can be the webservice name or it's URL. "
   ]
  },
  {
   "cell_type": "code",
   "execution_count": null,
   "metadata": {},
   "outputs": [],
   "source": [
    "from obspy.clients.fdsn import Client\n",
    "\n",
    "client_name='IRIS'\n",
    "client_name='http://service.iris.edu'\n",
    "\n",
    "client=Client(client_name)\n",
    "\n",
    "print(client)"
   ]
  },
  {
   "cell_type": "markdown",
   "metadata": {},
   "source": [
    "See below the list of pre-registered webservices in ObsPy:"
   ]
  },
  {
   "cell_type": "code",
   "execution_count": null,
   "metadata": {},
   "outputs": [],
   "source": [
    "from obspy.clients.fdsn.header import URL_MAPPINGS\n",
    "\n",
    "for key in sorted(URL_MAPPINGS.keys()):\n",
    "    print(\"{0:<7} {1}\".format(key,  URL_MAPPINGS[key]))"
   ]
  },
  {
   "cell_type": "markdown",
   "metadata": {},
   "source": [
    "Now that the `Client` has been loaded we can retrieve our network info:"
   ]
  },
  {
   "cell_type": "code",
   "execution_count": null,
   "metadata": {},
   "outputs": [],
   "source": [
    "### Parameters\n",
    "\n",
    "#net_code='NV'\n",
    "net_code='NV,OO'\n",
    "\n",
    "starttime = UTCDateTime(\"2015-01-01\")\n",
    "endtime = UTCDateTime(\"2015-01-02\")\n",
    "\n",
    "### Read network data\n",
    "\n",
    "inventory = client.get_stations(network=net_code,\n",
    "                                starttime=starttime,\n",
    "                                endtime=endtime)\n",
    "\n",
    "print(inventory)\n",
    "\n",
    "### Plot inventory\n",
    "plt.ioff()\n",
    "inventory.plot(color_per_network=True) ### Plot global\n",
    "inventory.plot(projection='local',color_per_network=True) ### Plot local\n",
    "plt.show()"
   ]
  },
  {
   "cell_type": "markdown",
   "metadata": {},
   "source": [
    "It is possible to be more specific when requesting the data, for example by choosing only the vertical channels (i.e. Z). Wildcards can be used to specify `network`,`station` or `channel` parameters. \n",
    "\n",
    "> **Tip**: To get more info you can also specify the `level`. When `level=\"response\"` is set, it means we will retrieve the instrument response parameters which are indispensable to correct our waveforms, we'll see that later ;)"
   ]
  },
  {
   "cell_type": "code",
   "execution_count": null,
   "metadata": {},
   "outputs": [],
   "source": [
    "inventory = client.get_stations(network='OO',station='AXAS1,AXAS2',channel='*Z',\n",
    "                                starttime=starttime,\n",
    "                                endtime=endtime,level=\"channel\")\n",
    "print(inventory)\n"
   ]
  },
  {
   "cell_type": "markdown",
   "metadata": {},
   "source": [
    "After loading the `Inventory` object it's also possible to select some specific stations afterwards:"
   ]
  },
  {
   "cell_type": "code",
   "execution_count": null,
   "metadata": {},
   "outputs": [],
   "source": [
    "inventory_select = inventory.select(channel=\"*Z\", station=\"AXAS1\")\n",
    "print(inventory_select)"
   ]
  },
  {
   "cell_type": "markdown",
   "metadata": {},
   "source": [
    "### Instrument Response\n",
    "\n",
    "Amplitudes observed on seismograms do not relate directly to the true ground motion. The true motion recorded is actually a combination of source characteristics, raypath attenuation and instrument filtering. Thus the amplitude read on a seismogram can be represented as the following convolution:\n",
    "\n",
    "$u(t)= s(t)*r(t)*i(t)$\n",
    "\n",
    "where $s$ depicts the source , $r$ is the attenuation and $i$ is the instrument filter.\n",
    "In the frequency domain, convolution becomes a simple multiplication. Thus by applying a Fourier transform to the seismogram, dividing by the instrument response $I(\\omega)$, and going back to the time domain, we can remove the effect of the instrument on the particle motion.\n",
    "\n",
    "Let's plot the instrument response for a specific channel:"
   ]
  },
  {
   "cell_type": "code",
   "execution_count": null,
   "metadata": {},
   "outputs": [],
   "source": [
    "inventory = client.get_stations(network='OO',station='AXAS1',channel='EHZ',\n",
    "                                starttime=starttime,\n",
    "                                endtime=endtime,level=\"response\")\n",
    "\n",
    "inventory.plot_response(min_freq=0.001)\n",
    "plt.show()"
   ]
  },
  {
   "cell_type": "markdown",
   "metadata": {},
   "source": [
    "> We'll see later how to remove the  instrument response, be patient ;)"
   ]
  },
  {
   "cell_type": "markdown",
   "metadata": {},
   "source": [
    "### Station inventory I/O\n",
    "\n",
    "The inventory can also be written to a file, so that it can be stored locally on your computer for later use:"
   ]
  },
  {
   "cell_type": "code",
   "execution_count": null,
   "metadata": {},
   "outputs": [],
   "source": [
    "inventory = client.get_stations(network='OO',station='AXAS1',channel='*',\n",
    "                                starttime=starttime,\n",
    "                                endtime=endtime,level=\"response\")\n",
    "\n",
    "#help(inventory.write) # to check available format\n",
    "inventory.write('station.xml',format='STATIONXML')\n"
   ]
  },
  {
   "cell_type": "markdown",
   "metadata": {},
   "source": [
    "> **Tip**: You can check what's inside your `.xml` file by dragging and dropping it directly to your favorite webbrowser. Please take some time to do it as it contains some useful info.\n",
    "\n",
    "> <font color=blue>**Info**</font>: [Station XML](https://www.fdsn.org/xml/station/) files have become the new standard to handle station metadata, it's much more comprehensible than dataless SEED files."
   ]
  },
  {
   "cell_type": "markdown",
   "metadata": {},
   "source": [
    "## Let's get some waveforms!\n",
    "\n",
    "So far we have seen how to get the metadata associated to a network, it's now time to see what mother earth has to give!\n",
    "\n",
    "### Reading seismograms\n",
    "\n",
    "The method is pretty similar than the one used for getting stations metadata, except that here we'll use the `.get_waveforms` method instead of `.get_stations` (hard to make it simpler !). The output is then redirected to a `Stream` object instead of an `Inventory` object."
   ]
  },
  {
   "cell_type": "code",
   "execution_count": null,
   "metadata": {},
   "outputs": [],
   "source": [
    "starttime = UTCDateTime(\"2015-01-22T10:34:21\")\n",
    "duration = 20\n",
    "\n",
    "st = client.get_waveforms(network='OO',station='AX*',location=\"*\",channel='E*Z',\n",
    "                                starttime=starttime,\n",
    "                                endtime=starttime+duration)\n",
    "\n",
    "print(type(st))\n",
    "print(st)\n",
    "print(st.print_gaps())"
   ]
  },
  {
   "cell_type": "markdown",
   "metadata": {},
   "source": [
    "A `Stream` object can have multiple `Trace` objects. To access some info about the trace you can do:"
   ]
  },
  {
   "cell_type": "code",
   "execution_count": null,
   "metadata": {},
   "outputs": [],
   "source": [
    "trace=st[0]\n",
    "print(type(trace))\n",
    "print(trace.stats)\n",
    "print(trace.times())\n",
    "print(trace.data)"
   ]
  },
  {
   "cell_type": "markdown",
   "metadata": {},
   "source": [
    "### Plotting seismograms\n",
    "\n",
    "You can choose to plot the data by yourself by getting `trace.data` and `trace.times()` but ObsPy offers convenient methods to plot seismograms without directly dealing with the data.\n",
    "\n",
    "* Classic plots :"
   ]
  },
  {
   "cell_type": "code",
   "execution_count": null,
   "metadata": {},
   "outputs": [],
   "source": [
    "st.plot()"
   ]
  },
  {
   "cell_type": "markdown",
   "metadata": {},
   "source": [
    "* Day plots:"
   ]
  },
  {
   "cell_type": "code",
   "execution_count": null,
   "metadata": {},
   "outputs": [],
   "source": [
    "starttime = UTCDateTime(\"2015-01-22T00:00:00\")\n",
    "\n",
    "st = client.get_waveforms(network='OO',station='AXAS2',location=\"*\",channel='E*Z',\n",
    "                                starttime=starttime,\n",
    "                                endtime=starttime+86400)\n",
    "\n",
    "trace=st[0]\n",
    "trace.plot(type='dayplot',color=['k', 'r', 'b', 'g'],interval=60) ## interval is in minutes and can be changed"
   ]
  },
  {
   "cell_type": "markdown",
   "metadata": {},
   "source": [
    "> We can see that the above trace has missing values, let's see how we can handle gaps!\n",
    "\n",
    "### Handling gaps\n",
    "\n",
    "With the `Stream.merge` method we can fill gaps with user defined values. The method will merge traces that have same ids (i.e. same station + loc + channel code). "
   ]
  },
  {
   "cell_type": "code",
   "execution_count": null,
   "metadata": {},
   "outputs": [],
   "source": [
    "st_filled_gaps=None\n",
    "st_filled_gaps=copy.deepcopy(st)\n",
    "#print(st_filled_gaps[0].stats)\n",
    "#print(st_filled_gaps[1].stats)\n",
    "st_filled_gaps[0].stats.sampling_rate=200  # allow merging\n",
    "st_filled_gaps.merge(method=0, fill_value=0)\n",
    "\n",
    "trace=st_filled_gaps[0]\n",
    "trace.plot(type='dayplot',color=['k', 'r', 'b', 'g'],interval=60) ## interval is in minutes and can be changed\n"
   ]
  },
  {
   "cell_type": "markdown",
   "metadata": {},
   "source": [
    "Using ObsPy utilities to load data and detect gaps it's possible to plot a figure showing the data coverage for a specific network and for a defined time range, see example below for network ONC (~7 years):\n",
    "\n",
    "![ONC](./FIGURES/ONC.png)"
   ]
  },
  {
   "cell_type": "markdown",
   "metadata": {},
   "source": [
    "### Processing seismograms\n",
    "\n",
    "#### Filtering\n",
    "\n",
    "As you can see from the plot above, seimic onsets generated by earthquakes are sometimes hard to see on raw seismograms, this is particularly true in noisy environments and for low magnitudes earthquakes. It's generally a good idea to filter the seismograms to enhance the signal associated to an earthquake, let's take a single trace to see that."
   ]
  },
  {
   "cell_type": "code",
   "execution_count": null,
   "metadata": {},
   "outputs": [],
   "source": [
    "starttime = UTCDateTime(\"2015-01-22T10:34:25\")\n",
    "duration = 20\n",
    "\n",
    "st = client.get_waveforms(network='OO',station='AXAS1',location=\"*\",channel='E*Z',\n",
    "                                starttime=starttime,\n",
    "                                endtime=starttime+duration)\n",
    "\n",
    "st.merge()\n",
    "trace=st[0]"
   ]
  },
  {
   "cell_type": "markdown",
   "metadata": {},
   "source": [
    "> **Info**: Generally one should take care when choosing the higher corner frequency as it shouldn't exceed the Nyquist frequency, here, ObsPy will take care of that by sending a warning if necessary!"
   ]
  },
  {
   "cell_type": "code",
   "execution_count": null,
   "metadata": {},
   "outputs": [],
   "source": [
    "trace.plot()\n",
    "\n",
    "#### Apply different to the trace\n",
    "\n",
    "trace_filter=copy.copy(trace)\n",
    "trace_filter.filter('bandpass', freqmin=5.0, freqmax=50,corners=3, zerophase=True)\n",
    "trace_filter.plot()\n",
    "\n",
    "trace_filter=copy.copy(trace)\n",
    "trace_filter.filter('highpass', freq=50.0, corners=2, zerophase=True)\n",
    "trace_filter.plot()\n",
    "\n",
    "trace_filter=copy.copy(trace)\n",
    "trace_filter.filter('lowpass', freq=5.0, corners=2, zerophase=True)\n",
    "trace_filter.plot()"
   ]
  },
  {
   "cell_type": "markdown",
   "metadata": {},
   "source": [
    "#### Spectrograms"
   ]
  },
  {
   "cell_type": "code",
   "execution_count": null,
   "metadata": {},
   "outputs": [],
   "source": [
    "starttime = UTCDateTime(\"2015-01-22T00:00:00\")\n",
    "duration = 60*10 # Let's take 10 minutes\n",
    "\n",
    "st = client.get_waveforms(network='OO',station='AXAS1',location=\"*\",channel='E*Z',\n",
    "                                starttime=starttime,\n",
    "                                endtime=starttime+duration)\n",
    "\n",
    "st.merge()\n",
    "trace=st[0]\n",
    "\n",
    "trace_filter=copy.copy(trace)\n",
    "trace_filter.filter('bandpass', freqmin=5.0, freqmax=50,corners=3, zerophase=True)\n",
    "\n",
    "trace_filter.plot()\n",
    "\n",
    "#fig,ax=plt.subplots()\n",
    "\n",
    "cmap= matplotlib.cm.get_cmap('jet')\n",
    "\n",
    "trace_filter.spectrogram(cmap=cmap,wlen=20,per_lap=0.9)\n"
   ]
  },
  {
   "cell_type": "markdown",
   "metadata": {},
   "source": [
    "#### Remove instrument response\n",
    "\n",
    "To remove the instrument response we need to load the `Stream` object with the response attached to it:"
   ]
  },
  {
   "cell_type": "code",
   "execution_count": null,
   "metadata": {},
   "outputs": [],
   "source": [
    "starttime = UTCDateTime(\"2015-01-22T10:34:00\")\n",
    "duration = 60 # Let's take 10 minutes\n",
    "\n",
    "st = client.get_waveforms(network='OO',station='AXAS1',location=\"*\",channel='E*Z',\n",
    "                                starttime=starttime,\n",
    "                                endtime=starttime+duration,attach_response=True)\n",
    "\n",
    "trace=st[0]\n",
    "\n",
    "trace_sensi=trace.copy()\n",
    "trace_sensi.remove_sensitivity()  # This removes the multiplication factor applied to the seismogram\n",
    "trace.plot()\n",
    "trace_sensi.plot()\n",
    "pre_filt = [0.5, 1, 50, 70]\n",
    "trace.remove_response(output=\"DISP\",plot=True,water_level=0)\n",
    "\n",
    "trace_filter=trace.copy()\n",
    "\n",
    "trace_filter.filter('bandpass', freqmin=5.0, freqmax=50,corners=3)\n",
    "trace_filter.plot()\n",
    "\n"
   ]
  },
  {
   "cell_type": "markdown",
   "metadata": {},
   "source": [
    "### Saving seismograms to file\n",
    "\n",
    "Once you loaded the seismograms into the `Stream` object, you may want to save them locally to gain some time by avoiding making request to the webservice every time you want to play around with the data. To do so:"
   ]
  },
  {
   "cell_type": "code",
   "execution_count": null,
   "metadata": {},
   "outputs": [],
   "source": [
    "st = client.get_waveforms(network='OO',station='AXAS1',location=\"*\",channel='E*Z',\n",
    "                                starttime=starttime,\n",
    "                                endtime=starttime+duration,attach_response=True)\n",
    "st.write('mytrace.mseed',format='MSEED')"
   ]
  },
  {
   "cell_type": "markdown",
   "metadata": {},
   "source": [
    "And to load it back just do:"
   ]
  },
  {
   "cell_type": "code",
   "execution_count": null,
   "metadata": {},
   "outputs": [],
   "source": [
    "from obspy import read\n",
    "\n",
    "new_st=read('mytrace.mseed',format='MSEED')\n",
    "\n",
    "print(new_st)"
   ]
  },
  {
   "cell_type": "markdown",
   "metadata": {},
   "source": [
    "### Plotting picks on top of seismograms\n",
    "\n",
    "When having onset picks from seismological catalog it's possible to plot them on top of waveforms, see example below when using a function derived from [ObsPyck](https://github.com/megies/obspyck):\n",
    "\n",
    "![Waveforms](./FIGURES/Waveforms.png)"
   ]
  },
  {
   "cell_type": "markdown",
   "metadata": {},
   "source": [
    "> Figure: OOI network example with P (black) and S (red) onsets "
   ]
  }
 ],
 "metadata": {
  "kernelspec": {
   "display_name": "Python 3",
   "language": "python",
   "name": "python3"
  },
  "language_info": {
   "codemirror_mode": {
    "name": "ipython",
    "version": 3
   },
   "file_extension": ".py",
   "mimetype": "text/x-python",
   "name": "python",
   "nbconvert_exporter": "python",
   "pygments_lexer": "ipython3",
   "version": "3.6.5"
  }
 },
 "nbformat": 4,
 "nbformat_minor": 2
}
