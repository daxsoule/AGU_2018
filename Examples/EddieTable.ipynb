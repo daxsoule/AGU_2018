{
 "cells": [
  {
   "cell_type": "code",
   "execution_count": null,
   "metadata": {},
   "outputs": [],
   "source": [
    "import pandas as pd\n",
    "import hvplot.pandas\n",
    "import numpy as np\n",
    "import matplotlib.pyplot as plt\n",
    "import six"
   ]
  },
  {
   "cell_type": "code",
   "execution_count": null,
   "metadata": {},
   "outputs": [],
   "source": [
    "pd.set_option('display.max_colwidth', 0)\n",
    "modules = {'Modules': ['Lake Ice Phenology','Lake Metabolism', 'Lake Mixing', 'Lake Modeling', 'Stream Discharge', 'Water Quality',\n",
    "                       'Soil Respiration', 'Nutrient Loading', 'Climate Change', 'Spectral Seismology'], \n",
    "        'Description': ['Explore long-term ice-off datasets from several lakes and use linear regression',\n",
    "                        'Use simple conceptual and mathematical models to calculate estimates of metabolism',\n",
    "                        'Explore spatial and temporal patterns of lake mixing',\n",
    "                        'Use a lake model to explore the effects of altered weather on lakes',\n",
    "                        'Explore real-time stream discharge data available from the USGS',\n",
    "                        'Explore factors contributing to the variability of nitrate in surface waters',\n",
    "                        'Explore climate variables and the emissions of C (as CO2) from soils ', \n",
    "                        'Calculate nitrate loads using realtime nitrate data from the USGS',\n",
    "                        'Explore how climate is changing and compare current patterns to pre-historic rates of change', \n",
    "                        'Explore the nature of waveforms in the time and frequency domain']}\n",
    "df_Modules = pd.DataFrame(modules, columns = ['Modules', 'Description'])\n",
    "df_Modules.set_index('Modules',inplace=True)\n",
    "\n",
    "def render_mpl_table(data, col_width=7.0, row_height=0.625, font_size=24,\n",
    "                     header_color='#40466e', row_colors=['#f1f1f2', 'w'], edge_color='w',\n",
    "                     bbox=[0, 0, 10, 1], header_columns=0,\n",
    "                     ax=None, **kwargs):\n",
    "    if ax is None:\n",
    "        size = (np.array(data.shape[::-1]) + np.array([0,1])) * np.array([col_width, row_height])\n",
    "        fig, ax = plt.subplots(figsize=size)\n",
    "        ax.axis('off')\n",
    "\n",
    "    mpl_table = ax.table(cellText=data.values, bbox=bbox, colLabels=data.columns, **kwargs)\n",
    "\n",
    "    mpl_table.auto_set_font_size(False)\n",
    "    mpl_table.set_fontsize(font_size)\n",
    "\n",
    "    for k, cell in  six.iteritems(mpl_table._cells):\n",
    "        cell.set_edgecolor(edge_color)\n",
    "        if k[0] == 0 or k[1] < header_columns:\n",
    "            cell.set_text_props(weight='bold', color='w')\n",
    "            cell.set_facecolor(header_color)\n",
    "        else:\n",
    "            cell.set_facecolor(row_colors[k[0]%len(row_colors) ])\n",
    "    return ax\n",
    "\n",
    "render_mpl_table(df_Modules, header_columns=0,col_width=2.0)"
   ]
  },
  {
   "cell_type": "code",
   "execution_count": null,
   "metadata": {},
   "outputs": [],
   "source": []
  }
 ],
 "metadata": {
  "kernelspec": {
   "display_name": "Python 3",
   "language": "python",
   "name": "python3"
  },
  "language_info": {
   "codemirror_mode": {
    "name": "ipython",
    "version": 3
   },
   "file_extension": ".py",
   "mimetype": "text/x-python",
   "name": "python",
   "nbconvert_exporter": "python",
   "pygments_lexer": "ipython3",
   "version": "3.6.6"
  }
 },
 "nbformat": 4,
 "nbformat_minor": 2
}
