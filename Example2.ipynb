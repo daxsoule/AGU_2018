{
 "cells": [
  {
   "cell_type": "markdown",
   "metadata": {},
   "source": [
    "### Seismic Code\n",
    "I think the goal is to link earthquakes to the current rate of tilt / inflation.  They cannot measure that very effectively so they have to average over some period (e.g. the inflation estimate now is based on the past 12 weeks) so I think you should be averaging earthquakes over the same interval and comparing that.  Averaging earthquakes is useful too because I do not think you can explain the daily variations which also depend on the tides that day (there are more earthquakes during spring tides)\n",
    "\n",
    "differential pressure data will allow meaningful inflation rates over a shorter interval.  It is clear from the plot for the last 6 months that the June-July >4 week earthquake pause was caused by inflation rates that reversed for just 2 weeks but that earthquakes did not resume until inflation reached its previous maximum level.\n",
    "\n",
    "taking the vector at the caldera center as an example, during inflation it tilts east, and during deflation it tilts west.  The best fitting prolate spheroid model (fitting the pressure data only) would predict more or less the opposite, or WNW during inflation and ESE during deflation.  To get the caldera center to tilt east during inflation with a prolate spheroid model, the prolate spheroid would have to dip more steeply to the WNW - that would move the center of uplift further to the WNW, to the other side of the tiltmeter.  Thinking about the seismogenic caldera faults, we haven't done any modeling yet, but my intuition tell me that inflationary slip along an outward dipping caldera fault under the east wall should also make the caldera center tilt to the west during inflation (opposite to what we observe), but maybe it depends on the exact location and dip and amount of slip on the faults, and also the relative slip on the faults under the western and eastern walls.  Or maybe there's another shallow pressure source just to the west of the caldera center station (?)."
   ]
  },
  {
   "cell_type": "code",
   "execution_count": null,
   "metadata": {},
   "outputs": [],
   "source": []
  }
 ],
 "metadata": {
  "kernelspec": {
   "display_name": "Python [default]",
   "language": "python",
   "name": "python3"
  },
  "language_info": {
   "codemirror_mode": {
    "name": "ipython",
    "version": 3
   },
   "file_extension": ".py",
   "mimetype": "text/x-python",
   "name": "python",
   "nbconvert_exporter": "python",
   "pygments_lexer": "ipython3",
   "version": "3.6.3"
  }
 },
 "nbformat": 4,
 "nbformat_minor": 2
}
