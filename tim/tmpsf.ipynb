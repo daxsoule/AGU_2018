{
 "cells": [
  {
   "cell_type": "code",
   "execution_count": null,
   "metadata": {},
   "outputs": [],
   "source": [
    "import driveanon as da"
   ]
  },
  {
   "cell_type": "code",
   "execution_count": null,
   "metadata": {},
   "outputs": [],
   "source": [
    "blob_ids = ['1w-f9wRHqHr5Uqe7MXwC2XKAD1cupn5yF',\n",
    "            '1XgYcdx5ZvQIkhtWGZU73-MJ6sWAv2YuS',\n",
    "            '1vB0g0ksFty4wzR1YP38OcqemmS5QXax_',\n",
    "            '1kyKo24QAcIc8qFXLwMZhHBaAI3JLdJis',\n",
    "            '1z2gjfFcpqPbcfyhWam6FNdDG7ltXYKn1',\n",
    "            '1RNGWfEoJU5DhWt9df72PHH9FmFT86xa0']"
   ]
  },
  {
   "cell_type": "code",
   "execution_count": null,
   "metadata": {},
   "outputs": [],
   "source": [
    "for blob_id in blob_ids:\n",
    "    da.save(blob_id)\n",
    "    print(blob_id)"
   ]
  },
  {
   "cell_type": "code",
   "execution_count": null,
   "metadata": {},
   "outputs": [],
   "source": [
    "file_list = ['deployment0001_RS03ASHS-MJ03B-07-TMPSFA301-streamed-tmpsf_sample_20140929T190312-20141231T235952.nc',\n",
    "             'deployment0001_RS03ASHS-MJ03B-07-TMPSFA301-streamed-tmpsf_sample_20150101T000002-20151231T235958.777243.nc',\n",
    "             'deployment0001_RS03ASHS-MJ03B-07-TMPSFA301-streamed-tmpsf_sample_20160101T000010.778112-20161231T235958.439167.nc',\n",
    "             'deployment0001_RS03ASHS-MJ03B-07-TMPSFA301-streamed-tmpsf_sample_20170101T000010.438824-20170813T232226.349596.nc',\n",
    "             'deployment0003_RS03ASHS-MJ03B-07-TMPSFA301-streamed-tmpsf_sample_20170815T003130.804600-20171231T235950.623028.nc',\n",
    "             'deployment0003_RS03ASHS-MJ03B-07-TMPSFA301-streamed-tmpsf_sample_20180101T000000.621938-20180912T225325.872315.nc']"
   ]
  },
  {
   "cell_type": "code",
   "execution_count": null,
   "metadata": {},
   "outputs": [],
   "source": [
    "import xarray as xr"
   ]
  },
  {
   "cell_type": "code",
   "execution_count": null,
   "metadata": {},
   "outputs": [],
   "source": [
    "xr.open_mfdataset(file_list)"
   ]
  },
  {
   "cell_type": "code",
   "execution_count": null,
   "metadata": {},
   "outputs": [],
   "source": []
  }
 ],
 "metadata": {
  "kernelspec": {
   "display_name": "Python 3",
   "language": "python",
   "name": "python3"
  },
  "language_info": {
   "codemirror_mode": {
    "name": "ipython",
    "version": 3
   },
   "file_extension": ".py",
   "mimetype": "text/x-python",
   "name": "python",
   "nbconvert_exporter": "python",
   "pygments_lexer": "ipython3",
   "version": "3.6.5"
  }
 },
 "nbformat": 4,
 "nbformat_minor": 2
}
