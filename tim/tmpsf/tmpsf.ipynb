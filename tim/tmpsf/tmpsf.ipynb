{
 "cells": [
  {
   "cell_type": "markdown",
   "metadata": {},
   "source": [
    "# TMPSF Examples"
   ]
  },
  {
   "cell_type": "markdown",
   "metadata": {},
   "source": [
    "## Download data from Google Drive if necessary"
   ]
  },
  {
   "cell_type": "code",
   "execution_count": null,
   "metadata": {},
   "outputs": [],
   "source": [
    "blob_ids = ['1w-f9wRHqHr5Uqe7MXwC2XKAD1cupn5yF',\n",
    "            '1XgYcdx5ZvQIkhtWGZU73-MJ6sWAv2YuS',\n",
    "            '1vB0g0ksFty4wzR1YP38OcqemmS5QXax_',\n",
    "            '1kyKo24QAcIc8qFXLwMZhHBaAI3JLdJis',\n",
    "            '1z2gjfFcpqPbcfyhWam6FNdDG7ltXYKn1',\n",
    "            '1RNGWfEoJU5DhWt9df72PHH9FmFT86xa0']"
   ]
  },
  {
   "cell_type": "code",
   "execution_count": null,
   "metadata": {},
   "outputs": [],
   "source": [
    "file_list = ['deployment0001_RS03ASHS-MJ03B-07-TMPSFA301-streamed-tmpsf_sample_20140929T190312-20141231T235952.nc',\n",
    "             'deployment0001_RS03ASHS-MJ03B-07-TMPSFA301-streamed-tmpsf_sample_20150101T000002-20151231T235958.777243.nc',\n",
    "             'deployment0001_RS03ASHS-MJ03B-07-TMPSFA301-streamed-tmpsf_sample_20160101T000010.778112-20161231T235958.439167.nc',\n",
    "             'deployment0001_RS03ASHS-MJ03B-07-TMPSFA301-streamed-tmpsf_sample_20170101T000010.438824-20170813T232226.349596.nc',\n",
    "             'deployment0003_RS03ASHS-MJ03B-07-TMPSFA301-streamed-tmpsf_sample_20170815T003130.804600-20171231T235950.623028.nc',\n",
    "             'deployment0003_RS03ASHS-MJ03B-07-TMPSFA301-streamed-tmpsf_sample_20180101T000000.621938-20180912T225325.872315.nc']"
   ]
  },
  {
   "cell_type": "code",
   "execution_count": null,
   "metadata": {},
   "outputs": [],
   "source": [
    "import driveanon as da\n",
    "from pathlib import Path"
   ]
  },
  {
   "cell_type": "code",
   "execution_count": null,
   "metadata": {},
   "outputs": [],
   "source": [
    "for i, blob_id in enumerate(blob_ids):\n",
    "    if not Path(file_list[i]).is_file():\n",
    "        da.save(blob_id)\n",
    "        print(file_list[i])"
   ]
  },
  {
   "cell_type": "markdown",
   "metadata": {},
   "source": [
    "## Open NetCDF files as xarray dataset"
   ]
  },
  {
   "cell_type": "code",
   "execution_count": null,
   "metadata": {},
   "outputs": [],
   "source": [
    "import xarray as xr"
   ]
  },
  {
   "cell_type": "code",
   "execution_count": null,
   "metadata": {},
   "outputs": [],
   "source": [
    "ds = xr.open_mfdataset(file_list, drop_variables=['lat', 'lon', 'obs',\n",
    "                                                  'id', 'battery_voltage',\n",
    "                                                  'driver_timestamp',\n",
    "                                                  'ingestion_timestamp',\n",
    "                                                  'internal_timestamp',\n",
    "                                                  'port_timestamp',\n",
    "                                                  'preferred_timestamp',\n",
    "                                                  'timestamp',\n",
    "                                                  'provenance', 'serial_number',\n",
    "                                                  'temperature01_qc_executed',\n",
    "                                                  'temperature01_qc_results',\n",
    "                                                  'temperature02_qc_executed',\n",
    "                                                  'temperature02_qc_results',\n",
    "                                                  'temperature03_qc_executed',\n",
    "                                                  'temperature03_qc_results',\n",
    "                                                  'temperature04_qc_executed',\n",
    "                                                  'temperature04_qc_results',\n",
    "                                                  'temperature05_qc_executed',\n",
    "                                                  'temperature05_qc_results',\n",
    "                                                  'temperature06_qc_executed',\n",
    "                                                  'temperature06_qc_results',\n",
    "                                                  'temperature07_qc_executed',\n",
    "                                                  'temperature07_qc_results',\n",
    "                                                  'temperature08_qc_executed',\n",
    "                                                  'temperature08_qc_results',\n",
    "                                                  'temperature09_qc_executed',\n",
    "                                                  'temperature09_qc_results',\n",
    "                                                  'temperature10_qc_executed',\n",
    "                                                  'temperature10_qc_results',\n",
    "                                                  'temperature11_qc_executed',\n",
    "                                                  'temperature11_qc_results',\n",
    "                                                  'temperature12_qc_executed',\n",
    "                                                  'temperature12_qc_results',\n",
    "                                                  'temperature13_qc_executed',\n",
    "                                                  'temperature13_qc_results',\n",
    "                                                  'temperature14_qc_executed',\n",
    "                                                  'temperature14_qc_results',\n",
    "                                                  'temperature15_qc_executed',\n",
    "                                                  'temperature15_qc_results',\n",
    "                                                  'temperature16_qc_executed',\n",
    "                                                  'temperature16_qc_results',\n",
    "                                                  'temperature17_qc_executed',\n",
    "                                                  'temperature17_qc_results',\n",
    "                                                  'temperature18_qc_executed',\n",
    "                                                  'temperature18_qc_results',\n",
    "                                                  'temperature19_qc_executed',\n",
    "                                                  'temperature19_qc_results',\n",
    "                                                  'temperature20_qc_executed',\n",
    "                                                  'temperature20_qc_results',\n",
    "                                                  'temperature21_qc_executed',\n",
    "                                                  'temperature21_qc_results',\n",
    "                                                  'temperature22_qc_executed',\n",
    "                                                  'temperature22_qc_results',\n",
    "                                                  'temperature23_qc_executed',\n",
    "                                                  'temperature23_qc_results',\n",
    "                                                  'temperature24_qc_executed',\n",
    "                                                  'temperature24_qc_results',\n",
    "                                                  'temperature01_qc_executed',\n",
    "                                                  'temperature01_qc_results'])\n",
    "ds = ds.swap_dims({'obs': 'time'})\n",
    "ds"
   ]
  },
  {
   "cell_type": "markdown",
   "metadata": {},
   "source": [
    "## Convert Xarray dataset to Pandas dataframe"
   ]
  },
  {
   "cell_type": "code",
   "execution_count": null,
   "metadata": {},
   "outputs": [],
   "source": [
    "import pandas as pd"
   ]
  },
  {
   "cell_type": "code",
   "execution_count": null,
   "metadata": {},
   "outputs": [],
   "source": [
    "df = ds.to_dataframe()\n",
    "df.head()"
   ]
  },
  {
   "cell_type": "code",
   "execution_count": null,
   "metadata": {},
   "outputs": [],
   "source": [
    "df.info()"
   ]
  },
  {
   "cell_type": "code",
   "execution_count": null,
   "metadata": {},
   "outputs": [],
   "source": [
    "df.describe()"
   ]
  },
  {
   "cell_type": "markdown",
   "metadata": {},
   "source": [
    "## Monthly stats"
   ]
  },
  {
   "cell_type": "code",
   "execution_count": null,
   "metadata": {},
   "outputs": [],
   "source": [
    "df['year'] = df.index.year\n",
    "df['month'] = df.index.month"
   ]
  },
  {
   "cell_type": "code",
   "execution_count": null,
   "metadata": {},
   "outputs": [],
   "source": [
    "df.groupby(['year', 'month']).describe()"
   ]
  },
  {
   "cell_type": "markdown",
   "metadata": {},
   "source": [
    "## Hourly means"
   ]
  },
  {
   "cell_type": "code",
   "execution_count": null,
   "metadata": {},
   "outputs": [],
   "source": [
    "df['date'] = df.index.date\n",
    "df['hour'] = df.index.hour"
   ]
  },
  {
   "cell_type": "code",
   "execution_count": null,
   "metadata": {},
   "outputs": [],
   "source": [
    "hourly_means = df.groupby(['date', 'hour']).mean()\n",
    "hourly_means.head()"
   ]
  },
  {
   "cell_type": "markdown",
   "metadata": {},
   "source": [
    "## Plot all data for one sensor"
   ]
  },
  {
   "cell_type": "code",
   "execution_count": null,
   "metadata": {},
   "outputs": [],
   "source": [
    "from datetime import datetime\n",
    "import matplotlib.dates as dates"
   ]
  },
  {
   "cell_type": "code",
   "execution_count": null,
   "metadata": {},
   "outputs": [],
   "source": [
    "dts = [dates.date2num(datetime(x[0].year, x[0].month, x[0].day, x[1])) for x in hourly_means.index]"
   ]
  },
  {
   "cell_type": "code",
   "execution_count": null,
   "metadata": {},
   "outputs": [],
   "source": [
    "%matplotlib inline\n",
    "%config InlineBackend.figure_format = 'svg'\n",
    "import matplotlib.pyplot as plt"
   ]
  },
  {
   "cell_type": "code",
   "execution_count": null,
   "metadata": {},
   "outputs": [],
   "source": [
    "plt.rc('font', size=11)\n",
    "fig, ax = plt.subplots()\n",
    "fig.set_size_inches(14, 6)\n",
    "fig.frameon = False\n",
    "hb1 = ax.hexbin(dts, hourly_means.temperature01, vmin=0, vmax=2, linewidths=0.25,\n",
    "  gridsize=(225,4500), mincnt=1, cmap=plt.cm.inferno)\n",
    "fig.colorbar(hb1)\n",
    "#ax.set_ylim([0, 8000])\n",
    "#ax.set_xlim([frame_timestamp[0],frame_timestamp[-1]])\n",
    "#ax.yaxis.grid(True)\n",
    "#ax.xaxis.grid(True)\n",
    "tick_loc = dates.YearLocator()  # every year\n",
    "tick_fmt = dates.DateFormatter('%b %Y')\n",
    "ax.xaxis.set_major_locator(tick_loc)\n",
    "ax.xaxis.set_major_formatter(tick_fmt)\n",
    "#plt.ylabel('Floc Proxy Value');"
   ]
  },
  {
   "cell_type": "code",
   "execution_count": null,
   "metadata": {},
   "outputs": [],
   "source": [
    "len(hourly_means.temperature01)"
   ]
  },
  {
   "cell_type": "code",
   "execution_count": null,
   "metadata": {},
   "outputs": [],
   "source": []
  }
 ],
 "metadata": {
  "kernelspec": {
   "display_name": "Python 3",
   "language": "python",
   "name": "python3"
  },
  "language_info": {
   "codemirror_mode": {
    "name": "ipython",
    "version": 3
   },
   "file_extension": ".py",
   "mimetype": "text/x-python",
   "name": "python",
   "nbconvert_exporter": "python",
   "pygments_lexer": "ipython3",
   "version": "3.6.6"
  }
 },
 "nbformat": 4,
 "nbformat_minor": 2
}
