{
 "cells": [
  {
   "cell_type": "code",
   "execution_count": null,
   "metadata": {},
   "outputs": [],
   "source": [
    "import json\n",
    "\n",
    "with open('CAMHDA301-20160505T060000Z_optical_flow_regions-Copy1.json') as fp:\n",
    "    data = json.load(fp)\n",
    "\n",
    "for sceneTag in data:\n",
    "    print sceneTag['SceneTag']['URL']"
   ]
  },
  {
   "cell_type": "code",
   "execution_count": null,
   "metadata": {},
   "outputs": [],
   "source": [
    "import json"
   ]
  },
  {
   "cell_type": "code",
   "execution_count": null,
   "metadata": {},
   "outputs": [],
   "source": [
    "with open('CAMHDA301-20160505T060000Z_optical_flow_regions-Copy1.json') as fp:\n",
    "    data = json.load(fp)"
   ]
  },
  {
   "cell_type": "code",
   "execution_count": null,
   "metadata": {},
   "outputs": [],
   "source": [
    "for sceneTag in data:\n",
    "    print sceneTag['SceneTag']['URL']"
   ]
  },
  {
   "cell_type": "code",
   "execution_count": null,
   "metadata": {},
   "outputs": [],
   "source": [
    "import json\n",
    "with open('data.json', 'w') as outfile:\n",
    "    json.dump(data, outfile)\n",
    "    \n",
    "    ##json.dump writes to a file or file-like object, whereas json.dumps returns a string."
   ]
  },
  {
   "cell_type": "code",
   "execution_count": null,
   "metadata": {},
   "outputs": [],
   "source": [
    "# Define data\n",
    "data = {'a list': [1, 42, 3.141, 1337, 'help', u'€'],\n",
    "        'a string': 'bla',\n",
    "        'another dict': {'foo': 'bar',\n",
    "                         'key': 'value',\n",
    "                         'the answer': 42}}\n",
    "\n",
    "# Write JSON file\n",
    "with io.open('data.json', 'w', encoding='utf8') as outfile:\n",
    "    str_ = json.dumps(data,\n",
    "                      indent=4, sort_keys=True,\n",
    "                      separators=(',', ': '), ensure_ascii=False)\n",
    "    outfile.write(to_unicode(str_))\n",
    "\n",
    "# Read JSON file\n",
    "with open('data.json') as data_file:\n",
    "    data_loaded = json.load(data_file)\n",
    "\n",
    "print(data == data_loaded)\n"
   ]
  },
  {
   "cell_type": "code",
   "execution_count": null,
   "metadata": {},
   "outputs": [],
   "source": [
    "import json\n",
    "\n",
    "json.data = CAMHDA301-20160505T060000Z_optical_flow_regions-Copy1.json\n",
    "print (json.data)"
   ]
  },
  {
   "cell_type": "code",
   "execution_count": null,
   "metadata": {},
   "outputs": [],
   "source": [
    "import json\n",
    "from pprint import pprint\n",
    "\n",
    "with open('CAMHDA301-20160505T060000Z_optical_flow_regions-Copy1.json') as data_file:    \n",
    "    data = json.load(data_file)"
   ]
  },
  {
   "cell_type": "code",
   "execution_count": null,
   "metadata": {},
   "outputs": [],
   "source": []
  }
 ],
 "metadata": {
  "kernelspec": {
   "display_name": "Python 3",
   "language": "python",
   "name": "python3"
  },
  "language_info": {
   "codemirror_mode": {
    "name": "ipython",
    "version": 3
   },
   "file_extension": ".py",
   "mimetype": "text/x-python",
   "name": "python",
   "nbconvert_exporter": "python",
   "pygments_lexer": "ipython3",
   "version": "3.6.5"
  }
 },
 "nbformat": 4,
 "nbformat_minor": 2
}
