{
 "cells": [
  {
   "cell_type": "markdown",
   "metadata": {},
   "source": [
    "## Hello There, this is a Notebook to be used to Setup pycamhd-motion-metadata \n",
    "   #### What we do with the module depends on if we can get it to work "
   ]
  },
  {
   "cell_type": "markdown",
   "metadata": {},
   "source": [
    "##### Here we find ourselves using Jupyter Lab locally with anaconda"
   ]
  },
  {
   "cell_type": "markdown",
   "metadata": {},
   "source": [
    "#### In the code Aaron sent in his email he navigates us to the pycamhd folder within the master, \n",
    "#### for whatever reason I can't move into the subfolders until I move into the master"
   ]
  },
  {
   "cell_type": "code",
   "execution_count": null,
   "metadata": {},
   "outputs": [],
   "source": [
    "cd CamHD_motion_metadata-master"
   ]
  },
  {
   "cell_type": "code",
   "execution_count": null,
   "metadata": {},
   "outputs": [],
   "source": [
    "    ### Moving into the subfolder indicated by Aaron"
   ]
  },
  {
   "cell_type": "code",
   "execution_count": null,
   "metadata": {},
   "outputs": [],
   "source": [
    "cd CamHD_motion_metadata-master/pycamhd-motion-metadata"
   ]
  },
  {
   "cell_type": "markdown",
   "metadata": {},
   "source": [
    "### To install the local module Aaron provided:\n",
    "    pip install -e\n",
    "### The result:\n",
    "    The following command must be run outside of the IPython shell:\n",
    "\n",
    "    $ pip install -e\n",
    "\n",
    "The Python package manager (pip) can only be used from outside of IPython.\n",
    "Please reissue the `pip` command in a separate terminal or command prompt.\n",
    "\n",
    "See the Python documentation for more information on how to install packages:\n",
    "\n",
    "    https://docs.python.org/3/installing/\n",
    "### It does not work"
   ]
  },
  {
   "cell_type": "markdown",
   "metadata": {},
   "source": [
    "### So I run: \n",
    "    !pip install -e ../pycamhd-motion-metadata"
   ]
  },
  {
   "cell_type": "code",
   "execution_count": null,
   "metadata": {},
   "outputs": [],
   "source": [
    "!pip install -e ../pycamhd-motion-metadata"
   ]
  }
 ],
 "metadata": {
  "kernelspec": {
   "display_name": "Python 3",
   "language": "python",
   "name": "python3"
  },
  "language_info": {
   "codemirror_mode": {
    "name": "ipython",
    "version": 3
   },
   "file_extension": ".py",
   "mimetype": "text/x-python",
   "name": "python",
   "nbconvert_exporter": "python",
   "pygments_lexer": "ipython3",
   "version": "3.7.0"
  }
 },
 "nbformat": 4,
 "nbformat_minor": 2
}
