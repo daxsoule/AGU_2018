{
 "cells": [
  {
   "cell_type": "markdown",
   "metadata": {},
   "source": [
    "## Hello There, this is a Notebook to be used to Setup pycamhd-motion-metadata \n",
    "   #### What we do with the module depends on if we can get it to work "
   ]
  },
  {
   "cell_type": "markdown",
   "metadata": {},
   "source": [
    "##### Here we find ourselves using Jupyter Lab locally with anaconda"
   ]
  },
  {
   "cell_type": "markdown",
   "metadata": {},
   "source": [
    "#### In the code Aaron sent in his email he navigates us to the pycamhd folder within the master, \n",
    "#### for whatever reason I can't move into the subfolders until I move into the master"
   ]
  },
  {
   "cell_type": "code",
   "execution_count": 2,
   "metadata": {},
   "outputs": [
    {
     "name": "stdout",
     "output_type": "stream",
     "text": [
      "C:\\Users\\etesin100\\Desktop\\CamHD_motion_metadata-master\n"
     ]
    }
   ],
   "source": [
    "cd CamHD_motion_metadata-master"
   ]
  },
  {
   "cell_type": "code",
   "execution_count": null,
   "metadata": {},
   "outputs": [],
   "source": [
    "    ### Moving into the subfolder indicated by Aaron"
   ]
  },
  {
   "cell_type": "code",
   "execution_count": 5,
   "metadata": {
    "scrolled": false
   },
   "outputs": [
    {
     "name": "stdout",
     "output_type": "stream",
     "text": [
      "C:\\Users\\etesin100\\Desktop\\CamHD_motion_metadata-master\\CamHD_motion_metadata-master\\pycamhd-motion-metadata\n"
     ]
    }
   ],
   "source": [
    "cd CamHD_motion_metadata-master/pycamhd-motion-metadata"
   ]
  },
  {
   "cell_type": "markdown",
   "metadata": {},
   "source": [
    "### To install the local module Aaron provided:\n",
    "    pip install -e\n",
    "### The result:\n",
    "    The following command must be run outside of the IPython shell:\n",
    "\n",
    "    $ pip install -e\n",
    "\n",
    "The Python package manager (pip) can only be used from outside of IPython.\n",
    "Please reissue the `pip` command in a separate terminal or command prompt.\n",
    "\n",
    "See the Python documentation for more information on how to install packages:\n",
    "\n",
    "    https://docs.python.org/3/installing/\n",
    "### It does not work"
   ]
  },
  {
   "cell_type": "markdown",
   "metadata": {},
   "source": [
    "### So I run: \n",
    "    !pip install -e ../pycamhd-motion-metadata"
   ]
  },
  {
   "cell_type": "code",
   "execution_count": 11,
   "metadata": {},
   "outputs": [
    {
     "name": "stdout",
     "output_type": "stream",
     "text": [
      "Obtaining file:///C:/Users/etesin100/Desktop/CamHD_motion_metadata-master/CamHD_motion_metadata-master/pycamhd-motion-metadata\n",
      "    Complete output from command python setup.py egg_info:\n",
      "    Traceback (most recent call last):\n",
      "      File \"c:\\users\\etesin100\\appdata\\local\\continuum\\anaconda3\\lib\\site-packages\\pkg_resources\\__init__.py\", line 2876, in _dep_map\n",
      "        return self.__dep_map\n",
      "      File \"c:\\users\\etesin100\\appdata\\local\\continuum\\anaconda3\\lib\\site-packages\\pkg_resources\\__init__.py\", line 2670, in __getattr__\n",
      "        raise AttributeError(attr)\n",
      "    AttributeError: _DistInfoDistribution__dep_map\n",
      "    \n",
      "    During handling of the above exception, another exception occurred:\n",
      "    \n",
      "    Traceback (most recent call last):\n",
      "      File \"c:\\users\\etesin100\\appdata\\local\\continuum\\anaconda3\\lib\\site-packages\\pkg_resources\\__init__.py\", line 2867, in _parsed_pkg_info\n",
      "        return self._pkg_info\n",
      "      File \"c:\\users\\etesin100\\appdata\\local\\continuum\\anaconda3\\lib\\site-packages\\pkg_resources\\__init__.py\", line 2670, in __getattr__\n",
      "        raise AttributeError(attr)\n",
      "    AttributeError: _pkg_info\n",
      "    \n",
      "    During handling of the above exception, another exception occurred:\n",
      "    \n",
      "    Traceback (most recent call last):\n",
      "      File \"<string>\", line 1, in <module>\n",
      "      File \"C:\\Users\\etesin100\\Desktop\\CamHD_motion_metadata-master\\CamHD_motion_metadata-master\\pycamhd-motion-metadata\\setup.py\", line 29, in <module>\n",
      "        tests_require=['pytest'])\n",
      "      File \"c:\\users\\etesin100\\appdata\\local\\continuum\\anaconda3\\lib\\site-packages\\setuptools\\__init__.py\", line 139, in setup\n",
      "        _install_setup_requires(attrs)\n",
      "      File \"c:\\users\\etesin100\\appdata\\local\\continuum\\anaconda3\\lib\\site-packages\\setuptools\\__init__.py\", line 134, in _install_setup_requires\n",
      "        dist.fetch_build_eggs(dist.setup_requires)\n",
      "      File \"c:\\users\\etesin100\\appdata\\local\\continuum\\anaconda3\\lib\\site-packages\\setuptools\\dist.py\", line 514, in fetch_build_eggs\n",
      "        replace_conflicting=True,\n",
      "      File \"c:\\users\\etesin100\\appdata\\local\\continuum\\anaconda3\\lib\\site-packages\\pkg_resources\\__init__.py\", line 789, in resolve\n",
      "        new_requirements = dist.requires(req.extras)[::-1]\n",
      "      File \"c:\\users\\etesin100\\appdata\\local\\continuum\\anaconda3\\lib\\site-packages\\pkg_resources\\__init__.py\", line 2614, in requires\n",
      "        dm = self._dep_map\n",
      "      File \"c:\\users\\etesin100\\appdata\\local\\continuum\\anaconda3\\lib\\site-packages\\pkg_resources\\__init__.py\", line 2878, in _dep_map\n",
      "        self.__dep_map = self._compute_dependencies()\n",
      "      File \"c:\\users\\etesin100\\appdata\\local\\continuum\\anaconda3\\lib\\site-packages\\pkg_resources\\__init__.py\", line 2887, in _compute_dependencies\n",
      "        for req in self._parsed_pkg_info.get_all('Requires-Dist') or []:\n",
      "      File \"c:\\users\\etesin100\\appdata\\local\\continuum\\anaconda3\\lib\\site-packages\\pkg_resources\\__init__.py\", line 2869, in _parsed_pkg_info\n",
      "        metadata = self.get_metadata(self.PKG_INFO)\n",
      "      File \"c:\\users\\etesin100\\appdata\\local\\continuum\\anaconda3\\lib\\site-packages\\pkg_resources\\__init__.py\", line 1407, in get_metadata\n",
      "        value = self._get(self._fn(self.egg_info, name))\n",
      "      File \"c:\\users\\etesin100\\appdata\\local\\continuum\\anaconda3\\lib\\site-packages\\pkg_resources\\__init__.py\", line 1519, in _get\n",
      "        with open(path, 'rb') as stream:\n",
      "    FileNotFoundError: [Errno 2] No such file or directory: 'c:\\\\users\\\\etesin100\\\\desktop\\\\camhd_motion_metadata-master\\\\camhd_motion_metadata-master\\\\pycamhd-motion-metadata\\\\.eggs\\\\pytest_runner-4.2-py3.7.egg\\\\pytest_runner-4.2.dist-info\\\\METADATA'\n",
      "    \n",
      "    ----------------------------------------\n"
     ]
    },
    {
     "name": "stderr",
     "output_type": "stream",
     "text": [
      "Command \"python setup.py egg_info\" failed with error code 1 in C:\\Users\\etesin100\\Desktop\\CamHD_motion_metadata-master\\CamHD_motion_metadata-master\\pycamhd-motion-metadata\\\n"
     ]
    }
   ],
   "source": [
    "!pip install -e ../pycamhd-motion-metadata"
   ]
  }
 ],
 "metadata": {
  "kernelspec": {
   "display_name": "Python 3",
   "language": "python",
   "name": "python3"
  },
  "language_info": {
   "codemirror_mode": {
    "name": "ipython",
    "version": 3
   },
   "file_extension": ".py",
   "mimetype": "text/x-python",
   "name": "python",
   "nbconvert_exporter": "python",
   "pygments_lexer": "ipython3",
   "version": "3.7.0"
  }
 },
 "nbformat": 4,
 "nbformat_minor": 2
}
