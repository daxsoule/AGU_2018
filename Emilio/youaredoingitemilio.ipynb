{
 "cells": [
  {
   "cell_type": "markdown",
   "metadata": {},
   "source": [
    "## Here We Go About Making the Dataframe from the Region File we Built"
   ]
  },
  {
   "cell_type": "markdown",
   "metadata": {},
   "source": [
    "#### import your stuff"
   ]
  },
  {
   "cell_type": "code",
   "execution_count": null,
   "metadata": {},
   "outputs": [],
   "source": [
    "import pandas as pd\n",
    "import json  "
   ]
  },
  {
   "cell_type": "markdown",
   "metadata": {},
   "source": [
    "### Build your data frame with the following keys and the desired values"
   ]
  },
  {
   "cell_type": "code",
   "execution_count": null,
   "metadata": {},
   "outputs": [],
   "source": [
    "url = []\n",
    "scene_tag = []\n",
    "start_frame = []\n",
    "end_frame = []\n",
    "\n",
    "\n",
    "with open('region.txt') as f:\n",
    "    for line in f:\n",
    "        with open(line.strip()) as l:\n",
    "            data = json.load(l)\n",
    "            for region in data['regions']:\n",
    "                if region['type'] == 'static':\n",
    "                    try:\n",
    "                        if '_p2_z0' in region['sceneTag']:\n",
    "                            \n",
    "                            url.append(data['movie']['URL'])\n",
    "                            scene_tag.append(region['sceneTag'])\n",
    "                            start_frame.append(int(region['startFrame']))\n",
    "                            end_frame.append(int(region['endFrame']))\n",
    "                    except:\n",
    "                        continue"
   ]
  },
  {
   "cell_type": "markdown",
   "metadata": {},
   "source": [
    "##### add a column for a mean frame value to use for Flocc Proxies, add a column Filename that matches the address Tim uses in his widget by completing the urls in the URL column and then save it all to a .json file"
   ]
  },
  {
   "cell_type": "code",
   "execution_count": null,
   "metadata": {},
   "outputs": [],
   "source": [
    "framedcamhd = pd.DataFrame({'url': url, 'scene_tag': scene_tag, 'start_frame': start_frame, 'end_frame': end_frame})\n",
    "\n",
    "framedcamhd['filename'] = framedcamhd.url.apply(lambda s: 'https://rawdata.oceanobservatories.org/files'+s)\n",
    "\n",
    "# test.set_axis('filename', axis=0, inplace=None)\n",
    "\n",
    "framedcamhd['mean_frame'] = framedcamhd[['end_frame', 'start_frame']].mean(axis=1)\n",
    "\n",
    "framedcamhd.mean_frame = framedcamhd.mean_frame.round().astype(int)\n",
    "\n"
   ]
  },
  {
   "cell_type": "code",
   "execution_count": null,
   "metadata": {},
   "outputs": [],
   "source": [
    "framedcamhd.to_json('framedcamhd.json', orient=\"records\", lines=True)"
   ]
  },
  {
   "cell_type": "code",
   "execution_count": null,
   "metadata": {},
   "outputs": [],
   "source": [
    "columnsTitles = ['filename', 'scene_tag', 'mean_frame', 'start_frame', 'end_frame', 'url']\n",
    "framedcamhd.reindex(columns=columnsTitles)"
   ]
  },
  {
   "cell_type": "code",
   "execution_count": null,
   "metadata": {},
   "outputs": [],
   "source": [
    "framedcamhd"
   ]
  },
  {
   "cell_type": "markdown",
   "metadata": {},
   "source": [
    "# sCrap Work"
   ]
  },
  {
   "cell_type": "markdown",
   "metadata": {},
   "source": [
    "#### Start Here:"
   ]
  },
  {
   "cell_type": "code",
   "execution_count": null,
   "metadata": {},
   "outputs": [],
   "source": [
    "# Loads the camhd files into a dataframe\n",
    "import json\n",
    "import pandas as pd\n",
    "data = json.load(open('CAMHDA301-20160511T000000Z_optical_flow_regions-Copy1.json'))\n",
    "\n",
    "df = pd.DataFrame(data[\"regions\"])\n",
    "df\n",
    "# # makes the second data frame\n",
    "# dftwo = pd.DataFrame(data[\"movie\"],index=[0])\n",
    "# # Cleans the columns to only the ones we want to see\n",
    "# dftwo.drop(['cacheURL', 'NumFrames','Duration'], axis=1, inplace=True)\n",
    "# dftwo\n",
    "# #df['test'] = dftwo\n",
    "# # pull the URL value directly out of the dictionary and not into a dataframe first"
   ]
  },
  {
   "cell_type": "code",
   "execution_count": null,
   "metadata": {},
   "outputs": [],
   "source": [
    "# Clean up the dataframe with this:\n",
    "    # Cleans the columns to only the ones we want to see\n",
    "df.drop(['sceneTagMeta', 'stats'], axis=1, inplace=True)\n",
    "    # Cleans the rows to drop any row with NAN for a value\n",
    "df.dropna(axis=0, how='any', thresh=None, subset=None, inplace=False)"
   ]
  },
  {
   "cell_type": "markdown",
   "metadata": {},
   "source": [
    "### One data frame down with all the regions data"
   ]
  },
  {
   "cell_type": "code",
   "execution_count": null,
   "metadata": {},
   "outputs": [],
   "source": [
    "# # makes the second data frame\n",
    "# dftwo = pd.DataFrame(data[\"movie\"],index=[0])\n",
    "# # Cleans the columns to only the ones we want to see\n",
    "# dftwo.drop(['cacheURL', 'NumFrames','Duration'], axis=1, inplace=True)"
   ]
  },
  {
   "cell_type": "markdown",
   "metadata": {},
   "source": [
    "#### Two dataframes down, now we just need to stitch them together..."
   ]
  },
  {
   "cell_type": "code",
   "execution_count": null,
   "metadata": {},
   "outputs": [],
   "source": [
    "# result = df.join([dftwo], how='inner', on=None)"
   ]
  },
  {
   "cell_type": "code",
   "execution_count": null,
   "metadata": {},
   "outputs": [],
   "source": [
    "# result.tail"
   ]
  },
  {
   "cell_type": "code",
   "execution_count": null,
   "metadata": {},
   "outputs": [],
   "source": [
    "# result.to_csv(\"doody.csv\")\n",
    "#index=False if we want to index out"
   ]
  },
  {
   "cell_type": "code",
   "execution_count": null,
   "metadata": {},
   "outputs": [],
   "source": [
    "# # this also doesn't work, they dont stitch together. \n",
    "# frames = [df, dftwo]\n",
    "\n",
    "# result = pd.concat(frames, sort=True)"
   ]
  },
  {
   "cell_type": "code",
   "execution_count": null,
   "metadata": {},
   "outputs": [],
   "source": [
    "# this doesn't work. they don't stitch together. \n",
    "# result = df.append(dftwo, sort=False)\n",
    "# result = df.append(dftwo, ignore_index=False, sort=True)\n",
    "# result"
   ]
  },
  {
   "cell_type": "code",
   "execution_count": null,
   "metadata": {},
   "outputs": [],
   "source": [
    "# with open('CAMHDA301-20160511T000000Z_optical_flow_regions-Copy1.json') as f:\n",
    "#     df = json.load(f)"
   ]
  },
  {
   "cell_type": "code",
   "execution_count": null,
   "metadata": {},
   "outputs": [],
   "source": []
  },
  {
   "cell_type": "code",
   "execution_count": null,
   "metadata": {},
   "outputs": [],
   "source": [
    "# df('test') = Series(np.random.randn(sLength), index = df.index)"
   ]
  }
 ],
 "metadata": {
  "kernelspec": {
   "display_name": "Python 3",
   "language": "python",
   "name": "python3"
  },
  "language_info": {
   "codemirror_mode": {
    "name": "ipython",
    "version": 3
   },
   "file_extension": ".py",
   "mimetype": "text/x-python",
   "name": "python",
   "nbconvert_exporter": "python",
   "pygments_lexer": "ipython3",
   "version": "3.6.5"
  }
 },
 "nbformat": 4,
 "nbformat_minor": 2
}
