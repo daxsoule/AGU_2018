{
 "cells": [
  {
   "cell_type": "code",
   "execution_count": null,
   "metadata": {},
   "outputs": [],
   "source": [
    "import pandas as pd\n",
    "import json  "
   ]
  },
  {
   "cell_type": "code",
   "execution_count": null,
   "metadata": {},
   "outputs": [],
   "source": [
    "with open('CAMHDA301-20160511T000000Z_optical_flow_regions-Copy1.json') as f:\n",
    "    df = json.load(f)"
   ]
  },
  {
   "cell_type": "code",
   "execution_count": null,
   "metadata": {},
   "outputs": [],
   "source": [
    "df"
   ]
  },
  {
   "cell_type": "markdown",
   "metadata": {},
   "source": [
    "# Next problem is stitching together the two dataframes"
   ]
  },
  {
   "cell_type": "markdown",
   "metadata": {},
   "source": [
    "#### Start Here:"
   ]
  },
  {
   "cell_type": "code",
   "execution_count": null,
   "metadata": {},
   "outputs": [],
   "source": [
    "# Loads the camhd files into a dataframe\n",
    "import json\n",
    "import pandas as pd\n",
    "data = json.load(open('CAMHDA301-20160511T000000Z_optical_flow_regions-Copy1.json'))\n",
    "\n",
    "df = pd.DataFrame(data[\"regions\"])\n",
    "df\n",
    "# # makes the second data frame\n",
    "# dftwo = pd.DataFrame(data[\"movie\"],index=[0])\n",
    "# # Cleans the columns to only the ones we want to see\n",
    "# dftwo.drop(['cacheURL', 'NumFrames','Duration'], axis=1, inplace=True)\n",
    "# dftwo\n",
    "# #df['test'] = dftwo\n",
    "# # pull the URL value directly out of the dictionary and not into a dataframe first"
   ]
  },
  {
   "cell_type": "code",
   "execution_count": null,
   "metadata": {},
   "outputs": [],
   "source": [
    "# Clean up the dataframe with this:\n",
    "    # Cleans the columns to only the ones we want to see\n",
    "df.drop(['sceneTagMeta', 'stats'], axis=1, inplace=True)\n",
    "    # Cleans the rows to drop any row with NAN for a value\n",
    "df.dropna(axis=0, how='any', thresh=None, subset=None, inplace=False)"
   ]
  },
  {
   "cell_type": "markdown",
   "metadata": {},
   "source": [
    "### One data frame down with all the regions data"
   ]
  },
  {
   "cell_type": "code",
   "execution_count": null,
   "metadata": {},
   "outputs": [],
   "source": [
    "# makes the second data frame\n",
    "dftwo = pd.DataFrame(data[\"movie\"],index=[0])\n",
    "# Cleans the columns to only the ones we want to see\n",
    "dftwo.drop(['cacheURL', 'NumFrames','Duration'], axis=1, inplace=True)"
   ]
  },
  {
   "cell_type": "markdown",
   "metadata": {},
   "source": [
    "#### Two dataframes down, now we just need to stitch them together..."
   ]
  },
  {
   "cell_type": "code",
   "execution_count": null,
   "metadata": {},
   "outputs": [],
   "source": [
    "result = df.join([dftwo], how='inner', on=None)"
   ]
  },
  {
   "cell_type": "code",
   "execution_count": null,
   "metadata": {},
   "outputs": [],
   "source": [
    "result.tail"
   ]
  },
  {
   "cell_type": "code",
   "execution_count": null,
   "metadata": {},
   "outputs": [],
   "source": [
    "result.to_csv(\"doody.csv\")\n",
    "#index=False if we want to index out"
   ]
  },
  {
   "cell_type": "code",
   "execution_count": null,
   "metadata": {},
   "outputs": [],
   "source": [
    "# # this also doesn't work, they dont stitch together. \n",
    "# frames = [df, dftwo]\n",
    "\n",
    "# result = pd.concat(frames, sort=True)"
   ]
  },
  {
   "cell_type": "code",
   "execution_count": null,
   "metadata": {},
   "outputs": [],
   "source": [
    "# this doesn't work. they don't stitch together. \n",
    "# result = df.append(dftwo, sort=False)\n",
    "result = df.append(dftwo, ignore_index=False, sort=True)\n",
    "# result"
   ]
  },
  {
   "cell_type": "code",
   "execution_count": null,
   "metadata": {},
   "outputs": [],
   "source": [
    "dftwo"
   ]
  },
  {
   "cell_type": "code",
   "execution_count": null,
   "metadata": {},
   "outputs": [],
   "source": [
    "df"
   ]
  },
  {
   "cell_type": "code",
   "execution_count": null,
   "metadata": {},
   "outputs": [],
   "source": [
    "for i = 1:len(df)\n",
    "    df(i) = 'value'\n",
    "    "
   ]
  },
  {
   "cell_type": "code",
   "execution_count": null,
   "metadata": {},
   "outputs": [],
   "source": [
    "df('test') = Series(np.random.randn(sLength), index = df.index)"
   ]
  },
  {
   "cell_type": "code",
   "execution_count": null,
   "metadata": {},
   "outputs": [],
   "source": [
    "df"
   ]
  },
  {
   "cell_type": "code",
   "execution_count": null,
   "metadata": {},
   "outputs": [],
   "source": []
  }
 ],
 "metadata": {
  "kernelspec": {
   "display_name": "Python 3",
   "language": "python",
   "name": "python3"
  },
  "language_info": {
   "codemirror_mode": {
    "name": "ipython",
    "version": 3
   },
   "file_extension": ".py",
   "mimetype": "text/x-python",
   "name": "python",
   "nbconvert_exporter": "python",
   "pygments_lexer": "ipython3",
   "version": "3.6.5"
  }
 },
 "nbformat": 4,
 "nbformat_minor": 2
}
