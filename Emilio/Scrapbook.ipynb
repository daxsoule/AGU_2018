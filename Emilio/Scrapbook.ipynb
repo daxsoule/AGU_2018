{
 "cells": [
  {
   "cell_type": "markdown",
   "metadata": {},
   "source": [
    "### make use of scrap python knowledge around the internet"
   ]
  },
  {
   "cell_type": "code",
   "execution_count": null,
   "metadata": {},
   "outputs": [],
   "source": [
    "data = json.loads(NAMEOFSTRINGGOESHERE)\n",
    "\n",
    "print(type(data['regions']))\n",
    "      print data"
   ]
  },
  {
   "cell_type": "code",
   "execution_count": null,
   "metadata": {},
   "outputs": [],
   "source": [
    "for sceneTag in data[d3_p1_z0]\n",
    "    print(startFrame, endFrame) #we want to print out the start frame and the end frame and for when the scene tag d3_pl_z0 occurs."
   ]
  },
  {
   "cell_type": "code",
   "execution_count": null,
   "metadata": {},
   "outputs": [],
   "source": []
  },
  {
   "cell_type": "code",
   "execution_count": null,
   "metadata": {},
   "outputs": [],
   "source": [
    "#### ok so the filters we want on this bad boy are within a given \"regions\"\n",
    "\"sceneTag\": \"d5_p2_z0\",  \"type\": \"static\" \n",
    "#there are multiple regions folders in every movie, so from within one region we want the above^\n",
    "##### from the \"regions\" that pass this filter I want to pull the \"startFrame\" and \"endFrame\" value\n",
    "#I would like the \"URL\" from the \"movie\" section, the movie section is in the same level as regions, which is under root\n"
   ]
  }
 ],
 "metadata": {
  "kernelspec": {
   "display_name": "Python 3",
   "language": "python",
   "name": "python3"
  },
  "language_info": {
   "codemirror_mode": {
    "name": "ipython",
    "version": 3
   },
   "file_extension": ".py",
   "mimetype": "text/x-python",
   "name": "python",
   "nbconvert_exporter": "python",
   "pygments_lexer": "ipython3",
   "version": "3.6.5"
  }
 },
 "nbformat": 4,
 "nbformat_minor": 2
}
