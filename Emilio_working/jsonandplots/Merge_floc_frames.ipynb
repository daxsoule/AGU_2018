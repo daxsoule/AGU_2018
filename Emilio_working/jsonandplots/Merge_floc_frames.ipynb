{
 "cells": [
  {
   "cell_type": "markdown",
   "metadata": {},
   "source": [
    "# Notebook used to merge JSON stored floc dataframes"
   ]
  },
  {
   "cell_type": "markdown",
   "metadata": {},
   "source": [
    "## Starting here with merging the Dep 4&5 Floc Proxy Process Dataframes"
   ]
  },
  {
   "cell_type": "code",
   "execution_count": null,
   "metadata": {},
   "outputs": [],
   "source": [
    "import json\n",
    "import pandas as pd"
   ]
  },
  {
   "cell_type": "markdown",
   "metadata": {},
   "source": [
    "Load the current databases"
   ]
  },
  {
   "cell_type": "code",
   "execution_count": null,
   "metadata": {},
   "outputs": [],
   "source": [
    "frame_dep5 = pd.read_json('/home/jovyan/AGU_2018/Emilio_working/jsonandplots/timestamps_floc_for_Dep5_floc_proxy.json', orient=\"records\", lines=True).sort_values(by=['timestamps'])\n",
    "# frame_dep5.set_index('timestamps', append=True).reset_index(level=1)\n",
    "frame_dep4 = pd.read_json('/home/jovyan/AGU_2018/Emilio_working/jsonandplots/timestamps_floc_for_Dep4_floc_proxy.json', orient=\"records\", lines=True).sort_values(by=['timestamps'])\n",
    "# frame_dep4.set_index('timestamps', append=True).reset_index(level=1)\n",
    "frame_dep4.tail()"
   ]
  },
  {
   "cell_type": "code",
   "execution_count": null,
   "metadata": {},
   "outputs": [],
   "source": [
    "frame_based_results = pd.concat([frame_dep5, frame_dep4], ignore_index=True, sort=True).drop_duplicates(subset=['timestamps'])"
   ]
  },
  {
   "cell_type": "code",
   "execution_count": null,
   "metadata": {},
   "outputs": [],
   "source": [
    "frame_based_results.set_index('timestamps', append=True).reset_index(level=0)"
   ]
  },
  {
   "cell_type": "code",
   "execution_count": null,
   "metadata": {},
   "outputs": [],
   "source": [
    "frame_based_results.to_json('frame_based_results.json', orient=\"records\", lines=True)"
   ]
  },
  {
   "cell_type": "code",
   "execution_count": null,
   "metadata": {},
   "outputs": [],
   "source": [
    "timestamps_floc_for_camhd.tail()"
   ]
  },
  {
   "cell_type": "markdown",
   "metadata": {},
   "source": [
    "## Merging of the Region List Dataframes for Dep 4&5"
   ]
  },
  {
   "cell_type": "code",
   "execution_count": null,
   "metadata": {},
   "outputs": [],
   "source": [
    "import json\n",
    "import pandas as pd"
   ]
  },
  {
   "cell_type": "markdown",
   "metadata": {},
   "source": [
    "Load the current databases"
   ]
  },
  {
   "cell_type": "code",
   "execution_count": null,
   "metadata": {},
   "outputs": [],
   "source": [
    "\n",
    "region_dep5 = pd.read_json('/home/jovyan/AGU_2018/Emilio_working/jsonandplots/plot_timestamps_floc_for_Dep5_Region-Copy1.json', orient=\"records\", lines=True).sort_values(by=['timestamps'])\n",
    "# pydep5.tail\n",
    "region_dep4 = pd.read_json('/home/jovyan/AGU_2018/Emilio_working/jsonandplots/plot_timestamps_floc_for_Dep4_Region-Copy1.json', orient=\"records\", lines=True).sort_values(by=['timestamps'])\n",
    "# pydep4.tail()\n",
    "# pydep5.tail()"
   ]
  },
  {
   "cell_type": "code",
   "execution_count": null,
   "metadata": {},
   "outputs": [],
   "source": [
    "region_dep4"
   ]
  },
  {
   "cell_type": "code",
   "execution_count": null,
   "metadata": {},
   "outputs": [],
   "source": [
    "regions_based_results = pd.concat([region_dep5, region_dep4], ignore_index=True, sort=True).drop_duplicates(subset=['timestamps'])"
   ]
  },
  {
   "cell_type": "code",
   "execution_count": null,
   "metadata": {},
   "outputs": [],
   "source": [
    "regions_based_results.set_index('timestamps', append=True).reset_index(level=0)"
   ]
  },
  {
   "cell_type": "code",
   "execution_count": null,
   "metadata": {},
   "outputs": [],
   "source": [
    "regions_based_results.to_json('regions_based_results.json', orient=\"records\", lines=True)"
   ]
  },
  {
   "cell_type": "code",
   "execution_count": null,
   "metadata": {},
   "outputs": [],
   "source": [
    "timestamps_floc_for_pycamhd"
   ]
  },
  {
   "cell_type": "markdown",
   "metadata": {},
   "source": [
    "## Here we merge Floc Proxy Data Frames with Region List Data Frames"
   ]
  },
  {
   "cell_type": "code",
   "execution_count": null,
   "metadata": {},
   "outputs": [],
   "source": [
    "import json\n",
    "import pandas as pd"
   ]
  },
  {
   "cell_type": "markdown",
   "metadata": {},
   "source": [
    "Load the current databases"
   ]
  },
  {
   "cell_type": "code",
   "execution_count": null,
   "metadata": {},
   "outputs": [],
   "source": [
    "regions_based_results = pd.read_json('/home/jovyan/AGU_2018/Emilio_working/jsonandplots/regions_based_results.json', orient=\"records\", lines=True).sort_values(by=['timestamps'])\n",
    "# regions.tail()\n",
    "frame_based_results = pd.read_json('/home/jovyan/AGU_2018/Emilio_working/jsonandplots/frame_based_results.json', orient=\"records\", lines=True).sort_values(by=['timestamps'])\n",
    "# camhd.tail()"
   ]
  },
  {
   "cell_type": "code",
   "execution_count": null,
   "metadata": {},
   "outputs": [],
   "source": [
    "regions.tail()"
   ]
  },
  {
   "cell_type": "code",
   "execution_count": null,
   "metadata": {},
   "outputs": [],
   "source": [
    "##camhd.update(regions, join='left', overwrite=True, filter_func=None, raise_conflict=False)\n",
    "# timestamp_plot = camhd.merge(regions, how='right', right_on ='timestamps')\n",
    "merged_frame_regions_results = pd.merge(frame_based_results, regions_based_results, how='right', on='timestamps')\n",
    "# merged_frame_regions_results.drop(columns='floc_volume_x', level=None, inplace=False, errors='raise')"
   ]
  },
  {
   "cell_type": "code",
   "execution_count": null,
   "metadata": {},
   "outputs": [],
   "source": [
    "merged_frame_regions_results.drop(columns='floc_volume_x', level=None, inplace=False, errors='raise')"
   ]
  },
  {
   "cell_type": "code",
   "execution_count": null,
   "metadata": {},
   "outputs": [],
   "source": [
    "merged_frame_regions_results.to_json('merged_frame_regions_results.json', orient=\"records\", lines=True)"
   ]
  },
  {
   "cell_type": "code",
   "execution_count": null,
   "metadata": {},
   "outputs": [],
   "source": [
    "timestamp_plot"
   ]
  },
  {
   "cell_type": "code",
   "execution_count": null,
   "metadata": {},
   "outputs": [],
   "source": [
    "merged_frame_regions_results"
   ]
  },
  {
   "cell_type": "code",
   "execution_count": null,
   "metadata": {},
   "outputs": [],
   "source": [
    "merged_frame_regions_results['floc_volume_x'].max()"
   ]
  },
  {
   "cell_type": "markdown",
   "metadata": {},
   "source": [
    "## Here we plt"
   ]
  },
  {
   "cell_type": "code",
   "execution_count": null,
   "metadata": {},
   "outputs": [],
   "source": [
    "import datetime, math\n",
    "import matplotlib.dates as dates\n",
    "import json\n",
    "import pandas as pd"
   ]
  },
  {
   "cell_type": "code",
   "execution_count": null,
   "metadata": {},
   "outputs": [],
   "source": [
    "import intake\n",
    "import numpy as np\n",
    "import hvplot.pandas\n",
    "import hvplot.dask"
   ]
  },
  {
   "cell_type": "code",
   "execution_count": null,
   "metadata": {},
   "outputs": [],
   "source": [
    "%matplotlib inline\n",
    "import matplotlib.pyplot as plt\n",
    "plt.style.use('seaborn-whitegrid')\n",
    "import numpy as np"
   ]
  },
  {
   "cell_type": "code",
   "execution_count": null,
   "metadata": {},
   "outputs": [],
   "source": [
    "# timestamps = pd.read_json('/home/jovyan/AGU_2018/Emilio_working/jsonandplots/timestamp_plot.json', orient=\"records\", lines=True)\n",
    "# # timestamps['date'] = pd.to_datetime(timestamps['timestamps'],unit='s')\n",
    "# datetime.datetime.now(timestamps['timestamps']).date()\n",
    "\n",
    "# # timestamps.hvplot(x=timestamps, y='floc_volume_y', by='timestamps', kind='scatter')\n",
    "# # # flight_subset = flights[flights.carrier.isin([b'OH', b'F9'])]\n",
    "# # # flight_subset.hvplot(x='distance', y='depdelay', by='carrier', kind='scatter', alpha=0.2, persist=True)"
   ]
  },
  {
   "cell_type": "code",
   "execution_count": null,
   "metadata": {},
   "outputs": [],
   "source": [
    "# timestamps.hvplot.hexbin(x='timestamps', y='floc_volume_y', width=1000, height=500,)\n",
    "\n",
    "\n",
    "# # flight_subset = flights[flights.carrier.isin([b'OH', b'F9'])]\n",
    "# # flight_subset.hvplot(x='distance', y='depdelay', by='carrier', kind='scatter', alpha=0.2, persist=True)"
   ]
  },
  {
   "cell_type": "code",
   "execution_count": null,
   "metadata": {},
   "outputs": [],
   "source": [
    "merged_frame_regions_results = pd.read_json('/home/jovyan/AGU_2018/Emilio_working/jsonandplots/merged_frame_regions_results.json', orient=\"records\", lines=True)"
   ]
  },
  {
   "cell_type": "code",
   "execution_count": null,
   "metadata": {},
   "outputs": [],
   "source": [
    "# timestamps.head()"
   ]
  },
  {
   "cell_type": "code",
   "execution_count": null,
   "metadata": {},
   "outputs": [],
   "source": [
    "plt.rc('font', size=11)\n",
    "fig, ax = plt.subplots()\n",
    "fig.set_size_inches(18, 6)\n",
    "fig.frameon = False\n",
    "hb1 = ax.hexbin(merged_frame_regions_results.timestamps, merged_frame_regions_results.floc_volume_y, vmin=0, vmax=1.75, bins='log', linewidths=0.1,\n",
    "  gridsize=(80,100), mincnt=1, cmap=plt.cm.BuPu)\n",
    "fig.colorbar(hb1)\n",
    "ax.set_ylim([0, 1000])\n",
    "# ax.set_xlim([frame_timestamp[0],frame_timestamp[-1]])\n",
    "ax.yaxis.grid(True)\n",
    "ax.xaxis.grid(True)\n",
    "months = dates.MonthLocator()  # every other day\n",
    "monthsFmt = dates.DateFormatter('%m %d %Y')\n",
    "ax.xaxis.set_major_locator(months)\n",
    "ax.xaxis.set_major_formatter(monthsFmt)\n",
    "plt.ylabel('Number of Floc Particles');\n",
    "plt.savefig('Number_of_Floc_Particles.png')"
   ]
  },
  {
   "cell_type": "code",
   "execution_count": null,
   "metadata": {},
   "outputs": [],
   "source": []
  }
 ],
 "metadata": {
  "kernelspec": {
   "display_name": "Python 3",
   "language": "python",
   "name": "python3"
  },
  "language_info": {
   "codemirror_mode": {
    "name": "ipython",
    "version": 3
   },
   "file_extension": ".py",
   "mimetype": "text/x-python",
   "name": "python",
   "nbconvert_exporter": "python",
   "pygments_lexer": "ipython3",
   "version": "3.6.6"
  }
 },
 "nbformat": 4,
 "nbformat_minor": 2
}
