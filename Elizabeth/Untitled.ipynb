{
 "cells": [
  {
   "cell_type": "markdown",
   "metadata": {},
   "source": [
    "# Markdown PowerPoint Draft"
   ]
  },
  {
   "cell_type": "markdown",
   "metadata": {},
   "source": [
    "### Exploring Diffuse Temperature Flow, Seismicity, and Tidal Pressure Controls on Flocculation Events at Axial Seamount "
   ]
  },
  {
   "cell_type": "markdown",
   "metadata": {},
   "source": [
    "Good morning and thank you for coming. I am Elizabeth Pesar, I’m a geology student at Queens College of the City University of New York. Today we’re going to be discussing correlations between floc events, diffuse hydrothermal flow, and seafloor bottom pressure signals at Axial Seamount volcano as its magma chamber re-inflates. This is a collaborative work between many gifted scientists including my fellow geology student Emilio Tesin, our mentor Dax Soule at Queens College, and Tim Crone of Columbia University’s Lamont Doherty Earth Observatory. We would like to thank Deb Kelley and Friedrich Knuth of the University of Washington, the entire crew of the R/V Roger Revelle, the staff of the Ocean Observatories Initiative, and in particular Meethila Rahman formerly of Queens College, without whom none of this would be possible. \n"
   ]
  },
  {
   "cell_type": "markdown",
   "metadata": {},
   "source": [
    "### Cabled Array"
   ]
  },
  {
   "cell_type": "code",
   "execution_count": null,
   "metadata": {},
   "outputs": [],
   "source": [
    "from IPython.display import Image\n",
    "Image(filename='cabled array.png')"
   ]
  },
  {
   "cell_type": "markdown",
   "metadata": {},
   "source": [
    "This is a diagram of Ocean Observatory Initiative’s Cabled Array off the coast of OR and WA. Going live in 2015, the Cabled Array provides real-time data from a diverse set of instruments at different sites connected by a fiberoptic cable spanning the entire Juan de Fuca tectonic plate. Axial Seamount is located toward the far west. Together, the instrumentation network at ASHES Vent Field and the International District at Axial form the most comprehensive underwater volcanic observatory in the world. We chose to study data from CamHD, TMPSF, and five Short-Period Ocean Bottom Seismometers, all located in ASHES Vent Field.\n"
   ]
  },
  {
   "cell_type": "markdown",
   "metadata": {},
   "source": [
    "# Queens College aboard the R/V Roger Revelle"
   ]
  },
  {
   "cell_type": "code",
   "execution_count": null,
   "metadata": {},
   "outputs": [],
   "source": [
    "from IPython.display import Image\n",
    "Image(filename='cabled array.png')"
   ]
  },
  {
   "cell_type": "markdown",
   "metadata": {},
   "source": [
    "Every summer, the oceanographic research vessel Roger Revelle sails to the different sites along the Cabled Array to perform maintenance and take samples. For 2 years running, Queens College students have had the privilege of participating as Visions interns aboard the R/V Roger Revelle.  In 2017, Queens College students assisted as the ROV Jason was deployed on multiple dives. In 2018, we witnessed a new CamHD system being installed at Axial’s base, and assisted with the CTD (conductivity, temperature, depth) device. Here, you can see Emilio working on the CTD. \n"
   ]
  },
  {
   "cell_type": "code",
   "execution_count": null,
   "metadata": {},
   "outputs": [],
   "source": []
  },
  {
   "cell_type": "code",
   "execution_count": null,
   "metadata": {},
   "outputs": [],
   "source": []
  },
  {
   "cell_type": "code",
   "execution_count": null,
   "metadata": {},
   "outputs": [],
   "source": []
  },
  {
   "cell_type": "code",
   "execution_count": null,
   "metadata": {},
   "outputs": [],
   "source": []
  },
  {
   "cell_type": "code",
   "execution_count": null,
   "metadata": {},
   "outputs": [],
   "source": []
  }
 ],
 "metadata": {
  "kernelspec": {
   "display_name": "Python 3",
   "language": "python",
   "name": "python3"
  },
  "language_info": {
   "codemirror_mode": {
    "name": "ipython",
    "version": 3
   },
   "file_extension": ".py",
   "mimetype": "text/x-python",
   "name": "python",
   "nbconvert_exporter": "python",
   "pygments_lexer": "ipython3",
   "version": "3.6.6"
  }
 },
 "nbformat": 4,
 "nbformat_minor": 2
}
