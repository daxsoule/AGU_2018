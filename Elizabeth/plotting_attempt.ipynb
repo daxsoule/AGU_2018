{
 "cells": [
  {
   "cell_type": "code",
   "execution_count": null,
   "metadata": {},
   "outputs": [],
   "source": []
  },
  {
   "cell_type": "markdown",
   "metadata": {},
   "source": [
    "# BOTPT Data detide for Central Caldera Station E; Chadwick Method"
   ]
  },
  {
   "cell_type": "markdown",
   "metadata": {},
   "source": [
    "We detide seafloor pressure measurements taken at The Axial Seamount's Central Caldera (RS03CCAL)  "
   ]
  },
  {
   "cell_type": "markdown",
   "metadata": {},
   "source": [
    "# Abstract\n",
    "#### The Ocean Observatories Initiative Cabled Array (OOI-CA) provides the opportunity to use new approaches to observe geological  processes  at Axial Seamount, an active submarine volcano on the Juan de Fuca spreading ridge located ~300 miles off the coast of Oregon. The OOI-CA provides a suite of interdisciplinary real-time datasets from seismic and geodetic networks and a variety of instruments in two hydrothermal fields with which we can examine system-level processes governing the volcano-marine environment. The geophysical networks comprise 4 Pressure/Tilt (BOTPT) instruments that detect the rise, fall, and tilt of the seafloor as it responds to the movement of magma within the crust and 7 seismometers to monitor earthquakes. In order to better understand the patterns of magma storage and delivery beneath the Axial summit caldera and provide constraints for the development of improved predictive models, we are examining short-term variations in the rates of deformation and seismicity and how well they co-vary during the inter-eruption time period. We will also investigate apparent “pauses” in the magma supply rate when the rate of seismicity and deformation have both dropped. On the time-scale of years, seafloor deformation measurements show a relatively steady rate of inflation of the seafloor between eruptions that can be interpreted as reflecting the rate that magma is supplied to the sub-caldera magma reservoir (Nooner and Chadwick 2016). However, on the time-scale of weeks to months, the rate is more variable. Similarly, the rate of earthquakes detected by the OOI seismometer network also varies with time. It was very low immediately after the 2015 eruption, but it has increased markedly over the past year, and based on the observations of prior eruptive cycles, it is expected to increase by several orders of magnitude before the next eruption."
   ]
  },
  {
   "cell_type": "code",
   "execution_count": null,
   "metadata": {},
   "outputs": [],
   "source": [
    "%reset -f"
   ]
  },
  {
   "cell_type": "code",
   "execution_count": null,
   "metadata": {},
   "outputs": [],
   "source": [
    "# Load map of Axial caldera showing locations of BOTPT instruments (red circles)\n",
    "from IPython.display import Image\n",
    "Image(url = \"https://www.pmel.noaa.gov/eoi/rsn/Axial-2017-OOI-caldera-ed-sm.png\")"
   ]
  },
  {
   "cell_type": "code",
   "execution_count": null,
   "metadata": {},
   "outputs": [],
   "source": [
    "#Zoomed in map of Axial caldera\n",
    "from IPython.display import Image\n",
    "Image(url = \"https://www.pmel.noaa.gov/eoi/rsn/Axial-2017-OOI-zoom-ed-sm.png\")"
   ]
  },
  {
   "cell_type": "markdown",
   "metadata": {},
   "source": [
    "### API Information Setup"
   ]
  },
  {
   "cell_type": "code",
   "execution_count": null,
   "metadata": {},
   "outputs": [],
   "source": [
    "USERNAME = 'OOIAPI-J97520T1AYPUNI'\n",
    "TOKEN =  'TEMP-TOKEN-YD01XSNDIO57MP'"
   ]
  },
  {
   "cell_type": "code",
   "execution_count": null,
   "metadata": {},
   "outputs": [],
   "source": [
    "import xarray as xr\n",
    "import pandas as pd\n",
    "import numpy as np\n",
    "import datetime\n",
    "import os\n",
    "import matplotlib.pyplot as plt\n",
    "import matplotlib.dates as dates\n",
    "from matplotlib import pyplot\n",
    "from pylab import rcParams\n",
    "import pickle as pk\n",
    "import gc\n",
    "import requests \n",
    "import matplotlib.gridspec as gridspec\n",
    "import netCDF4 as nc\n",
    "import warnings\n",
    "warnings.filterwarnings('ignore')"
   ]
  },
  {
   "cell_type": "markdown",
   "metadata": {},
   "source": [
    "#### For mad help with Pandas https://chrisalbon.com\n",
    "#### For all sorts of great repos https://github.com/rabernat/research_computing.git"
   ]
  },
  {
   "cell_type": "markdown",
   "metadata": {},
   "source": [
    "#### Read Tide Data E"
   ]
  },
  {
   "cell_type": "code",
   "execution_count": null,
   "metadata": {},
   "outputs": [],
   "source": [
    "tide_file = '/home/jovyan/data/botpt/tidepredictions/pred_E.txt'\n",
    "df_tides = pd.read_csv(tide_file, delim_whitespace=True, dtype = object)\n",
    "df_tides['datetime']=df_tides['year'] + '-' + df_tides['month'] + '-' + df_tides['day'] + \\\n",
    "            'T' + df_tides['hour'] + ':' + df_tides['minute'] + ':' + df_tides['second']\n",
    "# df_tides_E = pd.DataFrame(tides_E)\n",
    "df_tides.index=pd.to_datetime(df_tides['datetime'].values)\n",
    "# df_tides_E.index = df_tides_E['parsed_time']\n",
    "del df_tides['year']\n",
    "del df_tides['month']\n",
    "del df_tides['day']\n",
    "del df_tides['hour']\n",
    "del df_tides['minute']\n",
    "del df_tides['second']\n",
    "del df_tides['datetime']\n",
    "df_tides['height'] = df_tides['height'].astype(float)\n",
    "df_tides= df_tides.sort_index()\n",
    "#df_tides_E['height'] = df_tides_E['height'].to_pandas().resample('T').mean()\n",
    "\n",
    "# columnsTitles=[\"datetime\",\"height\"]\n",
    "# df_tides_E=df_tides_E.reindex(columns=columnsTitles)\n",
    "df_tides.head()"
   ]
  },
  {
   "cell_type": "code",
   "execution_count": null,
   "metadata": {},
   "outputs": [],
   "source": [
    "#list comprehention\n",
    "epoch= [i.timestamp() for i in df_tides.index.to_pydatetime()]"
   ]
  },
  {
   "cell_type": "code",
   "execution_count": null,
   "metadata": {},
   "outputs": [],
   "source": [
    "df_tides['epoch'] = epoch\n",
    "df_tides.head()"
   ]
  },
  {
   "cell_type": "markdown",
   "metadata": {},
   "source": [
    "#### Read Downsampled BOTPT Data"
   ]
  },
  {
   "cell_type": "code",
   "execution_count": null,
   "metadata": {},
   "outputs": [],
   "source": [
    "with open('/home/jovyan/data/botpt/tidepredictions/bottom_pressure15S_E11.pkl', 'rb') as E:\n",
    "    botpt_data = pk.load(E)\n",
    "df_botpt = pd.DataFrame(botpt_data)\n",
    "df_botpt['bottom_pressure'] = df_botpt['bottom_pressure'].astype(float)\n",
    "df_botpt['depth']=df_botpt['bottom_pressure'].astype(float) * 0.670\n",
    "#MJ03F_cal_depths = [MJ03F_pressure * 0.0670 for MJ03F_pressure in MJ03F_pressure]\n",
    "#list comprehention\n",
    "epoch= [i.timestamp() for i in df_botpt.index.to_pydatetime()]\n",
    "df_botpt['epoch'] = epoch\n",
    "df_botpt= df_botpt.sort_index()\n",
    "df_botpt.head()"
   ]
  },
  {
   "cell_type": "code",
   "execution_count": null,
   "metadata": {},
   "outputs": [],
   "source": [
    "df_botpt.tail()"
   ]
  },
  {
   "cell_type": "markdown",
   "metadata": {},
   "source": [
    "#### Combine BOTPT with Tide Predictions"
   ]
  },
  {
   "cell_type": "code",
   "execution_count": null,
   "metadata": {},
   "outputs": [],
   "source": [
    "df_subsetTides = df_tides.loc['2015-01-1 00:00:00':'2018-10-31 00:00:00']\n",
    "df_subsetBOTPT = df_botpt.loc['2015-01-1 00:00:00':'2018-10-31 00:00:00']"
   ]
  },
  {
   "cell_type": "code",
   "execution_count": null,
   "metadata": {},
   "outputs": [],
   "source": [
    "df_subsetBOTPT['tides'] = df_subsetTides.height\n",
    "df_subsetBOTPT.head()"
   ]
  },
  {
   "cell_type": "code",
   "execution_count": null,
   "metadata": {},
   "outputs": [],
   "source": [
    "df_subsetBOTPT['dtide']=  df_subsetBOTPT['depth'] - df_subsetBOTPT['tides']\n",
    "df_subsetBOTPT.head()"
   ]
  },
  {
   "cell_type": "code",
   "execution_count": null,
   "metadata": {},
   "outputs": [],
   "source": [
    "#time = list(df_botpt.index.values)\n",
    "height = list(df_subsetBOTPT['dtide'].values)\n",
    "\n",
    "time_int = []\n",
    "time = list(pd.to_datetime(df_subsetBOTPT.index.values))\n",
    "for i in time:\n",
    "    i = np.datetime64(i).astype(datetime.datetime)\n",
    "    time_int.append(dates.date2num(i))"
   ]
  },
  {
   "cell_type": "code",
   "execution_count": null,
   "metadata": {},
   "outputs": [],
   "source": [
    "plt.close()\n",
    "fig, ax = plt.subplots()\n",
    "fig.set_size_inches(28, 6)\n",
    "hb1 = ax.hexbin(time_int, height, vmin=0, vmax=30, gridsize=(1500,100), mincnt=1, cmap='Greens', linewidths=0)\n",
    "fig.colorbar(hb1, pad = 0.01)\n",
    "ax.yaxis.grid(True)\n",
    "ax.xaxis.grid(True)\n",
    "ax.set_xlim(datetime.datetime(2015, 1, 1, 0, 0),datetime.datetime(2018, 10, 31, 0, 0))\n",
    "years = dates.YearLocator()\n",
    "months = dates.MonthLocator()\n",
    "yearsFmt = dates.DateFormatter('\\n\\n\\n%Y')\n",
    "monthsFmt = dates.DateFormatter('%b')\n",
    "ax.xaxis.set_major_locator(months)\n",
    "ax.xaxis.set_major_formatter(monthsFmt)\n",
    "ax.xaxis.set_minor_locator(years)\n",
    "ax.xaxis.set_minor_formatter(yearsFmt)\n",
    "plt.tight_layout()\n",
    "plt.setp(ax.xaxis.get_majorticklabels(), rotation=90)\n",
    "plt.gca().invert_yaxis()\n",
    "plt.show()\n",
    "plt.savefig('/home/jovyan/AGU_2018/Figures_StationE_2015thruPresent.png')"
   ]
  },
  {
   "cell_type": "markdown",
   "metadata": {},
   "source": []
  },
  {
   "cell_type": "code",
   "execution_count": null,
   "metadata": {},
   "outputs": [],
   "source": [
    "df_subsetBOTPT['date']=pd.DatetimeIndex(df_subsetBOTPT.index).date\n",
    "df_subsetBOTPT.head()"
   ]
  },
  {
   "cell_type": "markdown",
   "metadata": {},
   "source": [
    "#### Use Groupby to create one day mean measurements"
   ]
  },
  {
   "cell_type": "code",
   "execution_count": null,
   "metadata": {},
   "outputs": [],
   "source": [
    "df_botptMean=df_subsetBOTPT.groupby('date').mean()\n",
    "df_botptMean.head()"
   ]
  },
  {
   "cell_type": "markdown",
   "metadata": {},
   "source": [
    "#### Create time and height vectors for plotting "
   ]
  },
  {
   "cell_type": "code",
   "execution_count": null,
   "metadata": {},
   "outputs": [],
   "source": [
    "# time = list(df_botptMerge.index.values)\n",
    "#height = x.tolist()\n",
    "height = df_botptMean['dtide'].tolist()\n",
    "time_int = []\n",
    "time = list(pd.to_datetime(df_botptMean.index.values))\n",
    "for i in time:\n",
    "    i = np.datetime64(i).astype(datetime.datetime)\n",
    "    time_int.append(dates.date2num(i))"
   ]
  },
  {
   "cell_type": "markdown",
   "metadata": {},
   "source": [
    "#### Plot One Day Measurements. "
   ]
  },
  {
   "cell_type": "code",
   "execution_count": null,
   "metadata": {},
   "outputs": [],
   "source": [
    "plt.close()\n",
    "fig, ax = plt.subplots()\n",
    "fig.set_size_inches(28, 7)\n",
    "hb1 = ax.plot(time_int, height)\n",
    "ax.yaxis.grid(True)\n",
    "ax.xaxis.grid(True)\n",
    "ax.set_xlim(datetime.datetime(2017, 1, 1, 0, 0),datetime.datetime(2018, 10, 15, 0, 0))\n",
    "ax.set_ylim(1501.25,1502.2)\n",
    "years = dates.YearLocator()\n",
    "months = dates.MonthLocator()\n",
    "yearsFmt = dates.DateFormatter('\\n\\n\\n%Y')\n",
    "monthsFmt = dates.DateFormatter('%b')\n",
    "ax.xaxis.set_major_locator(months)\n",
    "ax.xaxis.set_major_formatter(monthsFmt)\n",
    "ax.xaxis.set_minor_locator(years)\n",
    "ax.xaxis.set_minor_formatter(yearsFmt)\n",
    "plt.tight_layout()\n",
    "plt.setp(ax.xaxis.get_majorticklabels(), rotation=90)\n",
    "plt.gca().invert_yaxis()\n",
    "plt.show()\n",
    "plt.savefig('/home/jovyan/AGU_2018/StationF_2017_2018_1dayAve.png')"
   ]
  },
  {
   "cell_type": "code",
   "execution_count": null,
   "metadata": {},
   "outputs": [],
   "source": [
    "def movingaverage(interval, window_size):\n",
    "    window= np.ones(int(window_size))/float(window_size)\n",
    "    return np.convolve(interval, window, 'same')"
   ]
  },
  {
   "cell_type": "code",
   "execution_count": null,
   "metadata": {},
   "outputs": [],
   "source": [
    "# smooth data using rolling window that chops off 95th percentile \n",
    "TwelveWeek = list(movingaverage(df_botptMean['dtide'],28))"
   ]
  },
  {
   "cell_type": "code",
   "execution_count": null,
   "metadata": {},
   "outputs": [],
   "source": [
    "len(time_int)"
   ]
  },
  {
   "cell_type": "code",
   "execution_count": null,
   "metadata": {},
   "outputs": [],
   "source": [
    "plt.close()\n",
    "fig, ax = plt.subplots()\n",
    "fig.set_size_inches(28, 7)\n",
    "hb1 = ax.plot(time_int, TwelveWeek,linewidth=5)\n",
    "ax.yaxis.grid(True)\n",
    "ax.xaxis.grid(True)\n",
    "ax.set_xlim(datetime.datetime(2017, 1, 1, 0, 0),datetime.datetime(2018, 10, 15, 0, 0))\n",
    "ax.set_ylim(1501.6,1502.2)\n",
    "years = dates.YearLocator()\n",
    "months = dates.MonthLocator()\n",
    "yearsFmt = dates.DateFormatter('\\n\\n\\n%Y')\n",
    "monthsFmt = dates.DateFormatter('%b')\n",
    "ax.xaxis.set_major_locator(months)\n",
    "ax.xaxis.set_major_formatter(monthsFmt)\n",
    "ax.xaxis.set_minor_locator(years)\n",
    "ax.xaxis.set_minor_formatter(yearsFmt)\n",
    "plt.tight_layout()\n",
    "plt.setp(ax.xaxis.get_majorticklabels(), rotation=90)\n",
    "plt.gca().invert_yaxis()\n",
    "plt.show()\n",
    "plt.savefig('/home/jovyan/AGU_2018/StationF_2017_2018_1dayAve.png')"
   ]
  },
  {
   "cell_type": "markdown",
   "metadata": {},
   "source": [
    "#### Import TMPSF Data"
   ]
  },
  {
   "cell_type": "code",
   "execution_count": null,
   "metadata": {},
   "outputs": [],
   "source": [
    "# blob_ids = ['1w-f9wRHqHr5Uqe7MXwC2XKAD1cupn5yF',\n",
    "#             '1XgYcdx5ZvQIkhtWGZU73-MJ6sWAv2YuS',\n",
    "#             '1vB0g0ksFty4wzR1YP38OcqemmS5QXax_',\n",
    "#             '1kyKo24QAcIc8qFXLwMZhHBaAI3JLdJis',\n",
    "#             '1z2gjfFcpqPbcfyhWam6FNdDG7ltXYKn1',\n",
    "#             '1RNGWfEoJU5DhWt9df72PHH9FmFT86xa0']"
   ]
  },
  {
   "cell_type": "code",
   "execution_count": null,
   "metadata": {},
   "outputs": [],
   "source": [
    "# file_list = ['deployment0001_RS03ASHS-MJ03B-07-TMPSFA301-streamed-tmpsf_sample_20140929T190312-20141231T235952.nc',\n",
    "#              'deployment0001_RS03ASHS-MJ03B-07-TMPSFA301-streamed-tmpsf_sample_20150101T000002-20151231T235958.777243.nc',\n",
    "#              'deployment0001_RS03ASHS-MJ03B-07-TMPSFA301-streamed-tmpsf_sample_20160101T000010.778112-20161231T235958.439167.nc',\n",
    "#              'deployment0001_RS03ASHS-MJ03B-07-TMPSFA301-streamed-tmpsf_sample_20170101T000010.438824-20170813T232226.349596.nc',\n",
    "#              'deployment0003_RS03ASHS-MJ03B-07-TMPSFA301-streamed-tmpsf_sample_20170815T003130.804600-20171231T235950.623028.nc',\n",
    "#              'deployment0003_RS03ASHS-MJ03B-07-TMPSFA301-streamed-tmpsf_sample_20180101T000000.621938-20180912T225325.872315.nc']"
   ]
  },
  {
   "cell_type": "code",
   "execution_count": null,
   "metadata": {},
   "outputs": [],
   "source": [
    "# import driveanon as da\n",
    "# from pathlib import Path"
   ]
  },
  {
   "cell_type": "code",
   "execution_count": null,
   "metadata": {},
   "outputs": [],
   "source": [
    "# for i, blob_id in enumerate(blob_ids):\n",
    "#     if not Path(file_list[i]).is_file():\n",
    "#         da.save(blob_id)\n",
    "#         print(file_list[i])"
   ]
  },
  {
   "cell_type": "code",
   "execution_count": null,
   "metadata": {},
   "outputs": [],
   "source": [
    "# import xarray as xr"
   ]
  },
  {
   "cell_type": "code",
   "execution_count": null,
   "metadata": {},
   "outputs": [],
   "source": [
    "# ds = xr.open_mfdataset(file_list, drop_variables=['lat', 'lon', 'obs',\n",
    "#                                                   'id', 'battery_voltage',\n",
    "#                                                   'driver_timestamp',\n",
    "#                                                   'ingestion_timestamp',\n",
    "#                                                   'internal_timestamp',\n",
    "#                                                   'port_timestamp',\n",
    "#                                                   'preferred_timestamp',\n",
    "#                                                   'timestamp',\n",
    "#                                                   'provenance', 'serial_number',\n",
    "#                                                   'temperature01_qc_executed',\n",
    "#                                                   'temperature01_qc_results',\n",
    "#                                                   'temperature02_qc_executed',\n",
    "#                                                   'temperature02_qc_results',\n",
    "#                                                   'temperature03_qc_executed',\n",
    "#                                                   'temperature03_qc_results',\n",
    "#                                                   'temperature04_qc_executed',\n",
    "#                                                   'temperature04_qc_results',\n",
    "#                                                   'temperature05_qc_executed',\n",
    "#                                                   'temperature05_qc_results',\n",
    "#                                                   'temperature06_qc_executed',\n",
    "#                                                   'temperature06_qc_results',\n",
    "#                                                   'temperature07_qc_executed',\n",
    "#                                                   'temperature07_qc_results',\n",
    "#                                                   'temperature08_qc_executed',\n",
    "#                                                   'temperature08_qc_results',\n",
    "#                                                   'temperature09_qc_executed',\n",
    "#                                                   'temperature09_qc_results',\n",
    "#                                                   'temperature10_qc_executed',\n",
    "#                                                   'temperature10_qc_results',\n",
    "#                                                   'temperature11_qc_executed',\n",
    "#                                                   'temperature11_qc_results',\n",
    "#                                                   'temperature12_qc_executed',\n",
    "#                                                   'temperature12_qc_results',\n",
    "#                                                   'temperature13_qc_executed',\n",
    "#                                                   'temperature13_qc_results',\n",
    "#                                                   'temperature14_qc_executed',\n",
    "#                                                   'temperature14_qc_results',\n",
    "#                                                   'temperature15_qc_executed',\n",
    "#                                                   'temperature15_qc_results',\n",
    "#                                                   'temperature16_qc_executed',\n",
    "#                                                   'temperature16_qc_results',\n",
    "#                                                   'temperature17_qc_executed',\n",
    "#                                                   'temperature17_qc_results',\n",
    "#                                                   'temperature18_qc_executed',\n",
    "#                                                   'temperature18_qc_results',\n",
    "#                                                   'temperature19_qc_executed',\n",
    "#                                                   'temperature19_qc_results',\n",
    "#                                                   'temperature20_qc_executed',\n",
    "#                                                   'temperature20_qc_results',\n",
    "#                                                   'temperature21_qc_executed',\n",
    "#                                                   'temperature21_qc_results',\n",
    "#                                                   'temperature22_qc_executed',\n",
    "#                                                   'temperature22_qc_results',\n",
    "#                                                   'temperature23_qc_executed',\n",
    "#                                                   'temperature23_qc_results',\n",
    "#                                                   'temperature24_qc_executed',\n",
    "#                                                   'temperature24_qc_results',\n",
    "#                                                   'temperature01_qc_executed',\n",
    "#                                                   'temperature01_qc_results'])\n",
    "# ds = ds.swap_dims({'obs': 'time'})\n",
    "# ds"
   ]
  },
  {
   "cell_type": "code",
   "execution_count": null,
   "metadata": {},
   "outputs": [],
   "source": [
    "# import pandas as pd"
   ]
  },
  {
   "cell_type": "code",
   "execution_count": null,
   "metadata": {},
   "outputs": [],
   "source": [
    "# df = ds.to_dataframe()\n",
    "# df.head()"
   ]
  },
  {
   "cell_type": "code",
   "execution_count": null,
   "metadata": {},
   "outputs": [],
   "source": [
    "# df['year'] = df.index.year\n",
    "# df['month'] =df.index.month"
   ]
  },
  {
   "cell_type": "code",
   "execution_count": null,
   "metadata": {},
   "outputs": [],
   "source": [
    "# df.groupby(['year', 'month']).describe()"
   ]
  },
  {
   "cell_type": "code",
   "execution_count": null,
   "metadata": {},
   "outputs": [],
   "source": [
    "import requests\n",
    "import datetime\n",
    "import matplotlib.pyplot as plt\n",
    "import seaborn as sns \n",
    "sns.set()\n",
    "import numpy as np"
   ]
  },
  {
   "cell_type": "code",
   "execution_count": null,
   "metadata": {},
   "outputs": [],
   "source": [
    "USERNAME = 'OOIAPI-M8QQMKQSFYJ299'\n",
    "TOKEN =  'TEMP-TOKEN-GJAGBOQSN4ZE8B'"
   ]
  },
  {
   "cell_type": "code",
   "execution_count": null,
   "metadata": {},
   "outputs": [],
   "source": [
    "subsite = 'RS03ASHS'\n",
    "node = 'MJ03B'\n",
    "sensor = '07-TMPSFA301'\n",
    "method = 'streamed'\n",
    "stream = 'tmpsf_sample'\n",
    "beginDT = '2017-01-01T10:01:01.000Z'\n",
    "endDT = '2018-10-15T10:01:01.000Z'"
   ]
  },
  {
   "cell_type": "code",
   "execution_count": null,
   "metadata": {},
   "outputs": [],
   "source": [
    "base_url = 'https://ooinet.oceanobservatories.org/api/m2m/12576/sensor/inv/'\n",
    "\n",
    "data_request_url ='/'.join((base_url,subsite,node,sensor,method,stream))\n",
    "params = {\n",
    "    'beginDT':beginDT,\n",
    "    'endDT':endDT,\n",
    "    'limit':1000,   \n",
    "}\n",
    "\n",
    "\n",
    "r = requests.get(data_request_url, params=params, auth=(USERNAME, TOKEN))\n",
    "data = r.json()"
   ]
  },
  {
   "cell_type": "code",
   "execution_count": null,
   "metadata": {},
   "outputs": [],
   "source": [
    "data[0]"
   ]
  },
  {
   "cell_type": "code",
   "execution_count": null,
   "metadata": {},
   "outputs": [],
   "source": [
    "import netCDF4 as nc"
   ]
  },
  {
   "cell_type": "code",
   "execution_count": null,
   "metadata": {},
   "outputs": [],
   "source": [
    "time = []\n",
    "temperature01 = []\n",
    "\n",
    "for i in range(len(data)):\n",
    "    time.append(nc.num2date(data[i]['time'],'seconds since 1900-01-01').replace(microsecond=0))\n",
    "    temperature01.append(data[i]['temperature01'])"
   ]
  },
  {
   "cell_type": "code",
   "execution_count": null,
   "metadata": {},
   "outputs": [],
   "source": [
    "fig, (ax1) = plt.subplots(1, sharex=True, sharey=True)\n",
    "ax1.plot(time, temperature01, marker=\".\", markersize=1, linestyle=None)\n",
    "ax1.set_ylabel('T01 $^\\circ$C')\n",
    "plt.xlabel('Time')\n",
    "plt.xticks(rotation=30)\n",
    "plt.tight_layout()\n",
    "# fig.subplots_adjust(hspace=0)\n",
    "plt.setp([a.get_xticklabels() for a in fig.axes[:-1]], visible=False)\n",
    "fig.set_size_inches(16, 8)\n",
    "plt.show()"
   ]
  },
  {
   "cell_type": "markdown",
   "metadata": {},
   "source": [
    "#### Import Seismic Data "
   ]
  },
  {
   "cell_type": "code",
   "execution_count": null,
   "metadata": {},
   "outputs": [],
   "source": [
    "seismic_file = '/home/jovyan/data/botpt/tidepredictions/hypo71_2018.dat'\n",
    "df_seismic_data = pd.read_csv(seismic_file, delim_whitespace=True, dtype=object)\n",
    "df_seismic_data['datetime'] = df_seismic_data['yyyymmdd'] + 'T' + \\\n",
    "            df_seismic_data['HHMM'].str.slice(start=0, stop=2) + ':' + \\\n",
    "            df_seismic_data['HHMM'].str.slice(start=2) \n",
    "df_seismic_data.index = pd.to_datetime(df_seismic_data['datetime'].values)\n",
    "df_seismic_data['datetime'] = pd.to_datetime(df_seismic_data['datetime'].values)\n",
    "df_seismic_data = df_seismic_data.loc['2017-01-1 00:00:00':'2018-10-31 00:00:00']\n",
    "del df_seismic_data['yyyymmdd']\n",
    "del df_seismic_data['HHMM']\n",
    "del df_seismic_data['SSS.SS']\n",
    "del df_seismic_data['MW']\n",
    "del df_seismic_data['NWR']\n",
    "del df_seismic_data['GAP']\n",
    "del df_seismic_data['DMIN']\n",
    "del df_seismic_data['ERH']\n",
    "del df_seismic_data['ERZ']\n",
    "del df_seismic_data['ID']"
   ]
  },
  {
   "cell_type": "code",
   "execution_count": null,
   "metadata": {},
   "outputs": [],
   "source": [
    "df_seismic_data.datetime.astype(np.int64).values/1e64\n",
    "df_seismic_data['date'] =pd.DatetimeIndex(df_seismic_data.datetime).date\n",
    "#df_seismic_data.head()"
   ]
  },
  {
   "cell_type": "markdown",
   "metadata": {},
   "source": [
    "#### Create dataframe with Earthquake frequency (count per day)\n",
    "##### Note: Days with zero earthquakes are not represented in this timeseries. "
   ]
  },
  {
   "cell_type": "code",
   "execution_count": null,
   "metadata": {},
   "outputs": [],
   "source": [
    "df_eqMean=df_seismic_data.groupby('date').count()\n",
    "del df_eqMean['Lat(D']\n",
    "del df_eqMean['M)']\n",
    "del df_eqMean['Lon(D']\n",
    "del df_eqMean['M).1']\n",
    "del df_eqMean['Depth']\n",
    "del df_eqMean['RMS']\n",
    "del df_eqMean['PMom']\n",
    "del df_eqMean['SMom']\n",
    "df_eqMean['count']= df_eqMean.datetime\n",
    "del df_eqMean['datetime']\n",
    "df_eqMean.columns.name = df_eqMean.index.name\n",
    "df_eqMean.index.name = None\n",
    "#df_eqMean.head()"
   ]
  },
  {
   "cell_type": "markdown",
   "metadata": {},
   "source": [
    "#### Resample. Add days to our earthquake data where there were zero earthquakes. "
   ]
  },
  {
   "cell_type": "code",
   "execution_count": null,
   "metadata": {},
   "outputs": [],
   "source": [
    "idx = pd.date_range('2017-01-1 00:00:00', '2018-10-31 00:00:00')\n",
    "\n",
    "s = df_eqMean\n",
    "\n",
    "s.index = pd.DatetimeIndex(s.index)\n",
    "\n",
    "s = s.reindex(idx, fill_value=0)"
   ]
  },
  {
   "cell_type": "markdown",
   "metadata": {},
   "source": [
    "#### Create time and count vectors earthquake frequency vectors for plotting "
   ]
  },
  {
   "cell_type": "code",
   "execution_count": null,
   "metadata": {},
   "outputs": [],
   "source": [
    "count = df_eqMean['count'].tolist()\n",
    "time_eq = []\n",
    "time = list(pd.to_datetime(df_eqMean.index.values))\n",
    "for i in time:\n",
    "    i = np.datetime64(i).astype(datetime.datetime)\n",
    "    time_eq.append(dates.date2num(i))"
   ]
  },
  {
   "cell_type": "code",
   "execution_count": null,
   "metadata": {},
   "outputs": [],
   "source": [
    "# smooth data using rolling window that chops off 95th percentile \n",
    "count_av = list(movingaverage(df_eqMean['count'],21))"
   ]
  },
  {
   "cell_type": "markdown",
   "metadata": {},
   "source": [
    "#### Comparison of Earthquake Frequency and Inflation Rate "
   ]
  },
  {
   "cell_type": "code",
   "execution_count": null,
   "metadata": {},
   "outputs": [],
   "source": [
    "plt.close()\n",
    "fig4, (ax1,ax2) = plt.subplots(2,1)\n",
    "fig4.set_size_inches(28, 16)\n",
    "hb1 = ax1.plot(time_int, TwelveWeek,linewidth=5)\n",
    "ax1.yaxis.grid(True)\n",
    "ax1.xaxis.grid(True)\n",
    "ax1.set_xlim(datetime.datetime(2017, 1, 1, 0, 0),datetime.datetime(2018, 10, 15, 0, 0))\n",
    "ax1.set_ylim(1501.6,1502.2)\n",
    "years = dates.YearLocator()\n",
    "months = dates.MonthLocator()\n",
    "yearsFmt = dates.DateFormatter('\\n\\n\\n%Y')\n",
    "monthsFmt = dates.DateFormatter('%b')\n",
    "ax1.xaxis.set_major_locator(months)\n",
    "ax1.xaxis.set_major_formatter(monthsFmt)\n",
    "ax1.xaxis.set_minor_locator(years)\n",
    "ax1.xaxis.set_minor_formatter(yearsFmt)\n",
    "ax1.set_title('Caldera Inflation', fontsize=18, fontweight = 'bold')\n",
    "ax1.invert_yaxis()\n",
    "\n",
    "hb1 = ax2.plot(time_eq, count)\n",
    "hb2 = ax2.plot(time_eq, count_av, linewidth=5)\n",
    "ax2.yaxis.grid(True)\n",
    "ax2.xaxis.grid(True)\n",
    "ax2.set_xlim(datetime.datetime(2017, 1, 1, 0, 0),datetime.datetime(2018, 10, 15, 0, 0))\n",
    "years = dates.YearLocator()\n",
    "months = dates.MonthLocator()\n",
    "yearsFmt = dates.DateFormatter('\\n\\n\\n%Y')\n",
    "monthsFmt = dates.DateFormatter('%b')\n",
    "ax2.xaxis.set_major_locator(months)\n",
    "ax2.xaxis.set_major_formatter(monthsFmt)\n",
    "ax2.xaxis.set_minor_locator(years)\n",
    "ax2.xaxis.set_minor_formatter(yearsFmt)\n",
    "ax2.set_title('Daily Seismicity', fontsize=18, fontweight = 'bold')\n",
    "\n",
    "plt.tight_layout()\n",
    "plt.setp(ax1.xaxis.get_majorticklabels(), rotation=90)\n",
    "plt.suptitle('Comparison Between Inflation and Seismicity', fontsize=32, color= 'blue', fontweight = 'bold')\n",
    "plt.subplots_adjust(top=0.90)\n",
    "\n",
    "fig, (ax3) = plt.subplots(1, sharex=True, sharey=True)\n",
    "ax3.plot(time, temperature01, marker=\".\", markersize=1, linestyle=None)\n",
    "ax3.set_ylabel('Thermister 1 $^\\circ$C')\n",
    "plt.xlabel('Time')\n",
    "plt.xticks(rotation=30)\n",
    "ax3.yaxis.grid(True)\n",
    "ax3.xaxis.grid(True)\n",
    "ax3.set_xlim(datetime.datetime(2017, 1, 1, 0, 0),datetime.datetime(2018, 10, 15, 0, 0))\n",
    "plt.tight_layout()\n",
    "fig.set_size_inches(17, 6)\n",
    "years = dates.YearLocator()\n",
    "months = dates.MonthLocator()\n",
    "yearsFmt = dates.DateFormatter('\\n\\n\\n%Y')\n",
    "monthsFmt = dates.DateFormatter('%b')\n",
    "# fig.subplots_adjust(hspace=0)\n",
    "plt.setp([a.get_xticklabels() for a in fig.axes[:-1]], visible=False)\n",
    "ax3.set_title('TMPSF', fontsize=9, fontweight = 'bold')\n",
    "\n",
    "# hb1 = ax3.plot(time, temperature01, count)\n",
    "# ax3.yaxis.grid(True)\n",
    "# ax3.xaxis.grid(True)\n",
    "# ax3.set_xlim(datetime.datetime(2017, 1, 1, 0, 0),datetime.datetime(2018, 10, 15, 0, 0))\n",
    "# years = dates.YearLocator()\n",
    "# months = dates.MonthLocator()\n",
    "# yearsFmt = dates.DateFormatter('\\n\\n\\n%Y')\n",
    "# monthsFmt = dates.DateFormatter('%b')\n",
    "# ax3.xaxis.set_major_locator(months)\n",
    "# ax3.xaxis.set_major_formatter(monthsFmt)\n",
    "# ax3.xaxis.set_minor_locator(years)\n",
    "# ax3.xaxis.set_minor_formatter(yearsFmt)\n",
    "# ax3.set_title('TMPSF', fontsize=18, fontweight = 'bold')\n",
    "\n",
    "#plt.gca().invert_yaxis()\n",
    "plt.show()"
   ]
  },
  {
   "cell_type": "code",
   "execution_count": null,
   "metadata": {},
   "outputs": [],
   "source": []
  }
 ],
 "metadata": {
  "kernelspec": {
   "display_name": "Python 3",
   "language": "python",
   "name": "python3"
  },
  "language_info": {
   "codemirror_mode": {
    "name": "ipython",
    "version": 3
   },
   "file_extension": ".py",
   "mimetype": "text/x-python",
   "name": "python",
   "nbconvert_exporter": "python",
   "pygments_lexer": "ipython3",
   "version": "3.6.6"
  }
 },
 "nbformat": 4,
 "nbformat_minor": 2
}
