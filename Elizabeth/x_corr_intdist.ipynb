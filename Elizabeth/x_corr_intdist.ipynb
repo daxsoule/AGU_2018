{
 "cells": [
  {
   "cell_type": "markdown",
   "metadata": {},
   "source": [
    "# Full Set of Requisitioned Data, Cross Correlation, and Internal Temperature Distribution"
   ]
  },
  {
   "cell_type": "code",
   "execution_count": null,
   "metadata": {},
   "outputs": [],
   "source": [
    "blob_ids = ['1w-f9wRHqHr5Uqe7MXwC2XKAD1cupn5yF',\n",
    "            '1XgYcdx5ZvQIkhtWGZU73-MJ6sWAv2YuS',\n",
    "            '1vB0g0ksFty4wzR1YP38OcqemmS5QXax_',\n",
    "            '1kyKo24QAcIc8qFXLwMZhHBaAI3JLdJis',\n",
    "            '1z2gjfFcpqPbcfyhWam6FNdDG7ltXYKn1',\n",
    "            '1RNGWfEoJU5DhWt9df72PHH9FmFT86xa0']"
   ]
  },
  {
   "cell_type": "code",
   "execution_count": null,
   "metadata": {},
   "outputs": [],
   "source": [
    "file_list = ['deployment0001_RS03ASHS-MJ03B-07-TMPSFA301-streamed-tmpsf_sample_20140929T190312-20141231T235952.nc',\n",
    "             'deployment0001_RS03ASHS-MJ03B-07-TMPSFA301-streamed-tmpsf_sample_20150101T000002-20151231T235958.777243.nc',\n",
    "             'deployment0001_RS03ASHS-MJ03B-07-TMPSFA301-streamed-tmpsf_sample_20160101T000010.778112-20161231T235958.439167.nc',\n",
    "             'deployment0001_RS03ASHS-MJ03B-07-TMPSFA301-streamed-tmpsf_sample_20170101T000010.438824-20170813T232226.349596.nc',\n",
    "             'deployment0003_RS03ASHS-MJ03B-07-TMPSFA301-streamed-tmpsf_sample_20170815T003130.804600-20171231T235950.623028.nc',\n",
    "             'deployment0003_RS03ASHS-MJ03B-07-TMPSFA301-streamed-tmpsf_sample_20180101T000000.621938-20180912T225325.872315.nc']"
   ]
  },
  {
   "cell_type": "code",
   "execution_count": null,
   "metadata": {},
   "outputs": [],
   "source": [
    "import driveanon as da\n",
    "from pathlib import Path"
   ]
  },
  {
   "cell_type": "code",
   "execution_count": null,
   "metadata": {},
   "outputs": [],
   "source": [
    "for i, blob_id in enumerate(blob_ids):\n",
    "    if not Path(file_list[i]).is_file():\n",
    "        da.save(blob_id)\n",
    "        print(file_list[i])"
   ]
  },
  {
   "cell_type": "code",
   "execution_count": null,
   "metadata": {},
   "outputs": [],
   "source": [
    "import xarray as xr"
   ]
  },
  {
   "cell_type": "code",
   "execution_count": null,
   "metadata": {},
   "outputs": [],
   "source": [
    "ds = xr.open_mfdataset(file_list, drop_variables=['lat', 'lon', 'obs',\n",
    "                                                  'id', 'battery_voltage',\n",
    "                                                  'driver_timestamp',\n",
    "                                                  'ingestion_timestamp',\n",
    "                                                  'internal_timestamp',\n",
    "                                                  'port_timestamp',\n",
    "                                                  'preferred_timestamp',\n",
    "                                                  'timestamp',\n",
    "                                                  'provenance', 'serial_number',\n",
    "                                                  'temperature01_qc_executed',\n",
    "                                                  'temperature01_qc_results',\n",
    "                                                  'temperature02_qc_executed',\n",
    "                                                  'temperature02_qc_results',\n",
    "                                                  'temperature03_qc_executed',\n",
    "                                                  'temperature03_qc_results',\n",
    "                                                  'temperature04_qc_executed',\n",
    "                                                  'temperature04_qc_results',\n",
    "                                                  'temperature05_qc_executed',\n",
    "                                                  'temperature05_qc_results',\n",
    "                                                  'temperature06_qc_executed',\n",
    "                                                  'temperature06_qc_results',\n",
    "                                                  'temperature07_qc_executed',\n",
    "                                                  'temperature07_qc_results',\n",
    "                                                  'temperature08_qc_executed',\n",
    "                                                  'temperature08_qc_results',\n",
    "                                                  'temperature09_qc_executed',\n",
    "                                                  'temperature09_qc_results',\n",
    "                                                  'temperature10_qc_executed',\n",
    "                                                  'temperature10_qc_results',\n",
    "                                                  'temperature11_qc_executed',\n",
    "                                                  'temperature11_qc_results',\n",
    "                                                  'temperature12_qc_executed',\n",
    "                                                  'temperature12_qc_results',\n",
    "                                                  'temperature13_qc_executed',\n",
    "                                                  'temperature13_qc_results',\n",
    "                                                  'temperature14_qc_executed',\n",
    "                                                  'temperature14_qc_results',\n",
    "                                                  'temperature15_qc_executed',\n",
    "                                                  'temperature15_qc_results',\n",
    "                                                  'temperature16_qc_executed',\n",
    "                                                  'temperature16_qc_results',\n",
    "                                                  'temperature17_qc_executed',\n",
    "                                                  'temperature17_qc_results',\n",
    "                                                  'temperature18_qc_executed',\n",
    "                                                  'temperature18_qc_results',\n",
    "                                                  'temperature19_qc_executed',\n",
    "                                                  'temperature19_qc_results',\n",
    "                                                  'temperature20_qc_executed',\n",
    "                                                  'temperature20_qc_results',\n",
    "                                                  'temperature21_qc_executed',\n",
    "                                                  'temperature21_qc_results',\n",
    "                                                  'temperature22_qc_executed',\n",
    "                                                  'temperature22_qc_results',\n",
    "                                                  'temperature23_qc_executed',\n",
    "                                                  'temperature23_qc_results',\n",
    "                                                  'temperature24_qc_executed',\n",
    "                                                  'temperature24_qc_results',\n",
    "                                                  'temperature01_qc_executed',\n",
    "                                                  'temperature01_qc_results'])\n",
    "ds = ds.swap_dims({'obs': 'time'})\n",
    "ds"
   ]
  },
  {
   "cell_type": "code",
   "execution_count": null,
   "metadata": {},
   "outputs": [],
   "source": []
  },
  {
   "cell_type": "code",
   "execution_count": null,
   "metadata": {},
   "outputs": [],
   "source": [
    "import pandas as pd"
   ]
  },
  {
   "cell_type": "code",
   "execution_count": null,
   "metadata": {},
   "outputs": [],
   "source": [
    "df = ds.to_dataframe()\n",
    "df.head()"
   ]
  },
  {
   "cell_type": "code",
   "execution_count": null,
   "metadata": {},
   "outputs": [],
   "source": [
    "df.describe()"
   ]
  },
  {
   "cell_type": "markdown",
   "metadata": {},
   "source": [
    "### Below is the statistical breakdown of TMPSF data since 2014 when the instrument was first installed"
   ]
  },
  {
   "cell_type": "code",
   "execution_count": null,
   "metadata": {},
   "outputs": [],
   "source": [
    "df['year'] = df.index.year\n",
    "df['month'] =df.index.month"
   ]
  },
  {
   "cell_type": "code",
   "execution_count": null,
   "metadata": {},
   "outputs": [],
   "source": [
    "df.groupby(['year', 'month']).describe()"
   ]
  },
  {
   "cell_type": "code",
   "execution_count": null,
   "metadata": {},
   "outputs": [],
   "source": [
    "print(df.corr())"
   ]
  },
  {
   "cell_type": "code",
   "execution_count": null,
   "metadata": {},
   "outputs": [],
   "source": [
    "pd.set_option(\"display.max_rows\",27)\n",
    "pd.set_option(\"display.max_columns\",27)\n",
    "print(df.corr())"
   ]
  },
  {
   "cell_type": "markdown",
   "metadata": {},
   "source": [
    "### Thermistor columns: (Based on the graphic representation of TMPSF geometry; the coordinates listed are not consistent with the graphic) Source: https://github.com/geohackweek/vizhack/blob/master/fknuth/info/frame_geometry.pdf\n",
    "{1,14,15}\n",
    "{2,13,16,24} \n",
    "{3,12,17}\n",
    "{4,11,18,23}\n",
    "{5,10,19}\n",
    "{6,9,20,22} (a thermistor 25 is listed, but I assume this is a typo and is actually 22)\n",
    "{7,8,21}\n",
    "\n",
    "I defined correlation values 0.5 or higher as moderate correlation, and values above 0.7 as strong correlation. Overall, all the values shown are mostly positive, indicating a general positive correlation.\n",
    "\n",
    "1.\tThere appears to be high to very high correlation between thermistors 4, 11 & 18, which are all in the same column. 11 <-> 18 (0.81) 4 <-> 11 (0.74) 4 <-> 18 (0.54) I suggest a downward moving flow. \n",
    "2.\tThermistors 14 and 15, which are located in the central part of TMPSF correlate moderately to high moderately well with 7 and 6 other thermistors, respectively. \n",
    "3.\t11 correlates well with 3 & 4 which are adjacent and located directly below 11 and toward the xy origin (toward the left of the TMPSF schematic). Suggesting a temperature flow? 3 11 (0.54) 3 4 (0.51) 4 11 (0.74)\n",
    "4.\t3<-> 11 (0.54) 3<-> 12(0.62) 11<-> 12 (0.71) Maybe flowing from 11 to 12 to 3? 12 & 11 are adjacent and 12 is located just above 3.\n",
    "5.\tMy big idea: temperature flow into TMPSF begins around thermistor 18 on the 3rd level of the instruments, moves somewhat laterally through sensors 19, 10, 16, 15, and 21, but mostly downward through 1, 12, and 3 and along the bottom of the instrument. 18 is located where the vent is, so this makes sense. \n",
    "6.  I think a graphic representation of flow through the instrument might be helpful. \n"
   ]
  },
  {
   "cell_type": "code",
   "execution_count": null,
   "metadata": {},
   "outputs": [],
   "source": [
    "import datetime\n",
    "import matplotlib.pyplot as plt\n",
    "import matplotlib.dates as dates\n",
    "import numpy as np"
   ]
  },
  {
   "cell_type": "code",
   "execution_count": null,
   "metadata": {},
   "outputs": [],
   "source": [
    "%%time\n",
    "fig, ax = plt.subplots()\n",
    "fig.set_size_inches(16, 6)\n",
    "ds['temperature01'].plot(ax=ax)\n",
    "plt.show()"
   ]
  },
  {
   "cell_type": "code",
   "execution_count": null,
   "metadata": {},
   "outputs": [],
   "source": [
    "%%time\n",
    "from dask.diagnostics import ProgressBar\n",
    "with ProgressBar():\n",
    "    df = ds['temperature01'].to_dataframe()\n",
    "    df = df.resample('min').mean()"
   ]
  },
  {
   "cell_type": "code",
   "execution_count": null,
   "metadata": {},
   "outputs": [],
   "source": [
    "%%time\n",
    "plt.close()\n",
    "fig, ax = plt.subplots()\n",
    "fig.set_size_inches(16, 6)\n",
    "df['temperature01'].plot(ax=ax)\n",
    "df['temperature01'].resample('H').mean().plot(ax=ax)\n",
    "df['temperature01'].resample('D').mean().plot(ax=ax)\n",
    "ax.set_ylabel(\"Seawater Temperature in Spatial Grid 01 [C]\")\n",
    "plt.show()"
   ]
  },
  {
   "cell_type": "code",
   "execution_count": null,
   "metadata": {},
   "outputs": [],
   "source": [
    "fig.savefig('internaldist1')"
   ]
  },
  {
   "cell_type": "code",
   "execution_count": null,
   "metadata": {},
   "outputs": [],
   "source": [
    "%%time\n",
    "fig, ax = plt.subplots()\n",
    "fig.set_size_inches(16, 6)\n",
    "ds['temperature02'].plot(ax=ax)\n",
    "plt.show()"
   ]
  },
  {
   "cell_type": "code",
   "execution_count": null,
   "metadata": {},
   "outputs": [],
   "source": [
    "%%time\n",
    "from dask.diagnostics import ProgressBar\n",
    "with ProgressBar():\n",
    "    df = ds['temperature02'].to_dataframe()\n",
    "    df = df.resample('min').mean()"
   ]
  },
  {
   "cell_type": "code",
   "execution_count": null,
   "metadata": {},
   "outputs": [],
   "source": [
    "%%time\n",
    "plt.close()\n",
    "fig, ax = plt.subplots()\n",
    "fig.set_size_inches(16, 6)\n",
    "df['temperature02'].plot(ax=ax)\n",
    "df['temperature02'].resample('H').mean().plot(ax=ax)\n",
    "df['temperature02'].resample('D').mean().plot(ax=ax)\n",
    "ax.set_ylabel(\"Seawater Temperature in Spatial Grid 02 [C]\")\n",
    "plt.show()"
   ]
  },
  {
   "cell_type": "code",
   "execution_count": null,
   "metadata": {},
   "outputs": [],
   "source": [
    "fig.savefig('internaldist2')"
   ]
  },
  {
   "cell_type": "code",
   "execution_count": null,
   "metadata": {},
   "outputs": [],
   "source": [
    "%%time\n",
    "fig, ax = plt.subplots()\n",
    "fig.set_size_inches(16, 6)\n",
    "ds['temperature03'].plot(ax=ax)\n",
    "plt.show()"
   ]
  },
  {
   "cell_type": "code",
   "execution_count": null,
   "metadata": {},
   "outputs": [],
   "source": [
    "%%time\n",
    "from dask.diagnostics import ProgressBar\n",
    "with ProgressBar():\n",
    "    df = ds['temperature03'].to_dataframe()\n",
    "    df = df.resample('min').mean()"
   ]
  },
  {
   "cell_type": "code",
   "execution_count": null,
   "metadata": {},
   "outputs": [],
   "source": [
    "%%time\n",
    "plt.close()\n",
    "fig, ax = plt.subplots()\n",
    "fig.set_size_inches(16, 6)\n",
    "df['temperature03'].plot(ax=ax)\n",
    "df['temperature03'].resample('H').mean().plot(ax=ax)\n",
    "df['temperature03'].resample('D').mean().plot(ax=ax)\n",
    "ax.set_ylabel(\"Seawater Temperature in Spatial Grid 03 [C]\")\n",
    "plt.show()"
   ]
  },
  {
   "cell_type": "code",
   "execution_count": null,
   "metadata": {},
   "outputs": [],
   "source": [
    "fig.savefig('internaldist3')"
   ]
  },
  {
   "cell_type": "code",
   "execution_count": null,
   "metadata": {},
   "outputs": [],
   "source": [
    "%%time\n",
    "fig, ax = plt.subplots()\n",
    "fig.set_size_inches(16, 6)\n",
    "ds['temperature04'].plot(ax=ax)\n",
    "plt.show()"
   ]
  },
  {
   "cell_type": "code",
   "execution_count": null,
   "metadata": {},
   "outputs": [],
   "source": [
    "%%time\n",
    "from dask.diagnostics import ProgressBar\n",
    "with ProgressBar():\n",
    "    df = ds['temperature04'].to_dataframe()\n",
    "    df = df.resample('min').mean()"
   ]
  },
  {
   "cell_type": "code",
   "execution_count": null,
   "metadata": {},
   "outputs": [],
   "source": [
    "%%time\n",
    "plt.close()\n",
    "fig, ax = plt.subplots()\n",
    "fig.set_size_inches(16, 6)\n",
    "df['temperature04'].plot(ax=ax)\n",
    "df['temperature04'].resample('H').mean().plot(ax=ax)\n",
    "df['temperature04'].resample('D').mean().plot(ax=ax)\n",
    "ax.set_ylabel(\"Seawater Temperature in Spatial Grid 04 [C]\")\n",
    "plt.show()"
   ]
  },
  {
   "cell_type": "code",
   "execution_count": null,
   "metadata": {},
   "outputs": [],
   "source": [
    "fig.savefig('internaldist4')"
   ]
  },
  {
   "cell_type": "code",
   "execution_count": null,
   "metadata": {},
   "outputs": [],
   "source": [
    "%%time\n",
    "fig, ax = plt.subplots()\n",
    "fig.set_size_inches(16, 6)\n",
    "ds['temperature05'].plot(ax=ax)\n",
    "plt.show()"
   ]
  },
  {
   "cell_type": "code",
   "execution_count": null,
   "metadata": {},
   "outputs": [],
   "source": [
    "%%time\n",
    "from dask.diagnostics import ProgressBar\n",
    "with ProgressBar():\n",
    "    df = ds['temperature05'].to_dataframe()\n",
    "    df = df.resample('min').mean()"
   ]
  },
  {
   "cell_type": "code",
   "execution_count": null,
   "metadata": {},
   "outputs": [],
   "source": [
    "%%time\n",
    "plt.close()\n",
    "fig, ax = plt.subplots()\n",
    "fig.set_size_inches(16, 6)\n",
    "df['temperature05'].plot(ax=ax)\n",
    "df['temperature05'].resample('H').mean().plot(ax=ax)\n",
    "df['temperature05'].resample('D').mean().plot(ax=ax)\n",
    "ax.set_ylabel(\"Seawater Temperature in Spatial Grid 05 [C]\")\n",
    "plt.show()"
   ]
  },
  {
   "cell_type": "code",
   "execution_count": null,
   "metadata": {},
   "outputs": [],
   "source": [
    "fig.savefig('internaldist5')"
   ]
  },
  {
   "cell_type": "code",
   "execution_count": null,
   "metadata": {},
   "outputs": [],
   "source": [
    "%%time\n",
    "fig, ax = plt.subplots()\n",
    "fig.set_size_inches(16, 6)\n",
    "ds['temperature06'].plot(ax=ax)\n",
    "plt.show()"
   ]
  },
  {
   "cell_type": "code",
   "execution_count": null,
   "metadata": {},
   "outputs": [],
   "source": [
    "%%time\n",
    "from dask.diagnostics import ProgressBar\n",
    "with ProgressBar():\n",
    "    df = ds['temperature06'].to_dataframe()\n",
    "    df = df.resample('min').mean()"
   ]
  },
  {
   "cell_type": "code",
   "execution_count": null,
   "metadata": {},
   "outputs": [],
   "source": [
    "%%time\n",
    "plt.close()\n",
    "fig, ax = plt.subplots()\n",
    "fig.set_size_inches(16, 6)\n",
    "df['temperature06'].plot(ax=ax)\n",
    "df['temperature06'].resample('H').mean().plot(ax=ax)\n",
    "df['temperature06'].resample('D').mean().plot(ax=ax)\n",
    "ax.set_ylabel(\"Seawater Temperature in Spatial Grid 06 [C]\")\n",
    "plt.show()"
   ]
  },
  {
   "cell_type": "code",
   "execution_count": null,
   "metadata": {},
   "outputs": [],
   "source": [
    "fig.savefig('internaldist6')"
   ]
  },
  {
   "cell_type": "code",
   "execution_count": null,
   "metadata": {},
   "outputs": [],
   "source": [
    "%%time\n",
    "fig, ax = plt.subplots()\n",
    "fig.set_size_inches(16, 6)\n",
    "ds['temperature07'].plot(ax=ax)\n",
    "plt.show()"
   ]
  },
  {
   "cell_type": "code",
   "execution_count": null,
   "metadata": {},
   "outputs": [],
   "source": [
    "%%time\n",
    "from dask.diagnostics import ProgressBar\n",
    "with ProgressBar():\n",
    "    df = ds['temperature07'].to_dataframe()\n",
    "    df = df.resample('min').mean()"
   ]
  },
  {
   "cell_type": "code",
   "execution_count": null,
   "metadata": {},
   "outputs": [],
   "source": [
    "%%time\n",
    "plt.close()\n",
    "fig, ax = plt.subplots()\n",
    "fig.set_size_inches(16, 6)\n",
    "df['temperature07'].plot(ax=ax)\n",
    "df['temperature07'].resample('H').mean().plot(ax=ax)\n",
    "df['temperature07'].resample('D').mean().plot(ax=ax)\n",
    "ax.set_ylabel(\"Seawater Temperature in Spatial Grid 07 [C]\")\n",
    "plt.show()"
   ]
  },
  {
   "cell_type": "code",
   "execution_count": null,
   "metadata": {},
   "outputs": [],
   "source": [
    "fig.savefig('internaldist7')"
   ]
  },
  {
   "cell_type": "code",
   "execution_count": null,
   "metadata": {},
   "outputs": [],
   "source": [
    "%%time\n",
    "fig, ax = plt.subplots()\n",
    "fig.set_size_inches(16, 6)\n",
    "ds['temperature08'].plot(ax=ax)\n",
    "plt.show()"
   ]
  },
  {
   "cell_type": "code",
   "execution_count": null,
   "metadata": {},
   "outputs": [],
   "source": [
    "%%time\n",
    "from dask.diagnostics import ProgressBar\n",
    "with ProgressBar():\n",
    "    df = ds['temperature08'].to_dataframe()\n",
    "    df = df.resample('min').mean()"
   ]
  },
  {
   "cell_type": "code",
   "execution_count": null,
   "metadata": {},
   "outputs": [],
   "source": [
    "%%time\n",
    "plt.close()\n",
    "fig, ax = plt.subplots()\n",
    "fig.set_size_inches(16, 6)\n",
    "df['temperature08'].plot(ax=ax)\n",
    "df['temperature08'].resample('H').mean().plot(ax=ax)\n",
    "df['temperature08'].resample('D').mean().plot(ax=ax)\n",
    "ax.set_ylabel(\"Seawater Temperature in Spatial Grid 08 [C]\")\n",
    "plt.show()"
   ]
  },
  {
   "cell_type": "code",
   "execution_count": null,
   "metadata": {},
   "outputs": [],
   "source": [
    "fig.savefig('internaldist8')"
   ]
  },
  {
   "cell_type": "code",
   "execution_count": null,
   "metadata": {},
   "outputs": [],
   "source": [
    "%%time\n",
    "fig, ax = plt.subplots()\n",
    "fig.set_size_inches(16, 6)\n",
    "ds['temperature09'].plot(ax=ax)\n",
    "plt.show()"
   ]
  },
  {
   "cell_type": "code",
   "execution_count": null,
   "metadata": {},
   "outputs": [],
   "source": [
    "%%time\n",
    "from dask.diagnostics import ProgressBar\n",
    "with ProgressBar():\n",
    "    df = ds['temperature09'].to_dataframe()\n",
    "    df = df.resample('min').mean()"
   ]
  },
  {
   "cell_type": "code",
   "execution_count": null,
   "metadata": {},
   "outputs": [],
   "source": [
    "%%time\n",
    "plt.close()\n",
    "fig, ax = plt.subplots()\n",
    "fig.set_size_inches(16, 6)\n",
    "df['temperature09'].plot(ax=ax)\n",
    "df['temperature09'].resample('H').mean().plot(ax=ax)\n",
    "df['temperature09'].resample('D').mean().plot(ax=ax)\n",
    "ax.set_ylabel(\"Seawater Temperature in Spatial Grid 09 [C]\")\n",
    "plt.show()"
   ]
  },
  {
   "cell_type": "code",
   "execution_count": null,
   "metadata": {},
   "outputs": [],
   "source": [
    "fig.savefig('internaldist9')"
   ]
  },
  {
   "cell_type": "code",
   "execution_count": null,
   "metadata": {},
   "outputs": [],
   "source": [
    "%%time\n",
    "fig, ax = plt.subplots()\n",
    "fig.set_size_inches(16, 6)\n",
    "ds['temperature10'].plot(ax=ax)\n",
    "plt.show()"
   ]
  },
  {
   "cell_type": "code",
   "execution_count": null,
   "metadata": {},
   "outputs": [],
   "source": [
    "%%time\n",
    "from dask.diagnostics import ProgressBar\n",
    "with ProgressBar():\n",
    "    df = ds['temperature10'].to_dataframe()\n",
    "    df = df.resample('min').mean()"
   ]
  },
  {
   "cell_type": "code",
   "execution_count": null,
   "metadata": {},
   "outputs": [],
   "source": [
    "%%time\n",
    "plt.close()\n",
    "fig, ax = plt.subplots()\n",
    "fig.set_size_inches(16, 6)\n",
    "df['temperature10'].plot(ax=ax)\n",
    "df['temperature10'].resample('H').mean().plot(ax=ax)\n",
    "df['temperature10'].resample('D').mean().plot(ax=ax)\n",
    "ax.set_ylabel(\"Seawater Temperature in Spatial Grid 10 [C]\")\n",
    "plt.show()"
   ]
  },
  {
   "cell_type": "code",
   "execution_count": null,
   "metadata": {},
   "outputs": [],
   "source": [
    "fig.savefig('internaldist10')"
   ]
  },
  {
   "cell_type": "code",
   "execution_count": null,
   "metadata": {},
   "outputs": [],
   "source": [
    "%%time\n",
    "fig, ax = plt.subplots()\n",
    "fig.set_size_inches(16, 6)\n",
    "ds['temperature11'].plot(ax=ax)\n",
    "plt.show()"
   ]
  },
  {
   "cell_type": "code",
   "execution_count": null,
   "metadata": {},
   "outputs": [],
   "source": [
    "%%time\n",
    "from dask.diagnostics import ProgressBar\n",
    "with ProgressBar():\n",
    "    df = ds['temperature11'].to_dataframe()\n",
    "    df = df.resample('min').mean()"
   ]
  },
  {
   "cell_type": "code",
   "execution_count": null,
   "metadata": {},
   "outputs": [],
   "source": [
    "%%time\n",
    "plt.close()\n",
    "fig, ax = plt.subplots()\n",
    "fig.set_size_inches(16, 6)\n",
    "df['temperature11'].plot(ax=ax)\n",
    "df['temperature11'].resample('H').mean().plot(ax=ax)\n",
    "df['temperature11'].resample('D').mean().plot(ax=ax)\n",
    "ax.set_ylabel(\"Seawater Temperature in Spatial Grid 11 [C]\")\n",
    "plt.show()"
   ]
  },
  {
   "cell_type": "code",
   "execution_count": null,
   "metadata": {},
   "outputs": [],
   "source": [
    "fig.savefig('internaldist11')"
   ]
  },
  {
   "cell_type": "code",
   "execution_count": null,
   "metadata": {},
   "outputs": [],
   "source": [
    "%%time\n",
    "fig, ax = plt.subplots()\n",
    "fig.set_size_inches(16, 6)\n",
    "ds['temperature12'].plot(ax=ax)\n",
    "plt.show()"
   ]
  },
  {
   "cell_type": "code",
   "execution_count": null,
   "metadata": {},
   "outputs": [],
   "source": [
    "%%time\n",
    "from dask.diagnostics import ProgressBar\n",
    "with ProgressBar():\n",
    "    df = ds['temperature12'].to_dataframe()\n",
    "    df = df.resample('min').mean()"
   ]
  },
  {
   "cell_type": "code",
   "execution_count": null,
   "metadata": {},
   "outputs": [],
   "source": [
    "%%time\n",
    "plt.close()\n",
    "fig, ax = plt.subplots()\n",
    "fig.set_size_inches(16, 6)\n",
    "df['temperature12'].plot(ax=ax)\n",
    "df['temperature12'].resample('H').mean().plot(ax=ax)\n",
    "df['temperature12'].resample('D').mean().plot(ax=ax)\n",
    "ax.set_ylabel(\"Seawater Temperature in Spatial Grid 12 [C]\")\n",
    "plt.show()"
   ]
  },
  {
   "cell_type": "code",
   "execution_count": null,
   "metadata": {},
   "outputs": [],
   "source": [
    "fig.savefig('internaldist12')"
   ]
  },
  {
   "cell_type": "code",
   "execution_count": null,
   "metadata": {},
   "outputs": [],
   "source": [
    "%%time\n",
    "fig, ax = plt.subplots()\n",
    "fig.set_size_inches(16, 6)\n",
    "ds['temperature13'].plot(ax=ax)\n",
    "plt.show()"
   ]
  },
  {
   "cell_type": "code",
   "execution_count": null,
   "metadata": {},
   "outputs": [],
   "source": [
    "%%time\n",
    "from dask.diagnostics import ProgressBar\n",
    "with ProgressBar():\n",
    "    df = ds['temperature13'].to_dataframe()\n",
    "    df = df.resample('min').mean()"
   ]
  },
  {
   "cell_type": "code",
   "execution_count": null,
   "metadata": {},
   "outputs": [],
   "source": [
    "%%time\n",
    "plt.close()\n",
    "fig, ax = plt.subplots()\n",
    "fig.set_size_inches(16, 6)\n",
    "df['temperature13'].plot(ax=ax)\n",
    "df['temperature13'].resample('H').mean().plot(ax=ax)\n",
    "df['temperature13'].resample('D').mean().plot(ax=ax)\n",
    "ax.set_ylabel(\"Seawater Temperature in Spatial Grid 13 [C]\")\n",
    "plt.show()"
   ]
  },
  {
   "cell_type": "code",
   "execution_count": null,
   "metadata": {},
   "outputs": [],
   "source": [
    "fig.savefig('internaldist13')"
   ]
  },
  {
   "cell_type": "code",
   "execution_count": null,
   "metadata": {},
   "outputs": [],
   "source": [
    "%%time\n",
    "fig, ax = plt.subplots()\n",
    "fig.set_size_inches(16, 6)\n",
    "ds['temperature14'].plot(ax=ax)\n",
    "plt.show()"
   ]
  },
  {
   "cell_type": "code",
   "execution_count": null,
   "metadata": {},
   "outputs": [],
   "source": [
    "%%time\n",
    "from dask.diagnostics import ProgressBar\n",
    "with ProgressBar():\n",
    "    df = ds['temperature14'].to_dataframe()\n",
    "    df = df.resample('min').mean()"
   ]
  },
  {
   "cell_type": "code",
   "execution_count": null,
   "metadata": {},
   "outputs": [],
   "source": [
    "%%time\n",
    "plt.close()\n",
    "fig, ax = plt.subplots()\n",
    "fig.set_size_inches(16, 6)\n",
    "df['temperature14'].plot(ax=ax)\n",
    "df['temperature14'].resample('H').mean().plot(ax=ax)\n",
    "df['temperature14'].resample('D').mean().plot(ax=ax)\n",
    "ax.set_ylabel(\"Seawater Temperature in Spatial Grid 14 [C]\")\n",
    "plt.show()"
   ]
  },
  {
   "cell_type": "code",
   "execution_count": null,
   "metadata": {},
   "outputs": [],
   "source": [
    "fig.savefig('internaldist14')"
   ]
  },
  {
   "cell_type": "code",
   "execution_count": null,
   "metadata": {},
   "outputs": [],
   "source": [
    "%%time\n",
    "fig, ax = plt.subplots()\n",
    "fig.set_size_inches(16, 6)\n",
    "ds['temperature15'].plot(ax=ax)\n",
    "plt.show()"
   ]
  },
  {
   "cell_type": "code",
   "execution_count": null,
   "metadata": {},
   "outputs": [],
   "source": [
    "%%time\n",
    "from dask.diagnostics import ProgressBar\n",
    "with ProgressBar():\n",
    "    df = ds['temperature15'].to_dataframe()\n",
    "    df = df.resample('min').mean()"
   ]
  },
  {
   "cell_type": "code",
   "execution_count": null,
   "metadata": {},
   "outputs": [],
   "source": [
    "%%time\n",
    "plt.close()\n",
    "fig, ax = plt.subplots()\n",
    "fig.set_size_inches(16, 6)\n",
    "df['temperature15'].plot(ax=ax)\n",
    "df['temperature15'].resample('H').mean().plot(ax=ax)\n",
    "df['temperature15'].resample('D').mean().plot(ax=ax)\n",
    "ax.set_ylabel(\"Seawater Temperature in Spatial Grid 15 [C]\")\n",
    "plt.show()"
   ]
  },
  {
   "cell_type": "code",
   "execution_count": null,
   "metadata": {},
   "outputs": [],
   "source": [
    "fig.savefig('internaldist15')"
   ]
  },
  {
   "cell_type": "code",
   "execution_count": null,
   "metadata": {},
   "outputs": [],
   "source": [
    "%%time\n",
    "fig, ax = plt.subplots()\n",
    "fig.set_size_inches(16, 6)\n",
    "ds['temperature16'].plot(ax=ax)\n",
    "plt.show()"
   ]
  },
  {
   "cell_type": "code",
   "execution_count": null,
   "metadata": {},
   "outputs": [],
   "source": [
    "%%time\n",
    "from dask.diagnostics import ProgressBar\n",
    "with ProgressBar():\n",
    "    df = ds['temperature16'].to_dataframe()\n",
    "    df = df.resample('min').mean()"
   ]
  },
  {
   "cell_type": "code",
   "execution_count": null,
   "metadata": {},
   "outputs": [],
   "source": [
    "%%time\n",
    "plt.close()\n",
    "fig, ax = plt.subplots()\n",
    "fig.set_size_inches(16, 6)\n",
    "df['temperature16'].plot(ax=ax)\n",
    "df['temperature16'].resample('H').mean().plot(ax=ax)\n",
    "df['temperature16'].resample('D').mean().plot(ax=ax)\n",
    "ax.set_ylabel(\"Seawater Temperature in Spatial Grid 16 [C]\")\n",
    "plt.show()"
   ]
  },
  {
   "cell_type": "code",
   "execution_count": null,
   "metadata": {},
   "outputs": [],
   "source": [
    "fig.savefig('internaldist16')"
   ]
  },
  {
   "cell_type": "code",
   "execution_count": null,
   "metadata": {},
   "outputs": [],
   "source": [
    "%%time\n",
    "fig, ax = plt.subplots()\n",
    "fig.set_size_inches(16, 6)\n",
    "ds['temperature17'].plot(ax=ax)\n",
    "plt.show()"
   ]
  },
  {
   "cell_type": "code",
   "execution_count": null,
   "metadata": {},
   "outputs": [],
   "source": [
    "%%time\n",
    "from dask.diagnostics import ProgressBar\n",
    "with ProgressBar():\n",
    "    df = ds['temperature17'].to_dataframe()\n",
    "    df = df.resample('min').mean()"
   ]
  },
  {
   "cell_type": "code",
   "execution_count": null,
   "metadata": {},
   "outputs": [],
   "source": [
    "%%time\n",
    "plt.close()\n",
    "fig, ax = plt.subplots()\n",
    "fig.set_size_inches(16, 6)\n",
    "df['temperature17'].plot(ax=ax)\n",
    "df['temperature17'].resample('H').mean().plot(ax=ax)\n",
    "df['temperature17'].resample('D').mean().plot(ax=ax)\n",
    "ax.set_ylabel(\"Seawater Temperature in Spatial Grid 17 [C]\")\n",
    "plt.show()"
   ]
  },
  {
   "cell_type": "code",
   "execution_count": null,
   "metadata": {},
   "outputs": [],
   "source": [
    "fig.savefig('internaldist17')"
   ]
  },
  {
   "cell_type": "code",
   "execution_count": null,
   "metadata": {},
   "outputs": [],
   "source": [
    "%%time\n",
    "fig, ax = plt.subplots()\n",
    "fig.set_size_inches(16, 6)\n",
    "ds['temperature18'].plot(ax=ax)\n",
    "plt.show()"
   ]
  },
  {
   "cell_type": "code",
   "execution_count": null,
   "metadata": {},
   "outputs": [],
   "source": [
    "%%time\n",
    "from dask.diagnostics import ProgressBar\n",
    "with ProgressBar():\n",
    "    df = ds['temperature18'].to_dataframe()\n",
    "    df = df.resample('min').mean()"
   ]
  },
  {
   "cell_type": "code",
   "execution_count": null,
   "metadata": {},
   "outputs": [],
   "source": [
    "%%time\n",
    "plt.close()\n",
    "fig, ax = plt.subplots()\n",
    "fig.set_size_inches(16, 6)\n",
    "df['temperature18'].plot(ax=ax)\n",
    "df['temperature18'].resample('H').mean().plot(ax=ax)\n",
    "df['temperature18'].resample('D').mean().plot(ax=ax)\n",
    "ax.set_ylabel(\"Seawater Temperature in Spatial Grid 18 [C]\")\n",
    "plt.show()"
   ]
  },
  {
   "cell_type": "code",
   "execution_count": null,
   "metadata": {},
   "outputs": [],
   "source": [
    "fig.savefig('internaldist18')"
   ]
  },
  {
   "cell_type": "code",
   "execution_count": null,
   "metadata": {},
   "outputs": [],
   "source": [
    "%%time\n",
    "fig, ax = plt.subplots()\n",
    "fig.set_size_inches(16, 6)\n",
    "ds['temperature19'].plot(ax=ax)\n",
    "plt.show()"
   ]
  },
  {
   "cell_type": "code",
   "execution_count": null,
   "metadata": {},
   "outputs": [],
   "source": [
    "%%time\n",
    "from dask.diagnostics import ProgressBar\n",
    "with ProgressBar():\n",
    "    df = ds['temperature19'].to_dataframe()\n",
    "    df = df.resample('min').mean()"
   ]
  },
  {
   "cell_type": "code",
   "execution_count": null,
   "metadata": {},
   "outputs": [],
   "source": [
    "%%time\n",
    "plt.close()\n",
    "fig, ax = plt.subplots()\n",
    "fig.set_size_inches(16, 6)\n",
    "df['temperature19'].plot(ax=ax)\n",
    "df['temperature19'].resample('H').mean().plot(ax=ax)\n",
    "df['temperature19'].resample('D').mean().plot(ax=ax)\n",
    "ax.set_ylabel(\"Seawater Temperature in Spatial Grid 19 [C]\")\n",
    "plt.show()"
   ]
  },
  {
   "cell_type": "code",
   "execution_count": null,
   "metadata": {},
   "outputs": [],
   "source": [
    "fig.savefig('internaldist19')"
   ]
  },
  {
   "cell_type": "code",
   "execution_count": null,
   "metadata": {},
   "outputs": [],
   "source": [
    "%%time\n",
    "fig, ax = plt.subplots()\n",
    "fig.set_size_inches(16, 6)\n",
    "ds['temperature20'].plot(ax=ax)\n",
    "plt.show()"
   ]
  },
  {
   "cell_type": "code",
   "execution_count": null,
   "metadata": {},
   "outputs": [],
   "source": [
    "%%time\n",
    "from dask.diagnostics import ProgressBar\n",
    "with ProgressBar():\n",
    "    df = ds['temperature20'].to_dataframe()\n",
    "    df = df.resample('min').mean()"
   ]
  },
  {
   "cell_type": "code",
   "execution_count": null,
   "metadata": {},
   "outputs": [],
   "source": [
    "%%time\n",
    "plt.close()\n",
    "fig, ax = plt.subplots()\n",
    "fig.set_size_inches(16, 6)\n",
    "df['temperature20'].plot(ax=ax)\n",
    "df['temperature20'].resample('H').mean().plot(ax=ax)\n",
    "df['temperature20'].resample('D').mean().plot(ax=ax)\n",
    "ax.set_ylabel(\"Seawater Temperature in Spatial Grid 20 [C]\")\n",
    "plt.show()"
   ]
  },
  {
   "cell_type": "code",
   "execution_count": null,
   "metadata": {},
   "outputs": [],
   "source": [
    "fig.savefig('internaldist20')"
   ]
  },
  {
   "cell_type": "code",
   "execution_count": null,
   "metadata": {},
   "outputs": [],
   "source": [
    "%%time\n",
    "fig, ax = plt.subplots()\n",
    "fig.set_size_inches(16, 6)\n",
    "ds['temperature21'].plot(ax=ax)\n",
    "plt.show()"
   ]
  },
  {
   "cell_type": "code",
   "execution_count": null,
   "metadata": {},
   "outputs": [],
   "source": [
    "%%time\n",
    "from dask.diagnostics import ProgressBar\n",
    "with ProgressBar():\n",
    "    df = ds['temperature21'].to_dataframe()\n",
    "    df = df.resample('min').mean()"
   ]
  },
  {
   "cell_type": "code",
   "execution_count": null,
   "metadata": {},
   "outputs": [],
   "source": [
    "%%time\n",
    "plt.close()\n",
    "fig, ax = plt.subplots()\n",
    "fig.set_size_inches(16, 6)\n",
    "df['temperature21'].plot(ax=ax)\n",
    "df['temperature21'].resample('H').mean().plot(ax=ax)\n",
    "df['temperature21'].resample('D').mean().plot(ax=ax)\n",
    "ax.set_ylabel(\"Seawater Temperature in Spatial Grid 21 [C]\")\n",
    "plt.show()"
   ]
  },
  {
   "cell_type": "code",
   "execution_count": null,
   "metadata": {},
   "outputs": [],
   "source": [
    "fig.savefig('internaldist21')"
   ]
  },
  {
   "cell_type": "code",
   "execution_count": null,
   "metadata": {},
   "outputs": [],
   "source": [
    "%%time\n",
    "fig, ax = plt.subplots()\n",
    "fig.set_size_inches(16, 6)\n",
    "ds['temperature22'].plot(ax=ax)\n",
    "plt.show()"
   ]
  },
  {
   "cell_type": "code",
   "execution_count": null,
   "metadata": {},
   "outputs": [],
   "source": [
    "%%time\n",
    "from dask.diagnostics import ProgressBar\n",
    "with ProgressBar():\n",
    "    df = ds['temperature22'].to_dataframe()\n",
    "    df = df.resample('min').mean()"
   ]
  },
  {
   "cell_type": "code",
   "execution_count": null,
   "metadata": {},
   "outputs": [],
   "source": [
    "%%time\n",
    "plt.close()\n",
    "fig, ax = plt.subplots()\n",
    "fig.set_size_inches(16, 6)\n",
    "df['temperature22'].plot(ax=ax)\n",
    "df['temperature22'].resample('H').mean().plot(ax=ax)\n",
    "df['temperature22'].resample('D').mean().plot(ax=ax)\n",
    "ax.set_ylabel(\"Seawater Temperature in Spatial Grid 22 [C]\")\n",
    "plt.show()"
   ]
  },
  {
   "cell_type": "code",
   "execution_count": null,
   "metadata": {},
   "outputs": [],
   "source": [
    "fig.savefig('internaldist22')"
   ]
  },
  {
   "cell_type": "code",
   "execution_count": null,
   "metadata": {},
   "outputs": [],
   "source": [
    "%%time\n",
    "fig, ax = plt.subplots()\n",
    "fig.set_size_inches(16, 6)\n",
    "ds['temperature23'].plot(ax=ax)\n",
    "plt.show()"
   ]
  },
  {
   "cell_type": "code",
   "execution_count": null,
   "metadata": {},
   "outputs": [],
   "source": [
    "%%time\n",
    "from dask.diagnostics import ProgressBar\n",
    "with ProgressBar():\n",
    "    df = ds['temperature23'].to_dataframe()\n",
    "    df = df.resample('min').mean()"
   ]
  },
  {
   "cell_type": "code",
   "execution_count": null,
   "metadata": {},
   "outputs": [],
   "source": [
    "%%time\n",
    "plt.close()\n",
    "fig, ax = plt.subplots()\n",
    "fig.set_size_inches(16, 6)\n",
    "df['temperature23'].plot(ax=ax)\n",
    "df['temperature23'].resample('H').mean().plot(ax=ax)\n",
    "df['temperature23'].resample('D').mean().plot(ax=ax)\n",
    "ax.set_ylabel(\"Seawater Temperature in Spatial Grid 23 [C]\")\n",
    "plt.show()"
   ]
  },
  {
   "cell_type": "code",
   "execution_count": null,
   "metadata": {},
   "outputs": [],
   "source": [
    "fig.savefig('internaldist23')"
   ]
  },
  {
   "cell_type": "code",
   "execution_count": null,
   "metadata": {},
   "outputs": [],
   "source": [
    "%%time\n",
    "fig, ax = plt.subplots()\n",
    "fig.set_size_inches(16, 6)\n",
    "ds['temperature24'].plot(ax=ax)\n",
    "plt.show()                                                "
   ]
  },
  {
   "cell_type": "code",
   "execution_count": null,
   "metadata": {},
   "outputs": [],
   "source": [
    "%%time\n",
    "from dask.diagnostics import ProgressBar\n",
    "with ProgressBar():\n",
    "    df = ds['temperature24'].to_dataframe()\n",
    "    df = df.resample('min').mean()"
   ]
  },
  {
   "cell_type": "code",
   "execution_count": null,
   "metadata": {},
   "outputs": [],
   "source": [
    "%%time\n",
    "plt.close()                                  \n",
    "fig, ax = plt.subplots()\n",
    "fig.set_size_inches(16, 6)\n",
    "df['temperature24'].plot(ax=ax)\n",
    "df['temperature24'].resample('H').mean().plot(ax=ax)\n",
    "df['temperature24'].resample('D').mean().plot(ax=ax)\n",
    "ax.set_ylabel(\"Seawater Temperature in Spatial Grid 24 [C]\")\n",
    "plt.show()"
   ]
  },
  {
   "cell_type": "code",
   "execution_count": null,
   "metadata": {},
   "outputs": [],
   "source": [
    "fig.savefig('internaldist24')"
   ]
  },
  {
   "cell_type": "code",
   "execution_count": null,
   "metadata": {},
   "outputs": [],
   "source": []
  },
  {
   "cell_type": "code",
   "execution_count": null,
   "metadata": {},
   "outputs": [],
   "source": []
  },
  {
   "cell_type": "code",
   "execution_count": null,
   "metadata": {},
   "outputs": [],
   "source": []
  },
  {
   "cell_type": "code",
   "execution_count": null,
   "metadata": {},
   "outputs": [],
   "source": []
  },
  {
   "cell_type": "code",
   "execution_count": null,
   "metadata": {},
   "outputs": [],
   "source": []
  },
  {
   "cell_type": "code",
   "execution_count": null,
   "metadata": {},
   "outputs": [],
   "source": []
  },
  {
   "cell_type": "code",
   "execution_count": null,
   "metadata": {},
   "outputs": [],
   "source": []
  }
 ],
 "metadata": {
  "kernelspec": {
   "display_name": "Python 3",
   "language": "python",
   "name": "python3"
  },
  "language_info": {
   "codemirror_mode": {
    "name": "ipython",
    "version": 3
   },
   "file_extension": ".py",
   "mimetype": "text/x-python",
   "name": "python",
   "nbconvert_exporter": "python",
   "pygments_lexer": "ipython3",
   "version": "3.6.6"
  }
 },
 "nbformat": 4,
 "nbformat_minor": 2
}
