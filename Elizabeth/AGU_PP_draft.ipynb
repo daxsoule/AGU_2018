{
 "cells": [
  {
   "cell_type": "markdown",
   "metadata": {},
   "source": [
    "# Markdown PowerPoint Draft"
   ]
  },
  {
   "cell_type": "markdown",
   "metadata": {},
   "source": [
    "### Exploring Diffuse Temperature Flow, Seismicity, and Tidal Pressure Controls on Flocculation Events at Axial Seamount "
   ]
  },
  {
   "cell_type": "markdown",
   "metadata": {},
   "source": [
    "Good morning and thank you for coming. I am Elizabeth Pesar, I’m a geology student at Queens College of the City University of New York. Today we’re going to be discussing correlations between floc events, diffuse hydrothermal flow, and seafloor bottom pressure signals at Axial Seamount volcano as its magma chamber re-inflates. This is a collaborative work between many gifted scientists including my fellow geology student Emilio Tesin, our mentor Dax Soule at Queens College, and Tim Crone of Columbia University’s Lamont Doherty Earth Observatory. We would like to thank Deb Kelley and Friedrich Knuth of the University of Washington, the entire crew of the R/V Roger Revelle, the staff of the Ocean Observatories Initiative, and in particular Meethila Rahman formerly of Queens College, without whom none of this would be possible. \n"
   ]
  },
  {
   "cell_type": "markdown",
   "metadata": {},
   "source": [
    "### Cabled Array"
   ]
  },
  {
   "cell_type": "code",
   "execution_count": null,
   "metadata": {},
   "outputs": [],
   "source": [
    "from IPython.display import Image\n",
    "Image(filename='cabled array.png')"
   ]
  },
  {
   "cell_type": "markdown",
   "metadata": {},
   "source": [
    "This is a diagram of Ocean Observatory Initiative’s Cabled Array off the coast of OR and WA. Going live in 2015, the Cabled Array provides real-time data from a diverse set of instruments at different sites connected by a fiberoptic cable spanning the entire Juan de Fuca tectonic plate. Axial Seamount is located toward the far west. Together, the instrumentation network at ASHES Vent Field and the International District at Axial form the most comprehensive underwater volcanic observatory in the world. We chose to study data from CamHD, TMPSF, and five Short-Period Ocean Bottom Seismometers, all located in ASHES Vent Field.\n"
   ]
  },
  {
   "cell_type": "markdown",
   "metadata": {},
   "source": [
    "### Queens College aboard the R/V Roger Revelle"
   ]
  },
  {
   "cell_type": "code",
   "execution_count": null,
   "metadata": {},
   "outputs": [],
   "source": [
    "from IPython.display import Image\n",
    "Image(filename='ctd.png')"
   ]
  },
  {
   "cell_type": "markdown",
   "metadata": {},
   "source": [
    "Every summer, the oceanographic research vessel Roger Revelle sails to the different sites along the Cabled Array to perform maintenance and take samples. For 2 years running, Queens College students have had the privilege of participating as Visions interns aboard the R/V Roger Revelle.  In 2017, Queens College students assisted as the ROV Jason was deployed on multiple dives. In 2018, we witnessed a new CamHD system being installed at Axial’s base, and assisted with the CTD (conductivity, temperature, depth) device. Here, you can see Emilio working on the CTD. \n"
   ]
  },
  {
   "cell_type": "markdown",
   "metadata": {},
   "source": [
    "### Axial Bathymetry"
   ]
  },
  {
   "cell_type": "code",
   "execution_count": null,
   "metadata": {},
   "outputs": [],
   "source": [
    "from IPython.display import Image\n",
    "Image(filename='axial_bath.png')"
   ]
  },
  {
   "cell_type": "markdown",
   "metadata": {},
   "source": [
    "Axial Seamount, which is located on the Juan de Fuca plate in the northeast Pacific is one of the best studied and most active submarine volcanoes in the world. It erupts semi regularly about once every 4-13 years, allowing us to closely study eruption cycles. Its most recent eruptions have occurred in 1998, 2011, and 2015 and it is showings signs of erupting again between 2020-2022. Here, you’re looking at a bathymetric representation of Axial. \n"
   ]
  },
  {
   "cell_type": "markdown",
   "metadata": {},
   "source": [
    "### Axial Instruments"
   ]
  },
  {
   "cell_type": "code",
   "execution_count": null,
   "metadata": {},
   "outputs": [],
   "source": [
    "from IPython.display import Image\n",
    "Image(filename='axial_instruments.PNG')"
   ]
  },
  {
   "cell_type": "markdown",
   "metadata": {},
   "source": [
    "Here is a more detailed map of Axial Seamount and its instruments. The five Short Period Ocean Bottom Seismometers are circled in green, CamHD is circled in red, and TMPSF is circled in blue. Now let’s have a closer look at these instruments. \n"
   ]
  },
  {
   "cell_type": "markdown",
   "metadata": {},
   "source": [
    "### CamHD"
   ]
  },
  {
   "cell_type": "code",
   "execution_count": null,
   "metadata": {},
   "outputs": [],
   "source": [
    "from IPython.display import Image\n",
    "Image(filename='camHD.PNG')"
   ]
  },
  {
   "cell_type": "markdown",
   "metadata": {},
   "source": [
    "### TMPSF"
   ]
  },
  {
   "cell_type": "code",
   "execution_count": null,
   "metadata": {},
   "outputs": [],
   "source": [
    "from IPython.display import Image\n",
    "Image(filename='tmpsf.PNG')"
   ]
  },
  {
   "cell_type": "markdown",
   "metadata": {},
   "source": [
    "This is the 3D thermistor array, or TMPSF. TMPSF consists of a set of 4 stacked triangular arrays with 24 sensor nodes that measure 3-D diffuse temperature flow about once every 9 to 12 seconds. We can use this to tell current direction and flow patterns through the instrument, as well as be alerted to fluxes of geothermal activity. It was installed next to one of the active hydrothermal vent fields in 2014 and we have plotted data from all 24 sensors.\n"
   ]
  },
  {
   "cell_type": "markdown",
   "metadata": {},
   "source": [
    "### OBSSPs"
   ]
  },
  {
   "cell_type": "code",
   "execution_count": null,
   "metadata": {},
   "outputs": [],
   "source": [
    "from IPython.display import Image\n",
    "Image(filename='OBSSP.PNG')"
   ]
  },
  {
   "cell_type": "markdown",
   "metadata": {},
   "source": [
    "Five Short Period Ocean Bottom Seismometers have been deployed at Axial volcano. These instruments detect small earthquakes, subsurface melt movement, and subsurface hydrothermal fluid flow. You can tell that it’s level in the photo from the black dot in the middle of the yellow circle.  \n"
   ]
  },
  {
   "cell_type": "code",
   "execution_count": null,
   "metadata": {},
   "outputs": [],
   "source": []
  },
  {
   "cell_type": "code",
   "execution_count": null,
   "metadata": {},
   "outputs": [],
   "source": []
  },
  {
   "cell_type": "code",
   "execution_count": null,
   "metadata": {},
   "outputs": [],
   "source": []
  },
  {
   "cell_type": "code",
   "execution_count": null,
   "metadata": {},
   "outputs": [],
   "source": []
  }
 ],
 "metadata": {
  "kernelspec": {
   "display_name": "Python 3",
   "language": "python",
   "name": "python3"
  },
  "language_info": {
   "codemirror_mode": {
    "name": "ipython",
    "version": 3
   },
   "file_extension": ".py",
   "mimetype": "text/x-python",
   "name": "python",
   "nbconvert_exporter": "python",
   "pygments_lexer": "ipython3",
   "version": "3.6.6"
  }
 },
 "nbformat": 4,
 "nbformat_minor": 2
}
