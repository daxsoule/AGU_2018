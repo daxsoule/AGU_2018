{
 "cells": [
  {
   "cell_type": "markdown",
   "metadata": {},
   "source": [
    "# One hour fluid flow from TMPSF"
   ]
  },
  {
   "cell_type": "markdown",
   "metadata": {},
   "source": [
    "We've previously determined that August and January have been seismic maximums and minimums respectively. I took 2 sets of contiguous 3 sensors and looked at 60 minutes of temperature readings in August and January. Sensors 4, 11, and 18 are stacked on top of one another. 11, 12, 3 make a right angle with 12 at the hinge. "
   ]
  },
  {
   "cell_type": "code",
   "execution_count": null,
   "metadata": {},
   "outputs": [],
   "source": [
    "import requests\n",
    "import datetime\n",
    "import matplotlib.pyplot as plt\n",
    "import seaborn as sns \n",
    "sns.set()\n",
    "import numpy as np"
   ]
  },
  {
   "cell_type": "code",
   "execution_count": null,
   "metadata": {},
   "outputs": [],
   "source": [
    "USERNAME = 'OOIAPI-M8QQMKQSFYJ299'\n",
    "TOKEN =  'TEMP-TOKEN-GJAGBOQSN4ZE8B'"
   ]
  },
  {
   "cell_type": "markdown",
   "metadata": {},
   "source": [
    "### August 22 10-11 am"
   ]
  },
  {
   "cell_type": "code",
   "execution_count": null,
   "metadata": {},
   "outputs": [],
   "source": [
    "subsite = 'RS03ASHS'\n",
    "node = 'MJ03B'\n",
    "sensor = '07-TMPSFA301'\n",
    "method = 'streamed'\n",
    "stream = 'tmpsf_sample'\n",
    "beginDT = '2018-08-22T10:01:01.000Z'\n",
    "endDT = '2018-08-22T11:01:01.000Z'"
   ]
  },
  {
   "cell_type": "code",
   "execution_count": null,
   "metadata": {},
   "outputs": [],
   "source": [
    "base_url = 'https://ooinet.oceanobservatories.org/api/m2m/12576/sensor/inv/'\n",
    "\n",
    "data_request_url ='/'.join((base_url,subsite,node,sensor,method,stream))\n",
    "params = {\n",
    "    'beginDT':beginDT,\n",
    "    'endDT':endDT,\n",
    "    'limit':1000,   \n",
    "}\n",
    "\n",
    "\n",
    "r = requests.get(data_request_url, params=params, auth=(USERNAME, TOKEN))\n",
    "data = r.json()"
   ]
  },
  {
   "cell_type": "code",
   "execution_count": null,
   "metadata": {},
   "outputs": [],
   "source": [
    "data[0]"
   ]
  },
  {
   "cell_type": "code",
   "execution_count": null,
   "metadata": {},
   "outputs": [],
   "source": [
    "import netCDF4 as nc"
   ]
  },
  {
   "cell_type": "code",
   "execution_count": null,
   "metadata": {},
   "outputs": [],
   "source": [
    "time = []\n",
    "temperature01 = []\n",
    "\n",
    "for i in range(len(data)):\n",
    "    time.append(nc.num2date(data[i]['time'],'seconds since 1900-01-01').replace(microsecond=0))\n",
    "    temperature01.append(data[i]['temperature01'])"
   ]
  },
  {
   "cell_type": "code",
   "execution_count": null,
   "metadata": {},
   "outputs": [],
   "source": [
    "temperature04 = []\n",
    "for i in range(len(data)):\n",
    "    temperature04.append(data[i]['temperature04'])"
   ]
  },
  {
   "cell_type": "code",
   "execution_count": null,
   "metadata": {},
   "outputs": [],
   "source": [
    "temperature11 = []\n",
    "for i in range(len(data)):\n",
    "    temperature11.append(data[i]['temperature11'])"
   ]
  },
  {
   "cell_type": "code",
   "execution_count": null,
   "metadata": {},
   "outputs": [],
   "source": [
    "temperature18 = []\n",
    "for i in range(len(data)):\n",
    "    temperature18.append(data[i]['temperature18'])"
   ]
  },
  {
   "cell_type": "code",
   "execution_count": null,
   "metadata": {},
   "outputs": [],
   "source": [
    "fig, (ax1, ax2, ax3) = plt.subplots(3, sharex=True, sharey=True)\n",
    "ax1.plot(time, temperature18, marker=\".\", markersize=1, linestyle=None)\n",
    "ax2.plot(time, temperature11, marker=\".\", markersize=1, linestyle=None)\n",
    "ax3.plot(time, temperature04, marker=\".\", markersize=1, linestyle=None)\n",
    "ax1.set_ylabel('T18 $^\\circ$C')\n",
    "ax2.set_ylabel('T11 $^\\circ$C')\n",
    "ax3.set_ylabel('T04 $^\\circ$C')\n",
    "plt.xlabel('Time')\n",
    "plt.xticks(rotation=30)\n",
    "plt.tight_layout()\n",
    "# fig.subplots_adjust(hspace=0)\n",
    "plt.setp([a.get_xticklabels() for a in fig.axes[:-1]], visible=False)\n",
    "plt.show()"
   ]
  },
  {
   "cell_type": "markdown",
   "metadata": {},
   "source": [
    "The 3 graphs together show a hump that looks as if it is moving upward from sensor 4."
   ]
  },
  {
   "cell_type": "code",
   "execution_count": null,
   "metadata": {},
   "outputs": [],
   "source": [
    "temperature11 = []\n",
    "for i in range(len(data)):\n",
    "    temperature11.append(data[i]['temperature11'])"
   ]
  },
  {
   "cell_type": "code",
   "execution_count": null,
   "metadata": {},
   "outputs": [],
   "source": [
    "temperature12 = []\n",
    "for i in range(len(data)):\n",
    "    temperature12.append(data[i]['temperature12'])"
   ]
  },
  {
   "cell_type": "code",
   "execution_count": null,
   "metadata": {},
   "outputs": [],
   "source": [
    "temperature03 = []\n",
    "for i in range(len(data)):\n",
    "    temperature03.append(data[i]['temperature03'])"
   ]
  },
  {
   "cell_type": "code",
   "execution_count": null,
   "metadata": {},
   "outputs": [],
   "source": [
    "fig, (ax1, ax2, ax3) = plt.subplots(3, sharex=True, sharey=True)\n",
    "ax1.plot(time, temperature11, marker=\".\", markersize=1, linestyle=None)\n",
    "ax2.plot(time, temperature12, marker=\".\", markersize=1, linestyle=None)\n",
    "ax3.plot(time, temperature03, marker=\".\", markersize=1, linestyle=None)\n",
    "ax1.set_ylabel('T11 $^\\circ$C')\n",
    "ax2.set_ylabel('T12 $^\\circ$C')\n",
    "ax3.set_ylabel('T03 $^\\circ$C')\n",
    "plt.xlabel('Time')\n",
    "plt.xticks(rotation=30)\n",
    "plt.tight_layout()\n",
    "# fig.subplots_adjust(hspace=0)\n",
    "plt.setp([a.get_xticklabels() for a in fig.axes[:-1]], visible=False)\n",
    "plt.show()"
   ]
  },
  {
   "cell_type": "markdown",
   "metadata": {},
   "source": [
    "Hump of fluid flowing up through sensor 3, through 12, then 11, and getting bigger?"
   ]
  },
  {
   "cell_type": "markdown",
   "metadata": {},
   "source": [
    "### January 22 10-11 am"
   ]
  },
  {
   "cell_type": "markdown",
   "metadata": {},
   "source": [
    "I used the same sets of 3 sensors for the seismic minimum period."
   ]
  },
  {
   "cell_type": "code",
   "execution_count": null,
   "metadata": {},
   "outputs": [],
   "source": [
    "subsite = 'RS03ASHS'\n",
    "node = 'MJ03B'\n",
    "sensor = '07-TMPSFA301'\n",
    "method = 'streamed'\n",
    "stream = 'tmpsf_sample'\n",
    "beginDT = '2018-01-22T10:01:01.000Z'\n",
    "endDT = '2018-01-22T11:01:01.000Z'"
   ]
  },
  {
   "cell_type": "code",
   "execution_count": null,
   "metadata": {},
   "outputs": [],
   "source": [
    "base_url = 'https://ooinet.oceanobservatories.org/api/m2m/12576/sensor/inv/'\n",
    "\n",
    "data_request_url ='/'.join((base_url,subsite,node,sensor,method,stream))\n",
    "params = {\n",
    "    'beginDT':beginDT,\n",
    "    'endDT':endDT,\n",
    "    'limit':1000,   \n",
    "}\n",
    "\n",
    "\n",
    "r = requests.get(data_request_url, params=params, auth=(USERNAME, TOKEN))\n",
    "data = r.json()"
   ]
  },
  {
   "cell_type": "code",
   "execution_count": null,
   "metadata": {},
   "outputs": [],
   "source": [
    "data[0]"
   ]
  },
  {
   "cell_type": "code",
   "execution_count": null,
   "metadata": {},
   "outputs": [],
   "source": [
    "temperature04 = []\n",
    "for i in range(len(data)):\n",
    "    temperature04.append(data[i]['temperature04'])"
   ]
  },
  {
   "cell_type": "code",
   "execution_count": null,
   "metadata": {},
   "outputs": [],
   "source": [
    "temperature11 = []\n",
    "for i in range(len(data)):\n",
    "    temperature11.append(data[i]['temperature11'])"
   ]
  },
  {
   "cell_type": "code",
   "execution_count": null,
   "metadata": {},
   "outputs": [],
   "source": [
    "temperature18 = []\n",
    "for i in range(len(data)):\n",
    "    temperature18.append(data[i]['temperature18'])"
   ]
  },
  {
   "cell_type": "code",
   "execution_count": null,
   "metadata": {},
   "outputs": [],
   "source": [
    "fig, (ax1, ax2, ax3) = plt.subplots(3, sharex=True, sharey=True)\n",
    "ax1.plot(time, temperature18, marker=\".\", markersize=1, linestyle=None)\n",
    "ax2.plot(time, temperature11, marker=\".\", markersize=1, linestyle=None)\n",
    "ax3.plot(time, temperature04, marker=\".\", markersize=1, linestyle=None)\n",
    "ax1.set_ylabel('T18 $^\\circ$C')\n",
    "ax2.set_ylabel('T11 $^\\circ$C')\n",
    "ax3.set_ylabel('T04 $^\\circ$C')\n",
    "plt.xlabel('Time')\n",
    "plt.xticks(rotation=30)\n",
    "plt.tight_layout()\n",
    "# fig.subplots_adjust(hspace=0)\n",
    "plt.setp([a.get_xticklabels() for a in fig.axes[:-1]], visible=False)\n",
    "plt.show()"
   ]
  },
  {
   "cell_type": "markdown",
   "metadata": {},
   "source": [
    "As seen above, fluid looks like it's flowing from 4 -> 11 -> 12, same as in August."
   ]
  },
  {
   "cell_type": "code",
   "execution_count": null,
   "metadata": {},
   "outputs": [],
   "source": [
    "temperature11 = []\n",
    "for i in range(len(data)):\n",
    "    temperature11.append(data[i]['temperature11'])"
   ]
  },
  {
   "cell_type": "code",
   "execution_count": null,
   "metadata": {},
   "outputs": [],
   "source": [
    "temperature12 = []\n",
    "for i in range(len(data)):\n",
    "    temperature12.append(data[i]['temperature12'])"
   ]
  },
  {
   "cell_type": "code",
   "execution_count": null,
   "metadata": {},
   "outputs": [],
   "source": [
    "temperature03 = []\n",
    "for i in range(len(data)):\n",
    "    temperature03.append(data[i]['temperature03'])"
   ]
  },
  {
   "cell_type": "code",
   "execution_count": null,
   "metadata": {},
   "outputs": [],
   "source": [
    "fig, (ax1, ax2, ax3) = plt.subplots(3, sharex=True, sharey=True)\n",
    "ax1.plot(time, temperature11, marker=\".\", markersize=1, linestyle=None)\n",
    "ax2.plot(time, temperature12, marker=\".\", markersize=1, linestyle=None)\n",
    "ax3.plot(time, temperature03, marker=\".\", markersize=1, linestyle=None)\n",
    "ax1.set_ylabel('T11 $^\\circ$C')\n",
    "ax2.set_ylabel('T12 $^\\circ$C')\n",
    "ax3.set_ylabel('T03 $^\\circ$C')\n",
    "plt.xlabel('Time')\n",
    "plt.xticks(rotation=30)\n",
    "plt.tight_layout()\n",
    "# fig.subplots_adjust(hspace=0)\n",
    "plt.setp([a.get_xticklabels() for a in fig.axes[:-1]], visible=False)\n",
    "plt.show()"
   ]
  },
  {
   "cell_type": "markdown",
   "metadata": {},
   "source": [
    "Sensors 3 and 12 look like they were affected by the same temperature signal. "
   ]
  },
  {
   "cell_type": "code",
   "execution_count": null,
   "metadata": {},
   "outputs": [],
   "source": []
  }
 ],
 "metadata": {
  "kernelspec": {
   "display_name": "Python 3",
   "language": "python",
   "name": "python3"
  },
  "language_info": {
   "codemirror_mode": {
    "name": "ipython",
    "version": 3
   },
   "file_extension": ".py",
   "mimetype": "text/x-python",
   "name": "python",
   "nbconvert_exporter": "python",
   "pygments_lexer": "ipython3",
   "version": "3.6.6"
  }
 },
 "nbformat": 4,
 "nbformat_minor": 2
}
